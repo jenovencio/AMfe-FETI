{
 "cells": [
  {
   "cell_type": "code",
   "execution_count": 1,
   "metadata": {},
   "outputs": [
    {
     "name": "stdout",
     "output_type": "stream",
     "text": [
      "\n",
      "Python was not able to load the fast fortran material routines.\n",
      "\n"
     ]
    },
    {
     "data": {
      "image/png": "[encoded data removed]",
      "text/plain": [
       "<Figure size 800x400 with 1 Axes>"
      ]
     },
     "metadata": {},
     "output_type": "display_data"
    }
   ],
   "source": [
    "# importing lib and setting a list of meshes to be tested\n",
    "import sys \n",
    "import amfe\n",
    "import matplotlib.pyplot as plt\n",
    "import numpy as np\n",
    "import scipy\n",
    "import copy\n",
    "import pandas as pd\n",
    "%matplotlib inline \n",
    "\n",
    "msh_dict = {}\n",
    "msh_dict[0] = amfe.amfe_dir('meshes/test_meshes/1_rectangle_8_elem.msh')\n",
    "msh_dict[1] = mshfile = amfe.amfe_dir('meshes/test_meshes/1_rectangle_2_elem.msh')\n",
    "\n",
    "\n",
    "\n",
    "domain_id = {}\n",
    "domain_id[0] = 6\n",
    "domain_id[1] = 6\n",
    "\n",
    "# select mesh to be plotted\n",
    "mesh_id1 = 0\n",
    "mshfile = msh_dict[mesh_id1]\n",
    "\n",
    "m1 = amfe.Mesh()\n",
    "m1.import_msh(mshfile)\n",
    "\n",
    "fig, ax1=plt.subplots(1,figsize=(10, 5), dpi= 80, facecolor='w', edgecolor='k')\n",
    "amfe.plot_mesh(m1,ax1)\n",
    "plt.show()"
   ]
  },
  {
   "cell_type": "code",
   "execution_count": 2,
   "metadata": {},
   "outputs": [
    {
     "name": "stdout",
     "output_type": "stream",
     "text": [
      "Preallocating the stiffness matrix\n",
      "Done preallocating stiffness matrix with 8 elements and 30 dofs.\n",
      "Time taken for preallocation: 0.00 seconds.\n",
      "Attention: No linear solver was given, setting linear_solver = PardisoSolver.\n",
      "Attention: No pseudo time evaluation was given, setting t = 1.0.\n",
      "Assembling external force and stiffness...\n",
      "Start solving linear static problem...\n",
      "Static problem solved.\n"
     ]
    },
    {
     "name": "stderr",
     "output_type": "stream",
     "text": [
      "C:\\Users\\ge72tih\\AppData\\Local\\Continuum\\anaconda3\\envs\\py36\\lib\\site-packages\\scipy\\sparse\\sputils.py:115: UserWarning: object dtype is not supported by sparse matrices\n",
      "  warnings.warn(\"object dtype is not supported by sparse matrices\")\n"
     ]
    },
    {
     "data": {
      "application/vnd.jupyter.widget-view+json": {
       "model_id": "015599adbe3345eb9b5ecb87d926a9f8",
       "version_major": 2,
       "version_minor": 0
      },
      "text/plain": [
       "interactive(children=(IntSlider(value=1, description='scale', max=200, step=10), Output()), _dom_classes=('wid…"
      ]
     },
     "metadata": {},
     "output_type": "display_data"
    },
    {
     "data": {
      "text/plain": [
       "<function __main__.plot_static(scale=1)>"
      ]
     },
     "execution_count": 2,
     "metadata": {},
     "output_type": "execute_result"
    }
   ],
   "source": [
    "#creating material\n",
    "my_material = amfe.KirchhoffMaterial(E=210E9, nu=0.3, rho=7.86E3, plane_stress=True, thickness=0.1)\n",
    "\n",
    "value = 1e8\n",
    "my_comp = amfe.MechanicalSystem()\n",
    "my_comp.set_mesh_obj(m1)\n",
    "my_comp.set_domain(6,my_material)\n",
    "my_comp.apply_dirichlet_boundaries(1, 'xy')\n",
    "my_comp.apply_neumann_boundaries(3, value, 'normal')\n",
    "s = amfe.LinearStaticsSolver(my_comp)\n",
    "s.solve()\n",
    "\n",
    "from ipywidgets import interact, interactive, fixed, interact_manual\n",
    "import ipywidgets as widgets\n",
    "\n",
    "def plot_static(scale=1):\n",
    "    fig, ax1=plt.subplots(1,figsize=(10, 5), dpi= 50, facecolor='w', edgecolor='k')\n",
    "    amfe.plot_system_solution(my_comp, factor=scale, ax = ax1)\n",
    "    plt.show()\n",
    "    \n",
    "interact(plot_static,scale=(0,200,10))  "
   ]
  },
  {
   "cell_type": "code",
   "execution_count": 3,
   "metadata": {},
   "outputs": [
    {
     "data": {
      "text/plain": [
       "array([ 0.00000000e+00,  0.00000000e+00,  1.88550475e-02,  1.42679198e-03,\n",
       "        1.88550475e-02, -1.42679198e-03,  0.00000000e+00,  0.00000000e+00,\n",
       "        4.71427131e-03,  1.47246263e-03,  9.33251220e-03,  1.46061914e-03,\n",
       "        1.40908040e-02,  1.42880215e-03,  1.88567871e-02, -1.55070186e-16,\n",
       "        1.40908040e-02, -1.42880215e-03,  9.33251220e-03, -1.46061914e-03,\n",
       "        4.71427131e-03, -1.47246263e-03,  0.00000000e+00,  0.00000000e+00,\n",
       "        4.39413414e-03, -6.67505170e-16,  9.32248446e-03, -1.50818132e-15,\n",
       "        1.40976857e-02, -2.05047557e-15])"
      ]
     },
     "execution_count": 3,
     "metadata": {},
     "output_type": "execute_result"
    }
   ],
   "source": [
    "my_comp.u_output[1]"
   ]
  },
  {
   "cell_type": "code",
   "execution_count": 4,
   "metadata": {},
   "outputs": [
    {
     "data": {
      "image/png": "[encoded data removed]",
      "text/plain": [
       "<Figure size 500x250 with 1 Axes>"
      ]
     },
     "metadata": {},
     "output_type": "display_data"
    },
    {
     "data": {
      "image/png": "[encoded data removed]",
      "text/plain": [
       "<Figure size 500x250 with 1 Axes>"
      ]
     },
     "metadata": {},
     "output_type": "display_data"
    }
   ],
   "source": [
    "# select mesh to be plotted\n",
    "mesh_id1 = 1\n",
    "mshfile = msh_dict[mesh_id1]\n",
    "\n",
    "m2 = amfe.Mesh()\n",
    "m2.import_msh(mshfile)\n",
    "\n",
    "m3 = m2.translation([2,0,0])\n",
    "\n",
    "\n",
    "fig, ax1=plt.subplots(1,figsize=(10, 5), dpi= 50, facecolor='w', edgecolor='k')\n",
    "amfe.plot_mesh(m2,ax1)\n",
    "\n",
    "fig, ax2=plt.subplots(1,figsize=(10, 5), dpi= 50, facecolor='w', edgecolor='k')\n",
    "amfe.plot_mesh(m3,ax2)\n",
    "plt.show()"
   ]
  },
  {
   "cell_type": "code",
   "execution_count": 5,
   "metadata": {},
   "outputs": [
    {
     "data": {
      "image/png": "[encoded data removed]",
      "text/plain": [
       "<Figure size 500x250 with 1 Axes>"
      ]
     },
     "metadata": {},
     "output_type": "display_data"
    }
   ],
   "source": [
    "# creating material\n",
    "my_material = amfe.KirchhoffMaterial(E=210E9, nu=0.3, rho=7.86E3, plane_stress=True, thickness=0.1)\n",
    "\n",
    "# append domains to MechanicalAssembly\n",
    "my_system = amfe.MechanicalAssembly()\n",
    "\n",
    "submesh1 = m2.set_domain('phys_group',domain_id[1])\n",
    "submesh2 = m3.set_domain('phys_group',domain_id[1])\n",
    "\n",
    "my_system.append_domain(submesh1, my_material, 1)\n",
    "my_system.append_domain(submesh2, my_material, 2)\n",
    "my_system.update_global_system()\n",
    "\n",
    "\n",
    "# select submesh for interfaces\n",
    "sub_int1 = my_system.get_submesh(1,3)\n",
    "sub_int2 = my_system.get_submesh(2,1)\n",
    "my_system.add_bonded_interface_constraint(sub_int1,sub_int2)\n",
    "my_system.update_global_system()\n",
    "\n",
    "# replacing phys tags to avoid conflict\n",
    "my_system.change_domain_physical_tag(2,1,5)\n",
    "my_system.change_domain_physical_tag(1,3,7)\n",
    "my_system.update_global_system()\n",
    "\n",
    "\n",
    "# mesh of one turbine section\n",
    "m4 = my_system.get_global_mesh()\n",
    "\n",
    "fig, ax1=plt.subplots(1,figsize=(10, 5), dpi= 50, facecolor='w', edgecolor='k')\n",
    "amfe.plot_mesh(m4,ax1)\n",
    "plt.show()"
   ]
  },
  {
   "cell_type": "code",
   "execution_count": 6,
   "metadata": {},
   "outputs": [
    {
     "data": {
      "text/html": [
       "<div>\n",
       "<style scoped>\n",
       "    .dataframe tbody tr th:only-of-type {\n",
       "        vertical-align: middle;\n",
       "    }\n",
       "\n",
       "    .dataframe tbody tr th {\n",
       "        vertical-align: top;\n",
       "    }\n",
       "\n",
       "    .dataframe thead th {\n",
       "        text-align: right;\n",
       "    }\n",
       "</style>\n",
       "<table border=\"1\" class=\"dataframe\">\n",
       "  <thead>\n",
       "    <tr style=\"text-align: right;\">\n",
       "      <th></th>\n",
       "      <th>idx_gmsh</th>\n",
       "      <th>local_idx</th>\n",
       "      <th>el_type</th>\n",
       "      <th>no_of_tags</th>\n",
       "      <th>phys_group</th>\n",
       "      <th>geom_entity</th>\n",
       "      <th>no_of_mesh_partitions</th>\n",
       "      <th>partition_id</th>\n",
       "      <th>partitions_neighbors</th>\n",
       "      <th>domain</th>\n",
       "      <th>5</th>\n",
       "      <th>6</th>\n",
       "      <th>7</th>\n",
       "      <th>8</th>\n",
       "    </tr>\n",
       "  </thead>\n",
       "  <tbody>\n",
       "    <tr>\n",
       "      <th>0</th>\n",
       "      <td>1</td>\n",
       "      <td>1</td>\n",
       "      <td>straight_line</td>\n",
       "      <td>2</td>\n",
       "      <td>2</td>\n",
       "      <td>1</td>\n",
       "      <td>1</td>\n",
       "      <td>1</td>\n",
       "      <td>None</td>\n",
       "      <td>1</td>\n",
       "      <td>0</td>\n",
       "      <td>4</td>\n",
       "      <td>NaN</td>\n",
       "      <td>NaN</td>\n",
       "    </tr>\n",
       "    <tr>\n",
       "      <th>1</th>\n",
       "      <td>2</td>\n",
       "      <td>2</td>\n",
       "      <td>straight_line</td>\n",
       "      <td>2</td>\n",
       "      <td>2</td>\n",
       "      <td>1</td>\n",
       "      <td>1</td>\n",
       "      <td>1</td>\n",
       "      <td>None</td>\n",
       "      <td>1</td>\n",
       "      <td>4</td>\n",
       "      <td>1</td>\n",
       "      <td>NaN</td>\n",
       "      <td>NaN</td>\n",
       "    </tr>\n",
       "    <tr>\n",
       "      <th>2</th>\n",
       "      <td>3</td>\n",
       "      <td>3</td>\n",
       "      <td>straight_line</td>\n",
       "      <td>2</td>\n",
       "      <td>7</td>\n",
       "      <td>2</td>\n",
       "      <td>1</td>\n",
       "      <td>1</td>\n",
       "      <td>None</td>\n",
       "      <td>1</td>\n",
       "      <td>1</td>\n",
       "      <td>2</td>\n",
       "      <td>NaN</td>\n",
       "      <td>NaN</td>\n",
       "    </tr>\n",
       "    <tr>\n",
       "      <th>3</th>\n",
       "      <td>4</td>\n",
       "      <td>4</td>\n",
       "      <td>straight_line</td>\n",
       "      <td>2</td>\n",
       "      <td>4</td>\n",
       "      <td>3</td>\n",
       "      <td>1</td>\n",
       "      <td>1</td>\n",
       "      <td>None</td>\n",
       "      <td>1</td>\n",
       "      <td>2</td>\n",
       "      <td>5</td>\n",
       "      <td>NaN</td>\n",
       "      <td>NaN</td>\n",
       "    </tr>\n",
       "    <tr>\n",
       "      <th>4</th>\n",
       "      <td>5</td>\n",
       "      <td>5</td>\n",
       "      <td>straight_line</td>\n",
       "      <td>2</td>\n",
       "      <td>4</td>\n",
       "      <td>3</td>\n",
       "      <td>1</td>\n",
       "      <td>1</td>\n",
       "      <td>None</td>\n",
       "      <td>1</td>\n",
       "      <td>5</td>\n",
       "      <td>3</td>\n",
       "      <td>NaN</td>\n",
       "      <td>NaN</td>\n",
       "    </tr>\n",
       "    <tr>\n",
       "      <th>5</th>\n",
       "      <td>6</td>\n",
       "      <td>6</td>\n",
       "      <td>straight_line</td>\n",
       "      <td>2</td>\n",
       "      <td>1</td>\n",
       "      <td>4</td>\n",
       "      <td>1</td>\n",
       "      <td>1</td>\n",
       "      <td>None</td>\n",
       "      <td>1</td>\n",
       "      <td>3</td>\n",
       "      <td>0</td>\n",
       "      <td>NaN</td>\n",
       "      <td>NaN</td>\n",
       "    </tr>\n",
       "    <tr>\n",
       "      <th>6</th>\n",
       "      <td>7</td>\n",
       "      <td>7</td>\n",
       "      <td>Quad4</td>\n",
       "      <td>2</td>\n",
       "      <td>6</td>\n",
       "      <td>1</td>\n",
       "      <td>1</td>\n",
       "      <td>1</td>\n",
       "      <td>None</td>\n",
       "      <td>1</td>\n",
       "      <td>5</td>\n",
       "      <td>3</td>\n",
       "      <td>0.0</td>\n",
       "      <td>4.0</td>\n",
       "    </tr>\n",
       "    <tr>\n",
       "      <th>7</th>\n",
       "      <td>8</td>\n",
       "      <td>8</td>\n",
       "      <td>Quad4</td>\n",
       "      <td>2</td>\n",
       "      <td>6</td>\n",
       "      <td>1</td>\n",
       "      <td>1</td>\n",
       "      <td>1</td>\n",
       "      <td>-2</td>\n",
       "      <td>1</td>\n",
       "      <td>5</td>\n",
       "      <td>4</td>\n",
       "      <td>1.0</td>\n",
       "      <td>2.0</td>\n",
       "    </tr>\n",
       "    <tr>\n",
       "      <th>8</th>\n",
       "      <td>9</td>\n",
       "      <td>1</td>\n",
       "      <td>straight_line</td>\n",
       "      <td>2</td>\n",
       "      <td>2</td>\n",
       "      <td>1</td>\n",
       "      <td>1</td>\n",
       "      <td>2</td>\n",
       "      <td>None</td>\n",
       "      <td>2</td>\n",
       "      <td>1</td>\n",
       "      <td>10</td>\n",
       "      <td>NaN</td>\n",
       "      <td>NaN</td>\n",
       "    </tr>\n",
       "    <tr>\n",
       "      <th>9</th>\n",
       "      <td>10</td>\n",
       "      <td>2</td>\n",
       "      <td>straight_line</td>\n",
       "      <td>2</td>\n",
       "      <td>2</td>\n",
       "      <td>1</td>\n",
       "      <td>1</td>\n",
       "      <td>2</td>\n",
       "      <td>None</td>\n",
       "      <td>2</td>\n",
       "      <td>10</td>\n",
       "      <td>7</td>\n",
       "      <td>NaN</td>\n",
       "      <td>NaN</td>\n",
       "    </tr>\n",
       "    <tr>\n",
       "      <th>10</th>\n",
       "      <td>11</td>\n",
       "      <td>3</td>\n",
       "      <td>straight_line</td>\n",
       "      <td>2</td>\n",
       "      <td>3</td>\n",
       "      <td>2</td>\n",
       "      <td>1</td>\n",
       "      <td>2</td>\n",
       "      <td>None</td>\n",
       "      <td>2</td>\n",
       "      <td>7</td>\n",
       "      <td>8</td>\n",
       "      <td>NaN</td>\n",
       "      <td>NaN</td>\n",
       "    </tr>\n",
       "    <tr>\n",
       "      <th>11</th>\n",
       "      <td>12</td>\n",
       "      <td>4</td>\n",
       "      <td>straight_line</td>\n",
       "      <td>2</td>\n",
       "      <td>4</td>\n",
       "      <td>3</td>\n",
       "      <td>1</td>\n",
       "      <td>2</td>\n",
       "      <td>None</td>\n",
       "      <td>2</td>\n",
       "      <td>8</td>\n",
       "      <td>11</td>\n",
       "      <td>NaN</td>\n",
       "      <td>NaN</td>\n",
       "    </tr>\n",
       "    <tr>\n",
       "      <th>12</th>\n",
       "      <td>13</td>\n",
       "      <td>5</td>\n",
       "      <td>straight_line</td>\n",
       "      <td>2</td>\n",
       "      <td>4</td>\n",
       "      <td>3</td>\n",
       "      <td>1</td>\n",
       "      <td>2</td>\n",
       "      <td>None</td>\n",
       "      <td>2</td>\n",
       "      <td>11</td>\n",
       "      <td>2</td>\n",
       "      <td>NaN</td>\n",
       "      <td>NaN</td>\n",
       "    </tr>\n",
       "    <tr>\n",
       "      <th>13</th>\n",
       "      <td>14</td>\n",
       "      <td>6</td>\n",
       "      <td>straight_line</td>\n",
       "      <td>2</td>\n",
       "      <td>5</td>\n",
       "      <td>4</td>\n",
       "      <td>1</td>\n",
       "      <td>2</td>\n",
       "      <td>None</td>\n",
       "      <td>2</td>\n",
       "      <td>2</td>\n",
       "      <td>1</td>\n",
       "      <td>NaN</td>\n",
       "      <td>NaN</td>\n",
       "    </tr>\n",
       "    <tr>\n",
       "      <th>14</th>\n",
       "      <td>15</td>\n",
       "      <td>7</td>\n",
       "      <td>Quad4</td>\n",
       "      <td>2</td>\n",
       "      <td>6</td>\n",
       "      <td>1</td>\n",
       "      <td>1</td>\n",
       "      <td>2</td>\n",
       "      <td>-1</td>\n",
       "      <td>2</td>\n",
       "      <td>11</td>\n",
       "      <td>2</td>\n",
       "      <td>1.0</td>\n",
       "      <td>10.0</td>\n",
       "    </tr>\n",
       "    <tr>\n",
       "      <th>15</th>\n",
       "      <td>16</td>\n",
       "      <td>8</td>\n",
       "      <td>Quad4</td>\n",
       "      <td>2</td>\n",
       "      <td>6</td>\n",
       "      <td>1</td>\n",
       "      <td>1</td>\n",
       "      <td>2</td>\n",
       "      <td>None</td>\n",
       "      <td>2</td>\n",
       "      <td>11</td>\n",
       "      <td>10</td>\n",
       "      <td>7.0</td>\n",
       "      <td>8.0</td>\n",
       "    </tr>\n",
       "  </tbody>\n",
       "</table>\n",
       "</div>"
      ],
      "text/plain": [
       "    idx_gmsh  local_idx        el_type  no_of_tags  phys_group  geom_entity  \\\n",
       "0          1          1  straight_line           2           2            1   \n",
       "1          2          2  straight_line           2           2            1   \n",
       "2          3          3  straight_line           2           7            2   \n",
       "3          4          4  straight_line           2           4            3   \n",
       "4          5          5  straight_line           2           4            3   \n",
       "5          6          6  straight_line           2           1            4   \n",
       "6          7          7          Quad4           2           6            1   \n",
       "7          8          8          Quad4           2           6            1   \n",
       "8          9          1  straight_line           2           2            1   \n",
       "9         10          2  straight_line           2           2            1   \n",
       "10        11          3  straight_line           2           3            2   \n",
       "11        12          4  straight_line           2           4            3   \n",
       "12        13          5  straight_line           2           4            3   \n",
       "13        14          6  straight_line           2           5            4   \n",
       "14        15          7          Quad4           2           6            1   \n",
       "15        16          8          Quad4           2           6            1   \n",
       "\n",
       "    no_of_mesh_partitions  partition_id partitions_neighbors  domain   5   6  \\\n",
       "0                       1             1                 None       1   0   4   \n",
       "1                       1             1                 None       1   4   1   \n",
       "2                       1             1                 None       1   1   2   \n",
       "3                       1             1                 None       1   2   5   \n",
       "4                       1             1                 None       1   5   3   \n",
       "5                       1             1                 None       1   3   0   \n",
       "6                       1             1                 None       1   5   3   \n",
       "7                       1             1                   -2       1   5   4   \n",
       "8                       1             2                 None       2   1  10   \n",
       "9                       1             2                 None       2  10   7   \n",
       "10                      1             2                 None       2   7   8   \n",
       "11                      1             2                 None       2   8  11   \n",
       "12                      1             2                 None       2  11   2   \n",
       "13                      1             2                 None       2   2   1   \n",
       "14                      1             2                   -1       2  11   2   \n",
       "15                      1             2                 None       2  11  10   \n",
       "\n",
       "      7     8  \n",
       "0   NaN   NaN  \n",
       "1   NaN   NaN  \n",
       "2   NaN   NaN  \n",
       "3   NaN   NaN  \n",
       "4   NaN   NaN  \n",
       "5   NaN   NaN  \n",
       "6   0.0   4.0  \n",
       "7   1.0   2.0  \n",
       "8   NaN   NaN  \n",
       "9   NaN   NaN  \n",
       "10  NaN   NaN  \n",
       "11  NaN   NaN  \n",
       "12  NaN   NaN  \n",
       "13  NaN   NaN  \n",
       "14  1.0  10.0  \n",
       "15  7.0   8.0  "
      ]
     },
     "execution_count": 6,
     "metadata": {},
     "output_type": "execute_result"
    }
   ],
   "source": [
    "my_system.el_df"
   ]
  },
  {
   "cell_type": "code",
   "execution_count": 7,
   "metadata": {},
   "outputs": [
    {
     "ename": "TypeError",
     "evalue": "argument of type 'int' is not iterable",
     "output_type": "error",
     "traceback": [
      "\u001b[1;31m---------------------------------------------------------------------------\u001b[0m",
      "\u001b[1;31mTypeError\u001b[0m                                 Traceback (most recent call last)",
      "\u001b[1;32m<ipython-input-7-9a9235edd0be>\u001b[0m in \u001b[0;36m<module>\u001b[1;34m()\u001b[0m\n\u001b[0;32m     13\u001b[0m \u001b[0msub_int1\u001b[0m \u001b[1;33m=\u001b[0m \u001b[0mglobal_system\u001b[0m\u001b[1;33m.\u001b[0m\u001b[0mget_submesh\u001b[0m\u001b[1;33m(\u001b[0m\u001b[1;36m1\u001b[0m\u001b[1;33m,\u001b[0m\u001b[1;36m4\u001b[0m\u001b[1;33m)\u001b[0m\u001b[1;33m\u001b[0m\u001b[0m\n\u001b[0;32m     14\u001b[0m \u001b[0msub_int2\u001b[0m \u001b[1;33m=\u001b[0m \u001b[0mglobal_system\u001b[0m\u001b[1;33m.\u001b[0m\u001b[0mget_submesh\u001b[0m\u001b[1;33m(\u001b[0m\u001b[1;36m2\u001b[0m\u001b[1;33m,\u001b[0m\u001b[1;36m2\u001b[0m\u001b[1;33m)\u001b[0m\u001b[1;33m\u001b[0m\u001b[0m\n\u001b[1;32m---> 15\u001b[1;33m \u001b[0mglobal_system\u001b[0m\u001b[1;33m.\u001b[0m\u001b[0madd_bonded_interface_constraint\u001b[0m\u001b[1;33m(\u001b[0m\u001b[0msub_int1\u001b[0m\u001b[1;33m,\u001b[0m\u001b[0msub_int2\u001b[0m\u001b[1;33m)\u001b[0m\u001b[1;33m\u001b[0m\u001b[0m\n\u001b[0m\u001b[0;32m     16\u001b[0m \u001b[0mglobal_system\u001b[0m\u001b[1;33m.\u001b[0m\u001b[0mupdate_global_system\u001b[0m\u001b[1;33m(\u001b[0m\u001b[1;33m)\u001b[0m\u001b[1;33m\u001b[0m\u001b[0m\n\u001b[0;32m     17\u001b[0m \u001b[1;33m\u001b[0m\u001b[0m\n",
      "\u001b[1;32mh:\\tum-pc\\dokumente\\projects\\amfe\\amfe\\mechanical_system.py\u001b[0m in \u001b[0;36madd_bonded_interface_constraint\u001b[1;34m(self, submesh1, submesh2, tol)\u001b[0m\n\u001b[0;32m   1458\u001b[0m             \u001b[1;32mfor\u001b[0m \u001b[0mpartition_key_1\u001b[0m \u001b[1;32min\u001b[0m \u001b[0minterface_elem_dict_2\u001b[0m\u001b[1;33m:\u001b[0m\u001b[1;33m\u001b[0m\u001b[0m\n\u001b[0;32m   1459\u001b[0m                 \u001b[0melem_interface_2\u001b[0m \u001b[1;33m=\u001b[0m \u001b[0minterface_elem_dict_2\u001b[0m\u001b[1;33m[\u001b[0m\u001b[0mpartition_key_1\u001b[0m\u001b[1;33m]\u001b[0m\u001b[1;33m\u001b[0m\u001b[0m\n\u001b[1;32m-> 1460\u001b[1;33m                 \u001b[0mself\u001b[0m\u001b[1;33m.\u001b[0m\u001b[0mupdate_partitions_neighbors_in_dataframe\u001b[0m\u001b[1;33m(\u001b[0m\u001b[0melem_interface_2\u001b[0m\u001b[1;33m,\u001b[0m\u001b[0mpartition_key_2\u001b[0m\u001b[1;33m)\u001b[0m\u001b[1;33m\u001b[0m\u001b[0m\n\u001b[0m\u001b[0;32m   1461\u001b[0m                 \u001b[0mself\u001b[0m\u001b[1;33m.\u001b[0m\u001b[0mupdate_partitions_neighbors_in_dataframe\u001b[0m\u001b[1;33m(\u001b[0m\u001b[0melem_interface_1\u001b[0m\u001b[1;33m,\u001b[0m\u001b[0mpartition_key_1\u001b[0m\u001b[1;33m)\u001b[0m\u001b[1;33m\u001b[0m\u001b[0m\n\u001b[0;32m   1462\u001b[0m \u001b[1;33m\u001b[0m\u001b[0m\n",
      "\u001b[1;32mh:\\tum-pc\\dokumente\\projects\\amfe\\amfe\\mechanical_system.py\u001b[0m in \u001b[0;36mupdate_partitions_neighbors_in_dataframe\u001b[1;34m(self, elem_list, partitions_neighbors)\u001b[0m\n\u001b[0;32m   1597\u001b[0m                 \u001b[0mself\u001b[0m\u001b[1;33m.\u001b[0m\u001b[0mel_df\u001b[0m\u001b[1;33m.\u001b[0m\u001b[0mloc\u001b[0m\u001b[1;33m[\u001b[0m\u001b[0melem\u001b[0m\u001b[1;33m,\u001b[0m\u001b[1;34m'partitions_neighbors'\u001b[0m\u001b[1;33m]\u001b[0m \u001b[1;33m=\u001b[0m \u001b[1;33m[\u001b[0m\u001b[1;33m-\u001b[0m\u001b[0mpartitions_neighbors\u001b[0m\u001b[1;33m]\u001b[0m\u001b[1;33m\u001b[0m\u001b[0m\n\u001b[0;32m   1598\u001b[0m             \u001b[1;32melse\u001b[0m\u001b[1;33m:\u001b[0m\u001b[1;33m\u001b[0m\u001b[0m\n\u001b[1;32m-> 1599\u001b[1;33m                 \u001b[1;32mif\u001b[0m \u001b[1;33m-\u001b[0m\u001b[0mpartitions_neighbors\u001b[0m \u001b[1;32mnot\u001b[0m \u001b[1;32min\u001b[0m \u001b[0mself\u001b[0m\u001b[1;33m.\u001b[0m\u001b[0mel_df\u001b[0m\u001b[1;33m.\u001b[0m\u001b[0mloc\u001b[0m\u001b[1;33m[\u001b[0m\u001b[0melem\u001b[0m\u001b[1;33m,\u001b[0m\u001b[1;34m'partitions_neighbors'\u001b[0m\u001b[1;33m]\u001b[0m\u001b[1;33m:\u001b[0m\u001b[1;33m\u001b[0m\u001b[0m\n\u001b[0m\u001b[0;32m   1600\u001b[0m                     \u001b[0mself\u001b[0m\u001b[1;33m.\u001b[0m\u001b[0mel_df\u001b[0m\u001b[1;33m.\u001b[0m\u001b[0mloc\u001b[0m\u001b[1;33m[\u001b[0m\u001b[0melem\u001b[0m\u001b[1;33m,\u001b[0m\u001b[1;34m'partitions_neighbors'\u001b[0m\u001b[1;33m]\u001b[0m\u001b[1;33m.\u001b[0m\u001b[0mappend\u001b[0m\u001b[1;33m(\u001b[0m \u001b[1;33m-\u001b[0m\u001b[0mpartitions_neighbors\u001b[0m\u001b[1;33m)\u001b[0m\u001b[1;33m\u001b[0m\u001b[0m\n\u001b[0;32m   1601\u001b[0m \u001b[1;33m\u001b[0m\u001b[0m\n",
      "\u001b[1;31mTypeError\u001b[0m: argument of type 'int' is not iterable"
     ]
    }
   ],
   "source": [
    "# mesh of one turbine section\n",
    "m5 = m4.translation([0,1,0])\n",
    "\n",
    "submesh4 = m4.set_domain('phys_group',domain_id[1])\n",
    "submesh5 = m5.set_domain('phys_group',domain_id[1])\n",
    "\n",
    "global_system = amfe.MechanicalAssembly()\n",
    "global_system.append_domain(submesh4, my_material, 1)\n",
    "global_system.append_domain(submesh5, my_material, 2)\n",
    "global_system.update_global_system()\n",
    "\n",
    "# select submesh for interfaces\n",
    "sub_int1 = global_system.get_submesh(1,4)\n",
    "sub_int2 = global_system.get_submesh(2,2)\n",
    "global_system.add_bonded_interface_constraint(sub_int1,sub_int2)\n",
    "global_system.update_global_system()\n",
    "\n",
    "new_mesh2 = global_system.get_global_mesh()\n",
    "fig, ax1=plt.subplots(1,figsize=(10, 5), dpi= 50, facecolor='w', edgecolor='k')\n",
    "amfe.plot_mesh(new_mesh2,ax1,False)\n",
    "plt.show()"
   ]
  },
  {
   "cell_type": "code",
   "execution_count": null,
   "metadata": {
    "collapsed": true
   },
   "outputs": [],
   "source": [
    "my_comp2 = amfe.MechanicalSystem()\n",
    "my_comp2.set_mesh_obj(copy.deepcopy(new_mesh2))\n",
    "my_comp2.set_domain(6,my_material)\n",
    "my_comp2.apply_dirichlet_boundaries(1, 'xy')\n",
    "my_comp2.apply_neumann_boundaries(3, value, 'normal')\n",
    "s1 = amfe.LinearStaticsSolver(my_comp2)\n",
    "s1.solve()\n",
    "\n",
    "from ipywidgets import interact, interactive, fixed, interact_manual\n",
    "import ipywidgets as widgets\n",
    "\n",
    "def plot_static(scale=1):\n",
    "    fig, ax1=plt.subplots(1,figsize=(10, 5), dpi= 50, facecolor='w', edgecolor='k')\n",
    "    amfe.plot_system_solution(my_comp2, factor=scale, ax = ax1)\n",
    "    plt.show()\n",
    "    \n",
    "interact(plot_static,scale=(0,200,10))  "
   ]
  },
  {
   "cell_type": "code",
   "execution_count": null,
   "metadata": {
    "collapsed": true
   },
   "outputs": [],
   "source": [
    "u2 = np.sort(my_comp2.u_output[1])\n",
    "u1 = np.sort(my_comp.u_output[1])\n",
    "plt.plot(u1,u2,'o')\n",
    "plt.show()"
   ]
  },
  {
   "cell_type": "code",
   "execution_count": null,
   "metadata": {
    "collapsed": true
   },
   "outputs": [],
   "source": [
    "# select submesh for Neumann B.C\n",
    "sub_neu1 = global_system.get_submesh(2,3)\n",
    "sub_neu2 = global_system.get_submesh(1,3)\n",
    "\n",
    "# select submesh for Dirichlet\n",
    "sub_dir1 = global_system.get_submesh(1,1)\n",
    "sub_dir2 = global_system.get_submesh(2,1)\n",
    "\n",
    "value = 1.0e8\n",
    "global_system.apply_neumann_boundaries(sub_neu1,value)\n",
    "global_system.apply_neumann_boundaries(sub_neu2,value)\n",
    "global_system.apply_dirichlet_boundaries(sub_dir1,0.0,'xy')\n",
    "global_system.apply_dirichlet_boundaries(sub_dir2,0.0,'xy')\n",
    "\n",
    "global_system.update_domain()\n",
    "\n",
    "global_system.el_df\n",
    "\n"
   ]
  },
  {
   "cell_type": "code",
   "execution_count": null,
   "metadata": {
    "collapsed": true
   },
   "outputs": [],
   "source": [
    "global_mesh = global_system.get_global_mesh()\n",
    "\n",
    "fig, ax1=plt.subplots(1,figsize=(10, 5), dpi= 50, facecolor='w', edgecolor='k')\n",
    "amfe.plot_mesh(global_mesh ,ax1,False)\n",
    "plt.show()"
   ]
  },
  {
   "cell_type": "code",
   "execution_count": null,
   "metadata": {
    "collapsed": true
   },
   "outputs": [],
   "source": [
    "domain = global_system\n",
    "domain.split_in_partitions()\n",
    "\n",
    "super_domain = amfe.SuperDomain(domain.groups)\n",
    "B = super_domain.assemble_global_B()\n",
    "Kd, fd = super_domain.assemble_block_stiffness_and_force()\n",
    "G, e = super_domain.assemble_global_G_and_e()\n",
    "F, d = super_domain.assemble_F_and_d()\n",
    "\n",
    "n_null = len(e) # null space size\n",
    "n_int = len(d) # interface size\n",
    "Zeros = np.zeros([n_null ,n_null])\n",
    "\n",
    "A1 = np.hstack((F,G.T))\n",
    "A2 = np.hstack((G,Zeros))\n",
    "\n",
    "A = np.vstack((A1,A2))\n",
    "b = np.concatenate((d,e))\n",
    "\n",
    "# Dual interface problem\n",
    "x = np.linalg.solve(A,b)\n",
    "global_lambda = x[:n_int]\n",
    "alpha = x[n_int:]\n",
    "\n",
    "global_alpha = alpha\n",
    "\n",
    "u = super_domain.eval_subdomain_displacement(global_lambda,alpha)"
   ]
  },
  {
   "cell_type": "code",
   "execution_count": null,
   "metadata": {
    "collapsed": true
   },
   "outputs": [],
   "source": [
    "global_lambda"
   ]
  },
  {
   "cell_type": "code",
   "execution_count": null,
   "metadata": {
    "collapsed": true
   },
   "outputs": [],
   "source": [
    "from ipywidgets import interact, interactive, fixed, interact_manual\n",
    "import ipywidgets as widgets\n",
    "\n",
    "def plot_static(scale=0):\n",
    "    connectivity = {}\n",
    "    nodes = {}\n",
    "    fig, ax1=plt.subplots(1,figsize=(10, 5), dpi= 50, facecolor='w', edgecolor='k')\n",
    "    for sub_key in super_domain.domains_key_list:\n",
    "        sub = super_domain.get_feti_subdomains(sub_key)\n",
    "        connectivity[sub_key] = sub.mesh.connectivity\n",
    "        nodes[sub_key] = sub.mesh.nodes\n",
    "        quad, ax = amfe.plotDeformQuadMesh(connectivity[sub_key],nodes[sub_key],u[sub_key],scale,ax1) \n",
    "          \n",
    "    plt.show()\n",
    "\n",
    "interact(plot_static,scale=(0,200,5))  "
   ]
  },
  {
   "cell_type": "code",
   "execution_count": null,
   "metadata": {
    "collapsed": true
   },
   "outputs": [],
   "source": [
    "my_system = copy.deepcopy(domain)\n",
    "u_dual_int = amfe.FetiSolver.average_displacement_calc(my_system, super_domain.feti_subdomains_dict)\n",
    "my_system.u_output.append(u_dual_int*0.0)\n",
    "my_system.u_output.append(u_dual_int)\n",
    "\n",
    "def plot_static(scale=1):\n",
    "    fig, ax1=plt.subplots(1,figsize=(10, 5), dpi= 50, facecolor='w', edgecolor='k')\n",
    "    amfe.plot_system_solution(my_system, factor=scale, ax = ax1)\n",
    "    #plt.xlim([-7,7])\n",
    "    #plt.ylim([-7,7])\n",
    "    plt.show()\n",
    "    \n",
    "interact(plot_static,scale=(0,200,5))  "
   ]
  },
  {
   "cell_type": "code",
   "execution_count": null,
   "metadata": {
    "collapsed": true
   },
   "outputs": [],
   "source": [
    "u_2 = my_comp2.u_output[1]\n",
    "u_3 =u_dual_int\n",
    "plt.plot(u_2,u_3,'o')\n",
    "plt.show()"
   ]
  },
  {
   "cell_type": "code",
   "execution_count": null,
   "metadata": {
    "collapsed": true
   },
   "outputs": [],
   "source": [
    "domain.problem_type = 2\n",
    "amfe.FetiSolver.linear_static(domain, directory='temp2')"
   ]
  },
  {
   "cell_type": "code",
   "execution_count": null,
   "metadata": {
    "collapsed": true
   },
   "outputs": [],
   "source": [
    "amfe.plot_submesh(domain.groups[1])\n",
    "plt.show()"
   ]
  },
  {
   "cell_type": "code",
   "execution_count": null,
   "metadata": {
    "collapsed": true
   },
   "outputs": [],
   "source": [
    "# solving the project Dual interface problem\n",
    "I = np.eye(n_int,n_int)\n",
    "GTG = G.T.dot(G)\n",
    "GGT =  G.dot(G.T)\n",
    "GTe = G.T.dot(e)\n",
    "P = I - G.T.dot(np.linalg.inv(GGT)).dot(G)\n",
    "\n",
    "# Solving lamda im\n",
    "lambda_im = G.T.dot(np.linalg.solve(GGT,e))"
   ]
  },
  {
   "cell_type": "code",
   "execution_count": null,
   "metadata": {
    "collapsed": true
   },
   "outputs": [],
   "source": [
    "r0 = d - F.dot(lambda_im)\n",
    "n_int = len(r0)\n",
    "\n",
    "GGT_inv = np.linalg.inv(GGT)\n",
    "F_action = lambda x : F.dot(x)\n",
    "P_action = lambda w : (np.eye(n_int) - G.T.dot(GGT_inv).dot(G)).dot(w)\n",
    "\n",
    "lambda_ker, last_res, proj_r_hist, lambda_hist = amfe.PCGP(F_action,r0,P_action)\n",
    "lambda_sol =  lambda_im + lambda_ker\n",
    "\n",
    "dtil = d - F_action(lambda_sol)\n",
    "alpha_pgc = np.linalg.solve(GGT,G.dot(dtil))\n",
    "u = super_domain.eval_subdomain_displacement(lambda_sol,alpha_pgc)"
   ]
  },
  {
   "cell_type": "code",
   "execution_count": null,
   "metadata": {
    "collapsed": true
   },
   "outputs": [],
   "source": [
    "def plot_static(scale=0):\n",
    "    connectivity = {}\n",
    "    nodes = {}\n",
    "    fig, ax1=plt.subplots(1,figsize=(10, 5), dpi= 50, facecolor='w', edgecolor='k')\n",
    "    for sub_key in super_domain.domains_key_list:\n",
    "        sub = super_domain.get_feti_subdomains(sub_key)\n",
    "        connectivity[sub_key] = sub.mesh.connectivity\n",
    "        nodes[sub_key] = sub.mesh.nodes\n",
    "        quad, ax = amfe.plotDeformQuadMesh(connectivity[sub_key],nodes[sub_key],u[sub_key],scale,ax1) \n",
    "          \n",
    "    plt.show()\n",
    "\n",
    "interact(plot_static,scale=(0,200,5))"
   ]
  },
  {
   "cell_type": "code",
   "execution_count": null,
   "metadata": {
    "collapsed": true
   },
   "outputs": [],
   "source": [
    "plt.plot(np.sort(lambda_sol),np.sort(global_lambda),'o')\n",
    "plt.show()"
   ]
  },
  {
   "cell_type": "code",
   "execution_count": null,
   "metadata": {
    "collapsed": true
   },
   "outputs": [],
   "source": [
    "def PCGP(F,dhat,lambda_ker,Precond=None,tol=1.e-6,max_int = 500, save_arnold=False):\n",
    "    # step 1\n",
    "    beta = 0.0\n",
    "    rk = dhat\n",
    "    interface_size = lambda_ker.shape[0]\n",
    "    lambda_ker = np.zeros(interface_size)\n",
    "    \n",
    "    if Precond is None:\n",
    "        Precond = np.eye(interface_size,interface_size)\n",
    "\n",
    "    alpha_list = []\n",
    "    beta_list = []\n",
    "    Q_list = []\n",
    "    #step 2\n",
    "    yk2 = np.zeros(interface_size)\n",
    "    yk1 = np.zeros(interface_size)\n",
    "    wk1 = np.zeros(interface_size)\n",
    "\n",
    "    res = []\n",
    "    for k in range(max_int):\n",
    "        wk = P.dot(rk)\n",
    "\n",
    "        norm_wk = np.linalg.norm(wk)\n",
    "        res.append(norm_wk)\n",
    "        if norm_wk<tol:\n",
    "            print('PCG has converged after %i' %(k+1))\n",
    "            break\n",
    "\n",
    "        zk = Precond.dot(wk)\n",
    "        yk = P.dot(zk)\n",
    "\n",
    "        if k>1:\n",
    "            #calc beta\n",
    "            beta = yk.T.dot(wk)/yk1.T.dot(wk1)\n",
    "        else:\n",
    "            pk1 = yk\n",
    "\n",
    "        pk = yk + beta*pk1\n",
    "        Fpk = F.dot(pk)\n",
    "        ak = yk.T.dot(wk)/pk.T.dot(Fpk)\n",
    "        lambda_ker = lambda_ker + ak*pk\n",
    "        \n",
    "        #store pass data\n",
    "        alpha_list.append(yk.T.dot(wk))\n",
    "        beta_list.append(norm_wk)\n",
    "        Q_list.append(wk)\n",
    "        \n",
    "        rk = rk - ak*Fpk\n",
    "        \n",
    "        # set n - 1 data\n",
    "        yk1 = yk\n",
    "        pk1 = pk\n",
    "        wk1 = wk\n",
    "\n",
    "\n",
    "    lambda_pgc = lambda_ker + lambda_im\n",
    "    \n",
    "    if save_arnold:\n",
    "        return lambda_pgc, res, alpha_list,beta_list,Q_list\n",
    "\n",
    "    return lambda_pgc, res\n",
    "\n",
    "P = I - G.T.dot(np.linalg.inv(GGT)).dot(G)\n",
    "dhat = d - F_action.dot(lambda_im)\n",
    "lambda_pgc, res = PCGP(F_action,dhat,lambda_ker)\n",
    "dtil = d - F_action(lambda_pgc)\n",
    "\n",
    "alpha_pgc = np.linalg.solve(GGT,G.dot(dtil))\n",
    "u = super_domain.eval_subdomain_displacement(lambda_pgc,alpha_pgc)"
   ]
  },
  {
   "cell_type": "code",
   "execution_count": null,
   "metadata": {
    "collapsed": true
   },
   "outputs": [],
   "source": [
    "def plot_static(scale=0):\n",
    "    connectivity = {}\n",
    "    nodes = {}\n",
    "    fig, ax1=plt.subplots(1,figsize=(10, 5), dpi= 50, facecolor='w', edgecolor='k')\n",
    "    for sub_key in super_domain.domains_key_list:\n",
    "        sub = super_domain.get_feti_subdomains(sub_key)\n",
    "        connectivity[sub_key] = sub.mesh.connectivity\n",
    "        nodes[sub_key] = sub.mesh.nodes\n",
    "        quad, ax = amfe.plotDeformQuadMesh(connectivity[sub_key],nodes[sub_key],u[sub_key],scale,ax1) \n",
    "          \n",
    "    plt.show()\n",
    "\n",
    "interact(plot_static,scale=(0,200,5))"
   ]
  },
  {
   "cell_type": "code",
   "execution_count": null,
   "metadata": {
    "collapsed": true
   },
   "outputs": [],
   "source": [
    "global_lambda"
   ]
  },
  {
   "cell_type": "code",
   "execution_count": null,
   "metadata": {
    "collapsed": true
   },
   "outputs": [],
   "source": []
  }
 ],
 "metadata": {
  "kernelspec": {
   "display_name": "Python (py36)",
   "language": "python",
   "name": "py36"
  },
  "language_info": {
   "codemirror_mode": {
    "name": "ipython",
    "version": 3
   },
   "file_extension": ".py",
   "mimetype": "text/x-python",
   "name": "python",
   "nbconvert_exporter": "python",
   "pygments_lexer": "ipython3",
   "version": "3.6.3"
  }
 },
 "nbformat": 4,
 "nbformat_minor": 2
}
