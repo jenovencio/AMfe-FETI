{
 "cells": [
  {
   "cell_type": "code",
   "execution_count": 1,
   "metadata": {},
   "outputs": [
    {
     "name": "stdout",
     "output_type": "stream",
     "text": [
      "\n",
      "Python was not able to load the fast fortran material routines.\n",
      "\n"
     ]
    },
    {
     "data": {
      "image/png": "[encoded data removed]",
      "text/plain": [
       "<Figure size 800x400 with 1 Axes>"
      ]
     },
     "metadata": {},
     "output_type": "display_data"
    }
   ],
   "source": [
    "import sys \n",
    "sys.path.append(r'H:\\TUM-PC\\Dokumente\\Projects\\AMfe')\n",
    "\n",
    "import amfe\n",
    "import matplotlib.pyplot as plt\n",
    "%matplotlib inline \n",
    "import numpy as np\n",
    "import scipy\n",
    "import copy\n",
    "import pandas as pd\n",
    "\n",
    "msh_dict = {}\n",
    "msh_dict[0] = amfe.amfe_dir('meshes/test_meshes/1_rectangle_8_elem.msh')\n",
    "msh_dict[1] = amfe.amfe_dir('meshes/test_meshes/retangule_5_by_2_quad_par_1.msh')\n",
    "msh_dict[2] = amfe.amfe_dir('meshes/test_meshes/retangule_5_by_2_ref_quad_par_1.msh')\n",
    "msh_dict[3] = amfe.amfe_dir('meshes/test_meshes/retangule_5_by_2_ref_tri_par_1.msh')\n",
    "msh_dict[4] = amfe.amfe_dir('meshes/test_meshes/retangule_5_by_2_tri_par_1.msh')\n",
    "msh_dict[5] = amfe.amfe_dir('meshes/test_meshes/retangule_square_hole_5_by_2_ref_tri_par_1.msh')\n",
    "msh_dict[6] = amfe.amfe_dir('meshes/test_meshes/retangule_square_hole_5_by_2_quad_par_1.msh')\n",
    "\n",
    "domain_id = {}\n",
    "domain_id[0] = 6\n",
    "domain_id[1] = 6\n",
    "domain_id[2] = 6\n",
    "domain_id[3] = 6\n",
    "domain_id[4] = 6\n",
    "domain_id[5] = 6\n",
    "domain_id[6] = 6\n",
    "\n",
    "bc = {}\n",
    "bc[0] = [3,1,2]\n",
    "bc[1] = [3,1,10]\n",
    "bc[2] = [3,1,10]\n",
    "bc[3] = [3,1,10]\n",
    "bc[4] = [3,1,10]\n",
    "bc[5] = [3,1,10]\n",
    "bc[6] = [3,1,10]\n",
    "\n",
    "# select mesh to be plotted\n",
    "id = 1\n",
    "mshfile = msh_dict[id]\n",
    "\n",
    "# instanciating mesh class\n",
    "m1 = amfe.Mesh()\n",
    "m1.import_msh(mshfile)\n",
    "\n",
    "\n",
    "fig, ax1=plt.subplots(1,figsize=(10, 5), dpi= 80, facecolor='w', edgecolor='k')\n",
    "amfe.plot_mesh(m1,ax1)\n",
    "plt.show()"
   ]
  },
  {
   "cell_type": "code",
   "execution_count": 2,
   "metadata": {},
   "outputs": [
    {
     "name": "stdout",
     "output_type": "stream",
     "text": [
      "*************************************************************\n",
      "\n",
      " phys_group 6 with 8 elements successfully added.\n",
      "Total number of elements in mesh: 8\n",
      "*************************************************************\n",
      "Preallocating the stiffness matrix\n",
      "Done preallocating stiffness matrix with 8 elements and 30 dofs.\n",
      "Time taken for preallocation: 0.00 seconds.\n",
      "\n",
      " phys_group 3 with 2 elements successfully added to Neumann Boundary.\n",
      "Total number of neumann elements in mesh: 2\n",
      "Total number of elements in mesh: 8\n",
      "*************************************************************\n",
      "\n",
      " phys_group 1 with 3 nodes successfully added to Dirichlet Boundaries.\n",
      "Total number of nodes with Dirichlet BCs: 3\n",
      "Total number of constrained dofs: 3\n",
      "*************************************************************\n",
      "\n",
      " phys_group 2 with 5 nodes successfully added to Dirichlet Boundaries.\n",
      "Total number of nodes with Dirichlet BCs: 7\n",
      "Total number of constrained dofs: 8\n",
      "*************************************************************\n",
      "Attention: No linear solver was given, setting linear_solver = PardisoSolver.\n",
      "Attention: No pseudo time evaluation was given, setting t = 1.0.\n",
      "Assembling external force and stiffness...\n",
      "Start solving linear static problem...\n",
      "Static problem solved.\n",
      "\n",
      " phys_group 3 with 2 elements successfully added to Neumann Boundary.\n",
      "Total number of neumann elements in mesh: 2\n",
      "Total number of elements in mesh: 8\n",
      "*************************************************************\n",
      "\n",
      " phys_group 1 with 2 elements successfully added to Neumann Boundary.\n",
      "Total number of neumann elements in mesh: 4\n",
      "Total number of elements in mesh: 8\n",
      "*************************************************************\n"
     ]
    },
    {
     "name": "stderr",
     "output_type": "stream",
     "text": [
      "C:\\Users\\ge72tih\\AppData\\Local\\Continuum\\anaconda3\\envs\\py36\\lib\\site-packages\\scipy\\sparse\\sputils.py:115: UserWarning: object dtype is not supported by sparse matrices\n",
      "  warnings.warn(\"object dtype is not supported by sparse matrices\")\n",
      "C:\\Users\\ge72tih\\AppData\\Local\\Continuum\\anaconda3\\envs\\py36\\lib\\site-packages\\scipy\\sparse\\compressed.py:746: SparseEfficiencyWarning: Changing the sparsity structure of a csc_matrix is expensive. lil_matrix is more efficient.\n",
      "  SparseEfficiencyWarning)\n"
     ]
    }
   ],
   "source": [
    "my_material = amfe.KirchhoffMaterial(E=210E9, nu=0.3, rho=7.86E3, plane_stress=True, thickness=0.1)\n",
    "\n",
    "value = 1e8\n",
    "my_comp = amfe.MechanicalSystem()\n",
    "my_comp.set_mesh_obj(m1)\n",
    "my_comp.set_domain(domain_id[id],my_material)\n",
    "\n",
    "my_comp2 = copy.deepcopy(my_comp)\n",
    "\n",
    "\n",
    "# solving problem with dirichlet\n",
    "my_comp.apply_neumann_boundaries(bc[id][0], value, 'normal')\n",
    "my_comp.apply_dirichlet_boundaries(bc[id][1],'x')\n",
    "my_comp.apply_dirichlet_boundaries(bc[id][2],'y')\n",
    "s = amfe.LinearStaticsSolver(my_comp)\n",
    "s.solve()\n",
    "\n",
    "ue = my_comp.u_output[1]\n",
    "# solving problem with pure Neumman\n",
    "my_comp2.apply_neumann_boundaries(bc[id][0], value, 'normal')\n",
    "my_comp2.apply_neumann_boundaries(bc[id][1], value, 'normal')\n",
    "\n",
    "K, f_ext = my_comp2.assembly_class.assemble_k_and_f_neumann()\n",
    "K, f_int = my_comp2.assembly_class.assemble_k_and_f()\n",
    "\n",
    "K_inv = amfe.amna.pinv_and_null_space.compute(K,solver_opt='splusps')\n",
    "R = K_inv.null_space\n",
    "\n",
    "u_p = K_inv.apply(f_ext)\n",
    "\n",
    "my_comp2.u_output.append(0*u_p)\n",
    "my_comp2.u_output.append(u_p)\n",
    "\n",
    "# checking with is possible to apply Rigid Body Correction to get to the same solution\n",
    "error = ue - u_p\n",
    "alpha = np.linalg.solve(R.T.dot(R),R.T.dot(error))\n",
    "\n",
    "u_corr = K_inv.calc_kernel_correction(alpha)\n",
    "new_error = ue - (u_p + u_corr)\n",
    "norm_error = np.linalg.norm(new_error)\n",
    "norm_ue = np.linalg.norm(ue)\n",
    "\n",
    "ratio = norm_error/norm_ue\n",
    "u_sol = u_p + u_corr\n",
    "my_comp2.u_output[1] = u_sol\n",
    "\n",
    "\n",
    "\n"
   ]
  },
  {
   "cell_type": "code",
   "execution_count": 3,
   "metadata": {},
   "outputs": [
    {
     "data": {
      "application/vnd.jupyter.widget-view+json": {
       "model_id": "9b7f72f9a3844a099ee7302f101be565",
       "version_major": 2,
       "version_minor": 0
      },
      "text/plain": [
       "interactive(children=(IntSlider(value=1, description='scale', max=200, step=5), Output()), _dom_classes=('widg…"
      ]
     },
     "metadata": {},
     "output_type": "display_data"
    }
   ],
   "source": [
    "def plot_static(scale=1):\n",
    "    fig, ax1=plt.subplots(1,figsize=(20, 5), dpi= 50, facecolor='w', edgecolor='k')\n",
    "    amfe.plot_system_solution(my_comp, factor=scale, ax = ax1)\n",
    "    \n",
    "    fig, ax2=plt.subplots(1,figsize=(20, 5), dpi= 50, facecolor='w', edgecolor='k')\n",
    "    amfe.plot_system_solution(my_comp2, factor=scale, ax = ax2)\n",
    "    plt.show()\n",
    "\n",
    "#plot_static(10)\n",
    "\n",
    "\n",
    "\n",
    "from ipywidgets import interact, interactive, fixed, interact_manual\n",
    "import ipywidgets as widgets\n",
    "\n",
    "u = interact(plot_static,scale=(0,200,5)) "
   ]
  },
  {
   "cell_type": "code",
   "execution_count": 4,
   "metadata": {},
   "outputs": [
    {
     "data": {
      "text/plain": [
       "[<matplotlib.lines.Line2D at 0x202d5e0cb70>]"
      ]
     },
     "execution_count": 4,
     "metadata": {},
     "output_type": "execute_result"
    },
    {
     "data": {
      "image/png": "[encoded data removed]",
      "text/plain": [
       "<Figure size 432x288 with 1 Axes>"
      ]
     },
     "metadata": {},
     "output_type": "display_data"
    }
   ],
   "source": [
    "plt.plot(ue,u_sol,'o')"
   ]
  },
  {
   "cell_type": "code",
   "execution_count": 5,
   "metadata": {},
   "outputs": [
    {
     "data": {
      "text/plain": [
       "array([-0.02149328, -0.00498918, -0.00244566,  0.00317935, -0.00652993,\n",
       "        0.0003222 , -0.02557755, -0.00784633, -0.01673138, -0.00294705,\n",
       "       -0.01196947, -0.00090492, -0.00720757,  0.00113721, -0.00448779,\n",
       "        0.00175077, -0.01129183, -0.00171993, -0.01605374, -0.00376206,\n",
       "       -0.02081564, -0.00580419, -0.02353541, -0.00641776, -0.01877351,\n",
       "       -0.00437562, -0.0140116 , -0.00233349, -0.0092497 , -0.00029136])"
      ]
     },
     "execution_count": 5,
     "metadata": {},
     "output_type": "execute_result"
    }
   ],
   "source": [
    "u_p"
   ]
  },
  {
   "cell_type": "code",
   "execution_count": 6,
   "metadata": {},
   "outputs": [
    {
     "data": {
      "text/plain": [
       "array([-0.02149328, -0.00498918, -0.00244566,  0.00317935, -0.00652993,\n",
       "        0.0003222 , -0.02557755, -0.00784633, -0.01673138, -0.00294705,\n",
       "       -0.01196947, -0.00090492, -0.00720757,  0.00113721, -0.00448779,\n",
       "        0.00175077, -0.01129183, -0.00171993, -0.01605374, -0.00376206,\n",
       "       -0.02081564, -0.00580419, -0.02353541, -0.00641776, -0.01877351,\n",
       "       -0.00437562, -0.0140116 , -0.00233349, -0.0092497 , -0.00029136])"
      ]
     },
     "execution_count": 6,
     "metadata": {},
     "output_type": "execute_result"
    }
   ],
   "source": [
    "u_p\n"
   ]
  },
  {
   "cell_type": "code",
   "execution_count": 7,
   "metadata": {},
   "outputs": [
    {
     "data": {
      "text/plain": [
       "array([-5.e+07,  0.e+00,  5.e+07,  0.e+00,  5.e+07,  0.e+00, -5.e+07,\n",
       "        0.e+00,  0.e+00,  0.e+00,  0.e+00,  0.e+00,  0.e+00,  0.e+00,\n",
       "        1.e+08,  0.e+00,  0.e+00,  0.e+00,  0.e+00,  0.e+00,  0.e+00,\n",
       "        0.e+00, -1.e+08,  0.e+00,  0.e+00,  0.e+00,  0.e+00,  0.e+00,\n",
       "        0.e+00,  0.e+00])"
      ]
     },
     "execution_count": 7,
     "metadata": {},
     "output_type": "execute_result"
    }
   ],
   "source": [
    "f_ext"
   ]
  },
  {
   "cell_type": "code",
   "execution_count": 8,
   "metadata": {},
   "outputs": [
    {
     "data": {
      "text/plain": [
       "array([ 0.        ,  0.        ,  0.01904762,  0.        ,  0.01904762,\n",
       "       -0.00285714,  0.        , -0.00285714,  0.0047619 ,  0.        ,\n",
       "        0.00952381,  0.        ,  0.01428571,  0.        ,  0.01904762,\n",
       "       -0.00142857,  0.01428571, -0.00285714,  0.00952381, -0.00285714,\n",
       "        0.0047619 , -0.00285714,  0.        , -0.00142857,  0.0047619 ,\n",
       "       -0.00142857,  0.00952381, -0.00142857,  0.01428571, -0.00142857])"
      ]
     },
     "execution_count": 8,
     "metadata": {},
     "output_type": "execute_result"
    }
   ],
   "source": [
    "ue\n"
   ]
  },
  {
   "cell_type": "code",
   "execution_count": 9,
   "metadata": {},
   "outputs": [
    {
     "data": {
      "text/plain": [
       "array([0., 0., 0., 0., 0., 0., 0., 0., 0., 0., 0., 0., 0., 0., 0., 0., 0.,\n",
       "       0., 0., 0., 0., 0., 0., 0., 0., 0., 0., 0., 0., 0.])"
      ]
     },
     "execution_count": 9,
     "metadata": {},
     "output_type": "execute_result"
    }
   ],
   "source": [
    "f_int\n"
   ]
  },
  {
   "cell_type": "code",
   "execution_count": 10,
   "metadata": {},
   "outputs": [
    {
     "data": {
      "text/plain": [
       "matrix([[ 1.03846154e+10,  3.75000000e+09,  0.00000000e+00,\n",
       "          0.00000000e+00,  0.00000000e+00,  0.00000000e+00,\n",
       "          0.00000000e+00,  0.00000000e+00, -6.34615385e+09,\n",
       "         -2.88461538e+08,  0.00000000e+00,  0.00000000e+00,\n",
       "          0.00000000e+00,  0.00000000e+00,  0.00000000e+00,\n",
       "          0.00000000e+00,  0.00000000e+00,  0.00000000e+00,\n",
       "          0.00000000e+00,  0.00000000e+00,  0.00000000e+00,\n",
       "          0.00000000e+00,  1.15384615e+09,  2.88461538e+08,\n",
       "         -5.19230769e+09, -3.75000000e+09,  0.00000000e+00,\n",
       "          0.00000000e+00,  0.00000000e+00,  0.00000000e+00],\n",
       "        [ 3.75000000e+09,  1.03846154e+10,  0.00000000e+00,\n",
       "          0.00000000e+00,  0.00000000e+00,  0.00000000e+00,\n",
       "          0.00000000e+00,  0.00000000e+00,  2.88461538e+08,\n",
       "          1.15384615e+09,  0.00000000e+00,  0.00000000e+00,\n",
       "          0.00000000e+00,  0.00000000e+00,  0.00000000e+00,\n",
       "          0.00000000e+00,  0.00000000e+00,  0.00000000e+00,\n",
       "          0.00000000e+00,  0.00000000e+00,  0.00000000e+00,\n",
       "          0.00000000e+00, -2.88461538e+08, -6.34615385e+09,\n",
       "         -3.75000000e+09, -5.19230769e+09,  0.00000000e+00,\n",
       "          0.00000000e+00,  0.00000000e+00,  0.00000000e+00],\n",
       "        [ 0.00000000e+00,  0.00000000e+00,  1.03846154e+10,\n",
       "         -3.75000000e+09,  0.00000000e+00,  0.00000000e+00,\n",
       "          0.00000000e+00,  0.00000000e+00,  0.00000000e+00,\n",
       "          0.00000000e+00,  0.00000000e+00,  0.00000000e+00,\n",
       "         -6.34615385e+09,  2.88461538e+08,  1.15384615e+09,\n",
       "         -2.88461538e+08,  0.00000000e+00,  0.00000000e+00,\n",
       "          0.00000000e+00,  0.00000000e+00,  0.00000000e+00,\n",
       "          0.00000000e+00,  0.00000000e+00,  0.00000000e+00,\n",
       "          0.00000000e+00,  0.00000000e+00,  0.00000000e+00,\n",
       "          0.00000000e+00, -5.19230769e+09,  3.75000000e+09],\n",
       "        [ 0.00000000e+00,  0.00000000e+00, -3.75000000e+09,\n",
       "          1.03846154e+10,  0.00000000e+00,  0.00000000e+00,\n",
       "          0.00000000e+00,  0.00000000e+00,  0.00000000e+00,\n",
       "          0.00000000e+00,  0.00000000e+00,  0.00000000e+00,\n",
       "         -2.88461538e+08,  1.15384615e+09,  2.88461538e+08,\n",
       "         -6.34615385e+09,  0.00000000e+00,  0.00000000e+00,\n",
       "          0.00000000e+00,  0.00000000e+00,  0.00000000e+00,\n",
       "          0.00000000e+00,  0.00000000e+00,  0.00000000e+00,\n",
       "          0.00000000e+00,  0.00000000e+00,  0.00000000e+00,\n",
       "          0.00000000e+00,  3.75000000e+09, -5.19230769e+09],\n",
       "        [ 0.00000000e+00,  0.00000000e+00,  0.00000000e+00,\n",
       "          0.00000000e+00,  1.03846154e+10,  3.75000000e+09,\n",
       "          0.00000000e+00,  0.00000000e+00,  0.00000000e+00,\n",
       "          0.00000000e+00,  0.00000000e+00,  0.00000000e+00,\n",
       "          0.00000000e+00,  0.00000000e+00,  1.15384615e+09,\n",
       "          2.88461538e+08, -6.34615385e+09, -2.88461538e+08,\n",
       "          0.00000000e+00,  0.00000000e+00,  0.00000000e+00,\n",
       "          0.00000000e+00,  0.00000000e+00,  0.00000000e+00,\n",
       "          0.00000000e+00,  0.00000000e+00,  0.00000000e+00,\n",
       "          0.00000000e+00, -5.19230769e+09, -3.75000000e+09],\n",
       "        [ 0.00000000e+00,  0.00000000e+00,  0.00000000e+00,\n",
       "          0.00000000e+00,  3.75000000e+09,  1.03846154e+10,\n",
       "          0.00000000e+00,  0.00000000e+00,  0.00000000e+00,\n",
       "          0.00000000e+00,  0.00000000e+00,  0.00000000e+00,\n",
       "          0.00000000e+00,  0.00000000e+00, -2.88461538e+08,\n",
       "         -6.34615385e+09,  2.88461538e+08,  1.15384615e+09,\n",
       "          0.00000000e+00,  0.00000000e+00,  0.00000000e+00,\n",
       "          0.00000000e+00,  0.00000000e+00,  0.00000000e+00,\n",
       "          0.00000000e+00,  0.00000000e+00,  0.00000000e+00,\n",
       "          0.00000000e+00, -3.75000000e+09, -5.19230769e+09],\n",
       "        [ 0.00000000e+00,  0.00000000e+00,  0.00000000e+00,\n",
       "          0.00000000e+00,  0.00000000e+00,  0.00000000e+00,\n",
       "          1.03846154e+10, -3.75000000e+09,  0.00000000e+00,\n",
       "          0.00000000e+00,  0.00000000e+00,  0.00000000e+00,\n",
       "          0.00000000e+00,  0.00000000e+00,  0.00000000e+00,\n",
       "          0.00000000e+00,  0.00000000e+00,  0.00000000e+00,\n",
       "          0.00000000e+00,  0.00000000e+00, -6.34615385e+09,\n",
       "          2.88461538e+08,  1.15384615e+09, -2.88461538e+08,\n",
       "         -5.19230769e+09,  3.75000000e+09,  0.00000000e+00,\n",
       "          0.00000000e+00,  0.00000000e+00,  0.00000000e+00],\n",
       "        [ 0.00000000e+00,  0.00000000e+00,  0.00000000e+00,\n",
       "          0.00000000e+00,  0.00000000e+00,  0.00000000e+00,\n",
       "         -3.75000000e+09,  1.03846154e+10,  0.00000000e+00,\n",
       "          0.00000000e+00,  0.00000000e+00,  0.00000000e+00,\n",
       "          0.00000000e+00,  0.00000000e+00,  0.00000000e+00,\n",
       "          0.00000000e+00,  0.00000000e+00,  0.00000000e+00,\n",
       "          0.00000000e+00,  0.00000000e+00, -2.88461538e+08,\n",
       "          1.15384615e+09,  2.88461538e+08, -6.34615385e+09,\n",
       "          3.75000000e+09, -5.19230769e+09,  0.00000000e+00,\n",
       "          0.00000000e+00,  0.00000000e+00,  0.00000000e+00],\n",
       "        [-6.34615385e+09,  2.88461538e+08,  0.00000000e+00,\n",
       "          0.00000000e+00,  0.00000000e+00,  0.00000000e+00,\n",
       "          0.00000000e+00,  0.00000000e+00,  2.07692308e+10,\n",
       "         -1.98349953e-02, -6.34615385e+09, -2.88461538e+08,\n",
       "          0.00000000e+00,  0.00000000e+00,  0.00000000e+00,\n",
       "          0.00000000e+00,  0.00000000e+00,  0.00000000e+00,\n",
       "          0.00000000e+00,  0.00000000e+00,  0.00000000e+00,\n",
       "          0.00000000e+00, -5.19230769e+09,  3.75000000e+09,\n",
       "          2.30769231e+09, -2.51394510e-02, -5.19230769e+09,\n",
       "         -3.75000000e+09,  0.00000000e+00,  0.00000000e+00],\n",
       "        [-2.88461538e+08,  1.15384615e+09,  0.00000000e+00,\n",
       "          0.00000000e+00,  0.00000000e+00,  0.00000000e+00,\n",
       "          0.00000000e+00,  0.00000000e+00, -1.98354721e-02,\n",
       "          2.07692308e+10,  2.88461538e+08,  1.15384615e+09,\n",
       "          0.00000000e+00,  0.00000000e+00,  0.00000000e+00,\n",
       "          0.00000000e+00,  0.00000000e+00,  0.00000000e+00,\n",
       "          0.00000000e+00,  0.00000000e+00,  0.00000000e+00,\n",
       "          0.00000000e+00,  3.75000000e+09, -5.19230769e+09,\n",
       "         -2.51395106e-02, -1.26923077e+10, -3.75000000e+09,\n",
       "         -5.19230769e+09,  0.00000000e+00,  0.00000000e+00],\n",
       "        [ 0.00000000e+00,  0.00000000e+00,  0.00000000e+00,\n",
       "          0.00000000e+00,  0.00000000e+00,  0.00000000e+00,\n",
       "          0.00000000e+00,  0.00000000e+00, -6.34615385e+09,\n",
       "          2.88461538e+08,  2.07692308e+10, -4.12116051e-02,\n",
       "         -6.34615385e+09, -2.88461538e+08,  0.00000000e+00,\n",
       "          0.00000000e+00,  0.00000000e+00,  0.00000000e+00,\n",
       "          0.00000000e+00,  0.00000000e+00,  0.00000000e+00,\n",
       "          0.00000000e+00,  0.00000000e+00,  0.00000000e+00,\n",
       "         -5.19230769e+09,  3.75000000e+09,  2.30769231e+09,\n",
       "         -2.49953866e-02, -5.19230769e+09, -3.75000000e+09],\n",
       "        [ 0.00000000e+00,  0.00000000e+00,  0.00000000e+00,\n",
       "          0.00000000e+00,  0.00000000e+00,  0.00000000e+00,\n",
       "          0.00000000e+00,  0.00000000e+00, -2.88461538e+08,\n",
       "          1.15384615e+09, -4.12120819e-02,  2.07692308e+10,\n",
       "          2.88461538e+08,  1.15384615e+09,  0.00000000e+00,\n",
       "          0.00000000e+00,  0.00000000e+00,  0.00000000e+00,\n",
       "          0.00000000e+00,  0.00000000e+00,  0.00000000e+00,\n",
       "          0.00000000e+00,  0.00000000e+00,  0.00000000e+00,\n",
       "          3.75000000e+09, -5.19230769e+09, -2.49956846e-02,\n",
       "         -1.26923077e+10, -3.75000000e+09, -5.19230769e+09],\n",
       "        [ 0.00000000e+00,  0.00000000e+00, -6.34615385e+09,\n",
       "         -2.88461538e+08,  0.00000000e+00,  0.00000000e+00,\n",
       "          0.00000000e+00,  0.00000000e+00,  0.00000000e+00,\n",
       "          0.00000000e+00, -6.34615385e+09,  2.88461538e+08,\n",
       "          2.07692308e+10, -2.20198631e-02, -5.19230769e+09,\n",
       "         -3.75000000e+09,  0.00000000e+00,  0.00000000e+00,\n",
       "          0.00000000e+00,  0.00000000e+00,  0.00000000e+00,\n",
       "          0.00000000e+00,  0.00000000e+00,  0.00000000e+00,\n",
       "          0.00000000e+00,  0.00000000e+00, -5.19230769e+09,\n",
       "          3.75000000e+09,  2.30769231e+09, -2.10440755e-02],\n",
       "        [ 0.00000000e+00,  0.00000000e+00,  2.88461538e+08,\n",
       "          1.15384615e+09,  0.00000000e+00,  0.00000000e+00,\n",
       "          0.00000000e+00,  0.00000000e+00,  0.00000000e+00,\n",
       "          0.00000000e+00, -2.88461538e+08,  1.15384615e+09,\n",
       "         -2.20198631e-02,  2.07692308e+10, -3.75000000e+09,\n",
       "         -5.19230769e+09,  0.00000000e+00,  0.00000000e+00,\n",
       "          0.00000000e+00,  0.00000000e+00,  0.00000000e+00,\n",
       "          0.00000000e+00,  0.00000000e+00,  0.00000000e+00,\n",
       "          0.00000000e+00,  0.00000000e+00,  3.75000000e+09,\n",
       "         -5.19230769e+09, -2.10438371e-02, -1.26923077e+10],\n",
       "        [ 0.00000000e+00,  0.00000000e+00,  1.15384615e+09,\n",
       "          2.88461538e+08,  1.15384615e+09, -2.88461538e+08,\n",
       "          0.00000000e+00,  0.00000000e+00,  0.00000000e+00,\n",
       "          0.00000000e+00,  0.00000000e+00,  0.00000000e+00,\n",
       "         -5.19230769e+09, -3.75000000e+09,  2.07692308e+10,\n",
       "          8.57830048e-04, -5.19230769e+09,  3.75000000e+09,\n",
       "          0.00000000e+00,  0.00000000e+00,  0.00000000e+00,\n",
       "          0.00000000e+00,  0.00000000e+00,  0.00000000e+00,\n",
       "          0.00000000e+00,  0.00000000e+00,  0.00000000e+00,\n",
       "          0.00000000e+00, -1.26923077e+10,  1.55236125e-02],\n",
       "        [ 0.00000000e+00,  0.00000000e+00, -2.88461538e+08,\n",
       "         -6.34615385e+09,  2.88461538e+08, -6.34615385e+09,\n",
       "          0.00000000e+00,  0.00000000e+00,  0.00000000e+00,\n",
       "          0.00000000e+00,  0.00000000e+00,  0.00000000e+00,\n",
       "         -3.75000000e+09, -5.19230769e+09,  8.57830048e-04,\n",
       "          2.07692308e+10,  3.75000000e+09, -5.19230769e+09,\n",
       "          0.00000000e+00,  0.00000000e+00,  0.00000000e+00,\n",
       "          0.00000000e+00,  0.00000000e+00,  0.00000000e+00,\n",
       "          0.00000000e+00,  0.00000000e+00,  0.00000000e+00,\n",
       "          0.00000000e+00,  1.55238509e-02,  2.30769231e+09],\n",
       "        [ 0.00000000e+00,  0.00000000e+00,  0.00000000e+00,\n",
       "          0.00000000e+00, -6.34615385e+09,  2.88461538e+08,\n",
       "          0.00000000e+00,  0.00000000e+00,  0.00000000e+00,\n",
       "          0.00000000e+00,  0.00000000e+00,  0.00000000e+00,\n",
       "          0.00000000e+00,  0.00000000e+00, -5.19230769e+09,\n",
       "          3.75000000e+09,  2.07692308e+10, -1.84006691e-02,\n",
       "         -6.34615385e+09, -2.88461538e+08,  0.00000000e+00,\n",
       "          0.00000000e+00,  0.00000000e+00,  0.00000000e+00,\n",
       "          0.00000000e+00,  0.00000000e+00, -5.19230769e+09,\n",
       "         -3.75000000e+09,  2.30769231e+09, -1.92356110e-02],\n",
       "        [ 0.00000000e+00,  0.00000000e+00,  0.00000000e+00,\n",
       "          0.00000000e+00, -2.88461538e+08,  1.15384615e+09,\n",
       "          0.00000000e+00,  0.00000000e+00,  0.00000000e+00,\n",
       "          0.00000000e+00,  0.00000000e+00,  0.00000000e+00,\n",
       "          0.00000000e+00,  0.00000000e+00,  3.75000000e+09,\n",
       "         -5.19230769e+09, -1.84011459e-02,  2.07692308e+10,\n",
       "          2.88461538e+08,  1.15384615e+09,  0.00000000e+00,\n",
       "          0.00000000e+00,  0.00000000e+00,  0.00000000e+00,\n",
       "          0.00000000e+00,  0.00000000e+00, -3.75000000e+09,\n",
       "         -5.19230769e+09, -1.92354321e-02, -1.26923077e+10],\n",
       "        [ 0.00000000e+00,  0.00000000e+00,  0.00000000e+00,\n",
       "          0.00000000e+00,  0.00000000e+00,  0.00000000e+00,\n",
       "          0.00000000e+00,  0.00000000e+00,  0.00000000e+00,\n",
       "          0.00000000e+00,  0.00000000e+00,  0.00000000e+00,\n",
       "          0.00000000e+00,  0.00000000e+00,  0.00000000e+00,\n",
       "          0.00000000e+00, -6.34615385e+09,  2.88461538e+08,\n",
       "          2.07692308e+10, -4.66451645e-02, -6.34615385e+09,\n",
       "         -2.88461538e+08,  0.00000000e+00,  0.00000000e+00,\n",
       "         -5.19230769e+09, -3.75000000e+09,  2.30769231e+09,\n",
       "         -2.77112126e-02, -5.19230769e+09,  3.75000000e+09],\n",
       "        [ 0.00000000e+00,  0.00000000e+00,  0.00000000e+00,\n",
       "          0.00000000e+00,  0.00000000e+00,  0.00000000e+00,\n",
       "          0.00000000e+00,  0.00000000e+00,  0.00000000e+00,\n",
       "          0.00000000e+00,  0.00000000e+00,  0.00000000e+00,\n",
       "          0.00000000e+00,  0.00000000e+00,  0.00000000e+00,\n",
       "          0.00000000e+00, -2.88461538e+08,  1.15384615e+09,\n",
       "         -4.66451645e-02,  2.07692308e+10,  2.88461538e+08,\n",
       "          1.15384615e+09,  0.00000000e+00,  0.00000000e+00,\n",
       "         -3.75000000e+09, -5.19230769e+09, -2.77109146e-02,\n",
       "         -1.26923077e+10,  3.75000000e+09, -5.19230769e+09],\n",
       "        [ 0.00000000e+00,  0.00000000e+00,  0.00000000e+00,\n",
       "          0.00000000e+00,  0.00000000e+00,  0.00000000e+00,\n",
       "         -6.34615385e+09, -2.88461538e+08,  0.00000000e+00,\n",
       "          0.00000000e+00,  0.00000000e+00,  0.00000000e+00,\n",
       "          0.00000000e+00,  0.00000000e+00,  0.00000000e+00,\n",
       "          0.00000000e+00,  0.00000000e+00,  0.00000000e+00,\n",
       "         -6.34615385e+09,  2.88461538e+08,  2.07692308e+10,\n",
       "         -2.61363983e-02, -5.19230769e+09, -3.75000000e+09,\n",
       "          2.30769231e+09, -2.82884836e-02, -5.19230769e+09,\n",
       "          3.75000000e+09,  0.00000000e+00,  0.00000000e+00],\n",
       "        [ 0.00000000e+00,  0.00000000e+00,  0.00000000e+00,\n",
       "          0.00000000e+00,  0.00000000e+00,  0.00000000e+00,\n",
       "          2.88461538e+08,  1.15384615e+09,  0.00000000e+00,\n",
       "          0.00000000e+00,  0.00000000e+00,  0.00000000e+00,\n",
       "          0.00000000e+00,  0.00000000e+00,  0.00000000e+00,\n",
       "          0.00000000e+00,  0.00000000e+00,  0.00000000e+00,\n",
       "         -2.88461538e+08,  1.15384615e+09, -2.61359215e-02,\n",
       "          2.07692308e+10, -3.75000000e+09, -5.19230769e+09,\n",
       "         -2.82891989e-02, -1.26923077e+10,  3.75000000e+09,\n",
       "         -5.19230769e+09,  0.00000000e+00,  0.00000000e+00],\n",
       "        [ 1.15384615e+09, -2.88461538e+08,  0.00000000e+00,\n",
       "          0.00000000e+00,  0.00000000e+00,  0.00000000e+00,\n",
       "          1.15384615e+09,  2.88461538e+08, -5.19230769e+09,\n",
       "          3.75000000e+09,  0.00000000e+00,  0.00000000e+00,\n",
       "          0.00000000e+00,  0.00000000e+00,  0.00000000e+00,\n",
       "          0.00000000e+00,  0.00000000e+00,  0.00000000e+00,\n",
       "          0.00000000e+00,  0.00000000e+00, -5.19230769e+09,\n",
       "         -3.75000000e+09,  2.07692308e+10,  6.06060028e-04,\n",
       "         -1.26923077e+10,  2.47449875e-02,  0.00000000e+00,\n",
       "          0.00000000e+00,  0.00000000e+00,  0.00000000e+00],\n",
       "        [ 2.88461538e+08, -6.34615385e+09,  0.00000000e+00,\n",
       "          0.00000000e+00,  0.00000000e+00,  0.00000000e+00,\n",
       "         -2.88461538e+08, -6.34615385e+09,  3.75000000e+09,\n",
       "         -5.19230769e+09,  0.00000000e+00,  0.00000000e+00,\n",
       "          0.00000000e+00,  0.00000000e+00,  0.00000000e+00,\n",
       "          0.00000000e+00,  0.00000000e+00,  0.00000000e+00,\n",
       "          0.00000000e+00,  0.00000000e+00, -3.75000000e+09,\n",
       "         -5.19230769e+09,  6.06060028e-04,  2.07692308e+10,\n",
       "          2.47459412e-02,  2.30769231e+09,  0.00000000e+00,\n",
       "          0.00000000e+00,  0.00000000e+00,  0.00000000e+00],\n",
       "        [-5.19230769e+09, -3.75000000e+09,  0.00000000e+00,\n",
       "          0.00000000e+00,  0.00000000e+00,  0.00000000e+00,\n",
       "         -5.19230769e+09,  3.75000000e+09,  2.30769231e+09,\n",
       "         -2.51390934e-02, -5.19230769e+09,  3.75000000e+09,\n",
       "          0.00000000e+00,  0.00000000e+00,  0.00000000e+00,\n",
       "          0.00000000e+00,  0.00000000e+00,  0.00000000e+00,\n",
       "         -5.19230769e+09, -3.75000000e+09,  2.30769231e+09,\n",
       "         -2.82893181e-02, -1.26923077e+10,  2.47455835e-02,\n",
       "          4.15384615e+10, -4.59713936e-02, -1.26923077e+10,\n",
       "          5.16684651e-02,  0.00000000e+00,  0.00000000e+00],\n",
       "        [-3.75000000e+09, -5.19230769e+09,  0.00000000e+00,\n",
       "          0.00000000e+00,  0.00000000e+00,  0.00000000e+00,\n",
       "          3.75000000e+09, -5.19230769e+09, -2.51393318e-02,\n",
       "         -1.26923077e+10,  3.75000000e+09, -5.19230769e+09,\n",
       "          0.00000000e+00,  0.00000000e+00,  0.00000000e+00,\n",
       "          0.00000000e+00,  0.00000000e+00,  0.00000000e+00,\n",
       "         -3.75000000e+09, -5.19230769e+09, -2.82886028e-02,\n",
       "         -1.26923077e+10,  2.47452259e-02,  2.30769231e+09,\n",
       "         -4.59704399e-02,  4.15384615e+10,  5.16684651e-02,\n",
       "          2.30769231e+09,  0.00000000e+00,  0.00000000e+00],\n",
       "        [ 0.00000000e+00,  0.00000000e+00,  0.00000000e+00,\n",
       "          0.00000000e+00,  0.00000000e+00,  0.00000000e+00,\n",
       "          0.00000000e+00,  0.00000000e+00, -5.19230769e+09,\n",
       "         -3.75000000e+09,  2.30769231e+09, -2.49954462e-02,\n",
       "         -5.19230769e+09,  3.75000000e+09,  0.00000000e+00,\n",
       "          0.00000000e+00, -5.19230769e+09, -3.75000000e+09,\n",
       "          2.30769231e+09, -2.77109146e-02, -5.19230769e+09,\n",
       "          3.75000000e+09,  0.00000000e+00,  0.00000000e+00,\n",
       "         -1.26923077e+10,  5.16679287e-02,  4.15384615e+10,\n",
       "         -8.78562927e-02, -1.26923077e+10,  4.49661016e-02],\n",
       "        [ 0.00000000e+00,  0.00000000e+00,  0.00000000e+00,\n",
       "          0.00000000e+00,  0.00000000e+00,  0.00000000e+00,\n",
       "          0.00000000e+00,  0.00000000e+00, -3.75000000e+09,\n",
       "         -5.19230769e+09, -2.49955654e-02, -1.26923077e+10,\n",
       "          3.75000000e+09, -5.19230769e+09,  0.00000000e+00,\n",
       "          0.00000000e+00, -3.75000000e+09, -5.19230769e+09,\n",
       "         -2.77113914e-02, -1.26923077e+10,  3.75000000e+09,\n",
       "         -5.19230769e+09,  0.00000000e+00,  0.00000000e+00,\n",
       "          5.16682863e-02,  2.30769231e+09, -8.78558159e-02,\n",
       "          4.15384615e+10,  4.49668169e-02,  2.30769231e+09],\n",
       "        [ 0.00000000e+00,  0.00000000e+00, -5.19230769e+09,\n",
       "          3.75000000e+09, -5.19230769e+09, -3.75000000e+09,\n",
       "          0.00000000e+00,  0.00000000e+00,  0.00000000e+00,\n",
       "          0.00000000e+00, -5.19230769e+09, -3.75000000e+09,\n",
       "          2.30769231e+09, -2.10438967e-02, -1.26923077e+10,\n",
       "          1.55234933e-02,  2.30769231e+09, -1.92354321e-02,\n",
       "         -5.19230769e+09,  3.75000000e+09,  0.00000000e+00,\n",
       "          0.00000000e+00,  0.00000000e+00,  0.00000000e+00,\n",
       "          0.00000000e+00,  0.00000000e+00, -1.26923077e+10,\n",
       "          4.49668169e-02,  4.15384615e+10, -4.04219627e-02],\n",
       "        [ 0.00000000e+00,  0.00000000e+00,  3.75000000e+09,\n",
       "         -5.19230769e+09, -3.75000000e+09, -5.19230769e+09,\n",
       "          0.00000000e+00,  0.00000000e+00,  0.00000000e+00,\n",
       "          0.00000000e+00, -3.75000000e+09, -5.19230769e+09,\n",
       "         -2.10439563e-02, -1.26923077e+10,  1.55238509e-02,\n",
       "          2.30769231e+09, -1.92356110e-02, -1.26923077e+10,\n",
       "          3.75000000e+09, -5.19230769e+09,  0.00000000e+00,\n",
       "          0.00000000e+00,  0.00000000e+00,  0.00000000e+00,\n",
       "          0.00000000e+00,  0.00000000e+00,  4.49663401e-02,\n",
       "          2.30769231e+09, -4.04210091e-02,  4.15384615e+10]])"
      ]
     },
     "execution_count": 10,
     "metadata": {},
     "output_type": "execute_result"
    }
   ],
   "source": [
    "K.todense()"
   ]
  },
  {
   "cell_type": "code",
   "execution_count": 11,
   "metadata": {},
   "outputs": [
    {
     "ename": "AttributeError",
     "evalue": "type object 'pinv_and_null_space' has no attribute 'U'",
     "output_type": "error",
     "traceback": [
      "\u001b[1;31m---------------------------------------------------------------------------\u001b[0m",
      "\u001b[1;31mAttributeError\u001b[0m                            Traceback (most recent call last)",
      "\u001b[1;32m<ipython-input-11-23f3bf8a292b>\u001b[0m in \u001b[0;36m<module>\u001b[1;34m()\u001b[0m\n\u001b[1;32m----> 1\u001b[1;33m \u001b[0mK_inv\u001b[0m\u001b[1;33m.\u001b[0m\u001b[0mU\u001b[0m\u001b[1;33m\u001b[0m\u001b[0m\n\u001b[0m",
      "\u001b[1;31mAttributeError\u001b[0m: type object 'pinv_and_null_space' has no attribute 'U'"
     ]
    }
   ],
   "source": []
  },
  {
   "cell_type": "code",
   "execution_count": null,
   "metadata": {
    "collapsed": true
   },
   "outputs": [],
   "source": []
  }
 ],
 "metadata": {
  "kernelspec": {
   "display_name": "Python (py36)",
   "language": "python",
   "name": "py36"
  },
  "language_info": {
   "codemirror_mode": {
    "name": "ipython",
    "version": 3
   },
   "file_extension": ".py",
   "mimetype": "text/x-python",
   "name": "python",
   "nbconvert_exporter": "python",
   "pygments_lexer": "ipython3",
   "version": "3.6.3"
  }
 },
 "nbformat": 4,
 "nbformat_minor": 2
}
