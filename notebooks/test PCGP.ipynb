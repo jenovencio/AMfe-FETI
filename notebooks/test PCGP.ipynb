{
 "cells": [
  {
   "cell_type": "code",
   "execution_count": 1,
   "metadata": {},
   "outputs": [
    {
     "name": "stdout",
     "output_type": "stream",
     "text": [
      "\n",
      "Python was not able to load the fast fortran material routines.\n",
      "\n",
      "\n",
      "*************************************************************\n",
      "Loading gmsh-mesh from H:\\TUM-PC\\Dokumente\\Projects\\AMfe\\meshes/test_meshes/1_rectangle_8_elem.msh\n",
      "Mesh H:\\TUM-PC\\Dokumente\\Projects\\AMfe\\meshes/test_meshes/1_rectangle_8_elem.msh successfully imported. \n",
      "Assign a material to a physical group.\n",
      "*************************************************************\n"
     ]
    },
    {
     "data": {
      "image/png": "[encoded data removed]",
      "text/plain": [
       "<matplotlib.figure.Figure at 0x28402d367b8>"
      ]
     },
     "metadata": {},
     "output_type": "display_data"
    },
    {
     "name": "stdout",
     "output_type": "stream",
     "text": [
      "\n",
      "*************************************************************\n",
      "Loading gmsh-mesh from H:\\TUM-PC\\Dokumente\\Projects\\AMfe\\meshes/test_meshes/1_rectangle_2_elem.msh\n",
      "Mesh H:\\TUM-PC\\Dokumente\\Projects\\AMfe\\meshes/test_meshes/1_rectangle_2_elem.msh successfully imported. \n",
      "Assign a material to a physical group.\n",
      "*************************************************************\n"
     ]
    }
   ],
   "source": [
    "# importing lib and setting a list of meshes to be tested\n",
    "import sys \n",
    "import amfe\n",
    "import matplotlib.pyplot as plt\n",
    "import numpy as np\n",
    "import scipy\n",
    "import copy\n",
    "import pandas as pd\n",
    "\n",
    "msh_dict = {}\n",
    "msh_dict[0] = amfe.amfe_dir('meshes/test_meshes/1_rectangle_8_elem.msh')\n",
    "msh_dict[1] = mshfile = amfe.amfe_dir('meshes/test_meshes/1_rectangle_2_elem.msh')\n",
    "\n",
    "\n",
    "\n",
    "domain_id = {}\n",
    "domain_id[0] = 6\n",
    "domain_id[1] = 6\n",
    "\n",
    "# select mesh to be plotted\n",
    "mesh_id1 = 0\n",
    "mshfile = msh_dict[mesh_id1]\n",
    "\n",
    "m1 = amfe.Mesh()\n",
    "m1.import_msh(mshfile)\n",
    "\n",
    "fig, ax1=plt.subplots(1,figsize=(10, 5), dpi= 80, facecolor='w', edgecolor='k')\n",
    "amfe.plot_mesh(m1,ax1)\n",
    "plt.show()\n",
    "\n",
    "# select mesh to be plotted\n",
    "mesh_id1 = 1\n",
    "mshfile = msh_dict[mesh_id1]\n",
    "\n",
    "m2 = amfe.Mesh()\n",
    "m2.import_msh(mshfile)\n",
    "\n",
    "m3 = m2.translation([2,0,0])\n",
    "\n",
    "# creating material\n",
    "my_material = amfe.KirchhoffMaterial(E=210E9, nu=0.3, rho=7.86E3, plane_stress=True, thickness=0.1)\n",
    "\n",
    "# append domains to MechanicalAssembly\n",
    "my_system = amfe.MechanicalAssembly()\n",
    "\n",
    "submesh1 = m2.set_domain('phys_group',domain_id[1])\n",
    "submesh2 = m3.set_domain('phys_group',domain_id[1])\n",
    "\n",
    "my_system.append_domain(submesh1, my_material, 1)\n",
    "my_system.append_domain(submesh2, my_material, 2)\n",
    "my_system.update_global_system()\n",
    "\n",
    "\n",
    "# select submesh for interfaces\n",
    "sub_int1 = my_system.get_submesh(1,3)\n",
    "sub_int2 = my_system.get_submesh(2,1)\n",
    "my_system.add_bonded_interface_constraint(sub_int1,sub_int2)\n",
    "my_system.update_global_system()\n",
    "\n",
    "# replacing phys tags to avoid conflict\n",
    "my_system.change_domain_physical_tag(2,1,5)\n",
    "my_system.change_domain_physical_tag(1,3,7)\n",
    "my_system.update_global_system()\n",
    "\n",
    "\n",
    "# mesh of one turbine section\n",
    "m4 = my_system.get_global_mesh()"
   ]
  },
  {
   "cell_type": "code",
   "execution_count": 2,
   "metadata": {},
   "outputs": [
    {
     "data": {
      "image/png": "[encoded data removed]",
      "text/plain": [
       "<matplotlib.figure.Figure at 0x284033d80f0>"
      ]
     },
     "metadata": {},
     "output_type": "display_data"
    }
   ],
   "source": [
    "# mesh of one turbine section\n",
    "m5 = m4.translation([0,1,0])\n",
    "\n",
    "submesh4 = m4.set_domain('phys_group',domain_id[1])\n",
    "submesh5 = m5.set_domain('phys_group',domain_id[1])\n",
    "\n",
    "global_system = amfe.MechanicalAssembly()\n",
    "global_system.append_domain(submesh4, my_material, 1)\n",
    "global_system.append_domain(submesh5, my_material, 2)\n",
    "global_system.update_global_system()\n",
    "\n",
    "# select submesh for interfaces\n",
    "sub_int1 = global_system.get_submesh(1,4)\n",
    "sub_int2 = global_system.get_submesh(2,2)\n",
    "global_system.add_bonded_interface_constraint(sub_int1,sub_int2)\n",
    "global_system.update_global_system()\n",
    "\n",
    "new_mesh2 = global_system.get_global_mesh()\n",
    "fig, ax1=plt.subplots(1,figsize=(10, 5), dpi= 50, facecolor='w', edgecolor='k')\n",
    "amfe.plot_mesh(new_mesh2,ax1,False)\n",
    "plt.show()"
   ]
  },
  {
   "cell_type": "code",
   "execution_count": 3,
   "metadata": {},
   "outputs": [
    {
     "name": "stdout",
     "output_type": "stream",
     "text": [
      "Preallocating the stiffness matrix\n",
      "Done preallocating stiffness matrix with 8 elements and 30 dofs.\n",
      "Time taken for preallocation: 0.00 seconds.\n",
      "Preallocating the stiffness matrix\n",
      "Done preallocating stiffness matrix with 16 elements and 30 dofs.\n",
      "Time taken for preallocation: 0.00 seconds.\n"
     ]
    },
    {
     "data": {
      "text/plain": [
       "<amfe.mechanical_system.MechanicalAssembly at 0x284033a7f98>"
      ]
     },
     "execution_count": 3,
     "metadata": {},
     "output_type": "execute_result"
    }
   ],
   "source": [
    "# select submesh for Neumann B.C\n",
    "sub_neu1 = global_system.get_submesh(2,3)\n",
    "sub_neu2 = global_system.get_submesh(1,3)\n",
    "\n",
    "# select submesh for Dirichlet\n",
    "sub_dir1 = global_system.get_submesh(1,1)\n",
    "sub_dir2 = global_system.get_submesh(2,1)\n",
    "\n",
    "value = 1.0e8\n",
    "global_system.apply_neumann_boundaries(sub_neu1,value)\n",
    "global_system.apply_neumann_boundaries(sub_neu2,value)\n",
    "global_system.apply_dirichlet_boundaries(sub_dir1,0.0,'xy')\n",
    "global_system.apply_dirichlet_boundaries(sub_dir2,0.0,'xy')\n",
    "\n",
    "global_system.update_domain()\n"
   ]
  },
  {
   "cell_type": "code",
   "execution_count": 4,
   "metadata": {},
   "outputs": [
    {
     "name": "stdout",
     "output_type": "stream",
     "text": [
      "Extract interface node from sub_1 and sub_2\n",
      "Extract interface node from sub_1 and sub_3\n",
      "Extract interface node from sub_1 and sub_4\n",
      "Interface nodes from sub_2 and sub_1 already extracted\n",
      "Extract interface node from sub_2 and sub_3\n",
      "Extract interface node from sub_2 and sub_4\n",
      "Interface nodes from sub_3 and sub_1 already extracted\n",
      "Interface nodes from sub_3 and sub_2 already extracted\n",
      "Extract interface node from sub_3 and sub_4\n",
      "Interface nodes from sub_4 and sub_1 already extracted\n",
      "Interface nodes from sub_4 and sub_2 already extracted\n",
      "Interface nodes from sub_4 and sub_3 already extracted\n",
      "Extract interface node from sub_1 and sub_2\n",
      "Extract interface node from sub_1 and sub_3\n",
      "Extract interface node from sub_1 and sub_4\n",
      "Interface nodes from sub_2 and sub_1 already extracted\n",
      "Extract interface node from sub_2 and sub_3\n",
      "Extract interface node from sub_2 and sub_4\n",
      "Interface nodes from sub_3 and sub_1 already extracted\n",
      "Interface nodes from sub_3 and sub_2 already extracted\n",
      "Extract interface node from sub_3 and sub_4\n",
      "Interface nodes from sub_4 and sub_1 already extracted\n",
      "Interface nodes from sub_4 and sub_2 already extracted\n",
      "Interface nodes from sub_4 and sub_3 already extracted\n",
      "Preallocating the stiffness matrix\n",
      "Done preallocating stiffness matrix with 2 elements and 12 dofs.\n",
      "Time taken for preallocation: 0.00 seconds.\n",
      "Preallocating the stiffness matrix\n",
      "Done preallocating stiffness matrix with 2 elements and 12 dofs.\n",
      "Time taken for preallocation: 0.00 seconds.\n",
      "Preallocating the stiffness matrix\n",
      "Done preallocating stiffness matrix with 2 elements and 12 dofs.\n",
      "Time taken for preallocation: 0.00 seconds.\n",
      "Preallocating the stiffness matrix\n",
      "Done preallocating stiffness matrix with 2 elements and 12 dofs.\n",
      "Time taken for preallocation: 0.00 seconds.\n"
     ]
    },
    {
     "name": "stderr",
     "output_type": "stream",
     "text": [
      "C:\\Users\\ge72tih\\AppData\\Local\\Continuum\\anaconda3\\envs\\py36\\Lib\\site-packages\\scipy\\sparse\\compressed.py:742: SparseEfficiencyWarning: Changing the sparsity structure of a csr_matrix is expensive. lil_matrix is more efficient.\n",
      "  SparseEfficiencyWarning)\n"
     ]
    }
   ],
   "source": [
    "domain = global_system\n",
    "domain.split_in_partitions()\n",
    "\n",
    "super_domain = amfe.SuperDomain(domain.groups)\n",
    "B = super_domain.assemble_global_B()\n",
    "Kd, fd = super_domain.assemble_block_stiffness_and_force()\n",
    "G, e = super_domain.assemble_global_G_and_e()\n",
    "F, d = super_domain.assemble_F_and_d()\n",
    "\n",
    "n_null = len(e) # null space size\n",
    "n_int = len(d) # interface size\n",
    "Zeros = np.zeros([n_null ,n_null])\n",
    "\n",
    "A1 = np.hstack((F,G.T))\n",
    "A2 = np.hstack((G,Zeros))\n",
    "\n",
    "A = np.vstack((A1,A2))\n",
    "b = np.concatenate((d,e))\n",
    "\n",
    "# # Dual interface problem\n",
    "# x = np.linalg.solve(A,b)\n",
    "# global_lambda = x[:n_int]\n",
    "# alpha = x[n_int:]\n",
    "\n",
    "# global_alpha = alpha\n",
    "\n",
    "# u = super_domain.eval_subdomain_displacement(global_lambda,alpha)"
   ]
  },
  {
   "cell_type": "code",
   "execution_count": 5,
   "metadata": {
    "collapsed": true
   },
   "outputs": [],
   "source": [
    "# from ipywidgets import interact, interactive, fixed, interact_manual\n",
    "# import ipywidgets as widgets\n",
    "\n",
    "# def plot_static(scale=0):\n",
    "#     connectivity = {}\n",
    "#     nodes = {}\n",
    "#     fig, ax1=plt.subplots(1,figsize=(10, 5), dpi= 50, facecolor='w', edgecolor='k')\n",
    "#     for sub_key in super_domain.domains_key_list:\n",
    "#         sub = super_domain.get_feti_subdomains(sub_key)\n",
    "#         connectivity[sub_key] = sub.mesh.connectivity\n",
    "#         nodes[sub_key] = sub.mesh.nodes\n",
    "#         quad, ax = amfe.plotDeformQuadMesh(connectivity[sub_key],nodes[sub_key],u[sub_key],scale,ax1) \n",
    "          \n",
    "#     plt.show()\n",
    "\n",
    "# interact(plot_static,scale=(0,200,5))  "
   ]
  },
  {
   "cell_type": "code",
   "execution_count": 6,
   "metadata": {
    "collapsed": true
   },
   "outputs": [],
   "source": [
    "# solving the project Dual interface problem\n",
    "I = np.eye(n_int,n_int)\n",
    "GGT =  G.dot(G.T)\n",
    "GTe = G.T.dot(e)\n",
    "P = I - G.T.dot(np.linalg.inv(GGT)).dot(G)\n",
    "\n",
    "# Solving lamda im\n",
    "lambda_im = G.T.dot(np.linalg.solve(GGT,e))"
   ]
  },
  {
   "cell_type": "code",
   "execution_count": 7,
   "metadata": {
    "collapsed": true
   },
   "outputs": [],
   "source": [
    "r0 = d - F.dot(lambda_im)\n",
    "n_int = len(r0)\n",
    "\n",
    "GGT_inv = np.linalg.inv(GGT)\n",
    "F_action = lambda x : F.dot(x)\n",
    "P_action = lambda w : (np.eye(n_int) - G.T.dot(GGT_inv).dot(G)).dot(w)\n",
    "\n",
    "lambda_ker, last_res, proj_r_hist, lambda_hist = amfe.PCGP(F_action,r0,P_action)\n",
    "lambda_sol =  lambda_im + lambda_ker\n",
    "\n",
    "dtil = d - F_action(lambda_sol)\n",
    "alpha_pgc = np.linalg.solve(GGT,G.dot(dtil))\n",
    "u = super_domain.eval_subdomain_displacement(lambda_sol,0*alpha_pgc)"
   ]
  },
  {
   "cell_type": "code",
   "execution_count": 8,
   "metadata": {},
   "outputs": [
    {
     "data": {
      "application/vnd.jupyter.widget-view+json": {
       "model_id": "a5a1e480b9484c7a8334d9eaf62b9150",
       "version_major": 2,
       "version_minor": 0
      },
      "text/plain": [
       "A Jupyter Widget"
      ]
     },
     "metadata": {},
     "output_type": "display_data"
    }
   ],
   "source": [
    "from ipywidgets import interact, interactive, fixed, interact_manual\n",
    "import ipywidgets as widgets\n",
    "def plot_static(scale=0,alpha_scale=1):\n",
    "    u = super_domain.eval_subdomain_displacement(lambda_sol,alpha_scale*alpha_pgc)\n",
    "    connectivity = {}\n",
    "    nodes = {}\n",
    "    fig, ax1=plt.subplots(1,figsize=(10, 5), dpi= 50, facecolor='w', edgecolor='k')\n",
    "    for sub_key in super_domain.domains_key_list:\n",
    "        sub = super_domain.get_feti_subdomains(sub_key)\n",
    "        connectivity[sub_key] = sub.mesh.connectivity\n",
    "        nodes[sub_key] = sub.mesh.nodes\n",
    "        quad, ax = amfe.plotDeformQuadMesh(connectivity[sub_key],nodes[sub_key],u[sub_key],scale,ax1) \n",
    "          \n",
    "    plt.show()\n",
    "    return u\n",
    "\n",
    "u = interact(plot_static,scale=(0,200,5),alpha_scale=(-1,1,0.1))  "
   ]
  },
  {
   "cell_type": "code",
   "execution_count": 9,
   "metadata": {},
   "outputs": [
    {
     "data": {
      "text/plain": [
       "array([ -1.48855021e+07,  -1.34400459e+06,   7.44275104e+06,\n",
       "        -1.44740154e+06,   1.28152627e-03,   5.29262835e+05,\n",
       "        -2.46272526e-08,   4.61014111e-09,   7.13427916e-04,\n",
       "        -6.03480978e+06,   7.44275104e+06,   1.97666438e+06,\n",
       "        -7.44275104e+06,   1.97666438e+06,  -5.74968365e-06,\n",
       "        -6.69336565e+06,   4.07994484e-06,   3.42406592e+06,\n",
       "        -2.41634364e-06,  -1.49877078e+06,   7.44275104e+06,\n",
       "         1.44740154e+06,  -1.48855021e+07,   1.34400459e+06])"
      ]
     },
     "execution_count": 9,
     "metadata": {},
     "output_type": "execute_result"
    }
   ],
   "source": [
    "lambda_ker"
   ]
  },
  {
   "cell_type": "code",
   "execution_count": 10,
   "metadata": {},
   "outputs": [
    {
     "data": {
      "text/plain": [
       "array([ -4.98855021e+07,   3.22662072e+05,  -2.50572490e+07,\n",
       "         2.19265126e+05,   1.28152627e-03,   5.29262835e+05,\n",
       "        -2.46272526e-08,   4.61014111e-09,   7.13427916e-04,\n",
       "        -6.03480978e+06,  -2.50572490e+07,   3.09997709e+05,\n",
       "         2.50572490e+07,   3.09997709e+05,  -5.76060130e-06,\n",
       "        -2.66989824e+04,   4.09510422e-06,   9.07325830e+04,\n",
       "        -2.37950940e-06,   1.67895889e+05,  -2.50572490e+07,\n",
       "        -2.19265126e+05,  -4.98855021e+07,  -3.22662072e+05])"
      ]
     },
     "execution_count": 10,
     "metadata": {},
     "output_type": "execute_result"
    }
   ],
   "source": [
    "lambda_sol"
   ]
  },
  {
   "cell_type": "code",
   "execution_count": 11,
   "metadata": {},
   "outputs": [
    {
     "data": {
      "text/plain": [
       "array([  2.12428027e-03,  -1.97829132e-04,   2.12428027e-03,\n",
       "         1.97829132e-04,   0.00000000e+00,   0.00000000e+00,\n",
       "         0.00000000e+00,   0.00000000e+00,   0.00000000e+00,\n",
       "         0.00000000e+00,   2.12428027e-03,  -1.97829132e-04,\n",
       "        -2.12428027e-03,  -1.97829132e-04,   4.64905892e-16,\n",
       "        -1.03291317e-03,   2.98502542e-15,  -3.95658263e-04,\n",
       "         1.72404408e-15,  -7.14285714e-04,   2.12428027e-03,\n",
       "        -1.97829132e-04,   2.12428027e-03,   1.97829132e-04])"
      ]
     },
     "execution_count": 11,
     "metadata": {},
     "output_type": "execute_result"
    }
   ],
   "source": [
    "d"
   ]
  },
  {
   "cell_type": "code",
   "execution_count": 12,
   "metadata": {},
   "outputs": [
    {
     "data": {
      "text/plain": [
       "array([ -1.19652620e-02,  -9.23220552e-04,  -1.19712845e-02,\n",
       "        -5.27562289e-04,   1.67055952e-12,   1.06646029e-13,\n",
       "         1.41096397e-20,   7.44302661e-21,   9.29535962e-13,\n",
       "         3.60382297e-14,  -1.19712845e-02,   5.27562287e-04,\n",
       "         1.19712845e-02,   5.27562289e-04,  -5.00391829e-15,\n",
       "         3.93779517e-04,   2.10291853e-15,   1.05512458e-03,\n",
       "        -2.18332568e-15,   7.24452046e-04,  -1.19712845e-02,\n",
       "         5.27562286e-04,  -1.19652620e-02,   9.23220550e-04])"
      ]
     },
     "execution_count": 12,
     "metadata": {},
     "output_type": "execute_result"
    }
   ],
   "source": [
    "F_action(lambda_sol)"
   ]
  },
  {
   "cell_type": "code",
   "execution_count": 13,
   "metadata": {},
   "outputs": [
    {
     "data": {
      "text/plain": [
       "array([ -3.50000000e+07,   1.66666667e+06,  -3.25000000e+07,\n",
       "         1.66666667e+06,   0.00000000e+00,   0.00000000e+00,\n",
       "         0.00000000e+00,   0.00000000e+00,   0.00000000e+00,\n",
       "         0.00000000e+00,  -3.25000000e+07,  -1.66666667e+06,\n",
       "         3.25000000e+07,  -1.66666667e+06,  -1.09176493e-08,\n",
       "         6.66666667e+06,   1.51593828e-08,  -3.33333333e+06,\n",
       "         3.68342389e-08,   1.66666667e+06,  -3.25000000e+07,\n",
       "        -1.66666667e+06,  -3.50000000e+07,  -1.66666667e+06])"
      ]
     },
     "execution_count": 13,
     "metadata": {},
     "output_type": "execute_result"
    }
   ],
   "source": [
    "lambda_im"
   ]
  },
  {
   "cell_type": "code",
   "execution_count": 14,
   "metadata": {},
   "outputs": [
    {
     "data": {
      "text/plain": [
       "array([ -4.98855021e+07,   3.22662072e+05,  -2.50572490e+07,\n",
       "         2.19265126e+05,   1.28152627e-03,   5.29262835e+05,\n",
       "        -2.46272526e-08,   4.61014111e-09,   7.13427916e-04,\n",
       "        -6.03480978e+06,  -2.50572490e+07,   3.09997709e+05,\n",
       "         2.50572490e+07,   3.09997709e+05,  -5.76060130e-06,\n",
       "        -2.66989824e+04,   4.09510422e-06,   9.07325830e+04,\n",
       "        -2.37950940e-06,   1.67895889e+05,  -2.50572490e+07,\n",
       "        -2.19265126e+05,  -4.98855021e+07,  -3.22662072e+05])"
      ]
     },
     "execution_count": 14,
     "metadata": {},
     "output_type": "execute_result"
    }
   ],
   "source": [
    "lambda_sol"
   ]
  },
  {
   "cell_type": "code",
   "execution_count": 15,
   "metadata": {},
   "outputs": [
    {
     "data": {
      "application/vnd.jupyter.widget-view+json": {
       "model_id": "5b9385899e8543a8a6fd26a350f35e54",
       "version_major": 2,
       "version_minor": 0
      },
      "text/plain": [
       "A Jupyter Widget"
      ]
     },
     "metadata": {},
     "output_type": "display_data"
    }
   ],
   "source": [
    "from ipywidgets import interact, interactive, fixed, interact_manual\n",
    "import ipywidgets as widgets\n",
    "def plot_static(scale=200,alpha_0=0,\n",
    "                          alpha_1=0,\n",
    "                          alpha_2=0,\n",
    "                          alpha_3=0,\n",
    "                          alpha_4=0,\n",
    "                          alpha_5=0):\n",
    "    alpha_vec = np.array([alpha_0,alpha_1,alpha_2,alpha_3,alpha_4,alpha_5])\n",
    "    u = super_domain.eval_subdomain_displacement(lambda_sol,alpha_vec,method='cholsps')\n",
    "    connectivity = {}\n",
    "    nodes = {}\n",
    "    fig, ax1=plt.subplots(1,figsize=(10, 5), dpi= 50, facecolor='w', edgecolor='k')\n",
    "    for sub_key in super_domain.domains_key_list:\n",
    "        sub = super_domain.get_feti_subdomains(sub_key)\n",
    "        connectivity[sub_key] = sub.mesh.connectivity\n",
    "        nodes[sub_key] = sub.mesh.nodes\n",
    "        quad, ax = amfe.plotDeformQuadMesh(connectivity[sub_key],nodes[sub_key],u[sub_key],scale,ax1) \n",
    "    \n",
    "    plt.xlim([-4,8])\n",
    "    plt.ylim([-1,3])\n",
    "    plt.show()\n",
    "\n",
    "    return None\n",
    "\n",
    "u0 = interact(plot_static,scale=(0,200,5),alpha_0=(-1,1,0.1),alpha_1=(-1,1,0.1),alpha_2=(-1,1,0.1),alpha_3=(-1,1,0.1),\n",
    "              alpha_4=(-1,1,0.1),alpha_5=(-1,1,0.1))  \n"
   ]
  },
  {
   "cell_type": "code",
   "execution_count": 16,
   "metadata": {},
   "outputs": [
    {
     "data": {
      "text/plain": [
       "array([ -4.98855021e+07,   3.22662072e+05,  -2.50572490e+07,\n",
       "         2.19265126e+05,   1.28152627e-03,   5.29262835e+05,\n",
       "        -2.46272526e-08,   4.61014111e-09,   7.13427916e-04,\n",
       "        -6.03480978e+06,  -2.50572490e+07,   3.09997709e+05,\n",
       "         2.50572490e+07,   3.09997709e+05,  -5.76060130e-06,\n",
       "        -2.66989824e+04,   4.09510422e-06,   9.07325830e+04,\n",
       "        -2.37950940e-06,   1.67895889e+05,  -2.50572490e+07,\n",
       "        -2.19265126e+05,  -4.98855021e+07,  -3.22662072e+05])"
      ]
     },
     "execution_count": 16,
     "metadata": {},
     "output_type": "execute_result"
    }
   ],
   "source": [
    "lambda_sol\n"
   ]
  },
  {
   "cell_type": "code",
   "execution_count": 17,
   "metadata": {},
   "outputs": [
    {
     "data": {
      "text/plain": [
       "{(1, 2): array([0, 1, 2, 3]),\n",
       " (1, 3): array([4, 5, 6, 7, 8, 9]),\n",
       " (1, 4): array([10, 11]),\n",
       " (2, 1): array([0, 1, 2, 3]),\n",
       " (2, 3): array([12, 13]),\n",
       " (2, 4): array([14, 15, 16, 17, 18, 19]),\n",
       " (3, 1): array([4, 5, 6, 7, 8, 9]),\n",
       " (3, 2): array([12, 13]),\n",
       " (3, 4): array([20, 21, 22, 23]),\n",
       " (4, 1): array([10, 11]),\n",
       " (4, 2): array([14, 15, 16, 17, 18, 19]),\n",
       " (4, 3): array([20, 21, 22, 23])}"
      ]
     },
     "execution_count": 17,
     "metadata": {},
     "output_type": "execute_result"
    }
   ],
   "source": [
    "super_domain.lambda_global_dict"
   ]
  },
  {
   "cell_type": "code",
   "execution_count": 18,
   "metadata": {},
   "outputs": [
    {
     "data": {
      "text/plain": [
       "array([ 0.02168726,  0.01449937,  0.02267458,  0.02200225,  0.00196841,\n",
       "       -0.02658443])"
      ]
     },
     "execution_count": 18,
     "metadata": {},
     "output_type": "execute_result"
    }
   ],
   "source": [
    "alpha_pgc"
   ]
  },
  {
   "cell_type": "code",
   "execution_count": 19,
   "metadata": {},
   "outputs": [
    {
     "data": {
      "text/plain": [
       "array([[ 0.39181781, -0.4456824 ,  0.14127243, -0.4456824 , -0.        ,\n",
       "        -0.        , -0.        , -0.        , -0.        , -0.        ,\n",
       "        -0.        , -0.        , -0.14127243,  0.4456824 , -0.14127243,\n",
       "        -0.05540836, -0.14127243,  0.4456824 , -0.14127243,  0.19513702,\n",
       "        -0.        , -0.        , -0.        , -0.        ],\n",
       "       [ 0.00728577,  0.18426044,  0.35175628,  0.18426044, -0.        ,\n",
       "        -0.        , -0.        , -0.        , -0.        , -0.        ,\n",
       "        -0.        , -0.        , -0.35175628, -0.18426044, -0.35175628,\n",
       "         0.50468057, -0.35175628, -0.18426044, -0.35175628,  0.16021007,\n",
       "        -0.        , -0.        , -0.        , -0.        ],\n",
       "       [ 0.24196473,  0.34044109,  0.26159288,  0.34044109, -0.        ,\n",
       "        -0.        , -0.        , -0.        , -0.        , -0.        ,\n",
       "        -0.        , -0.        , -0.26159288, -0.34044109, -0.26159288,\n",
       "        -0.30118479, -0.26159288, -0.34044109, -0.26159288, -0.32081294,\n",
       "        -0.        , -0.        , -0.        , -0.        ],\n",
       "       [-0.        , -0.        , -0.        , -0.        , -0.        ,\n",
       "        -0.        , -0.        , -0.        , -0.        , -0.        ,\n",
       "         0.20170971,  0.41370708, -0.        , -0.        ,  0.20170971,\n",
       "         0.12452478,  0.20170971,  0.41370708,  0.20170971,  0.26911593,\n",
       "         0.20170971,  0.41370708,  0.34630086,  0.41370708],\n",
       "       [-0.        , -0.        , -0.        , -0.        , -0.        ,\n",
       "        -0.        , -0.        , -0.        , -0.        , -0.        ,\n",
       "         0.22666433, -0.2301602 , -0.        , -0.        ,  0.22666433,\n",
       "         0.55121416,  0.22666433, -0.2301602 ,  0.22666433,  0.16052698,\n",
       "         0.22666433, -0.2301602 , -0.16402285, -0.2301602 ],\n",
       "       [-0.        , -0.        , -0.        , -0.        , -0.        ,\n",
       "        -0.        , -0.        , -0.        , -0.        , -0.        ,\n",
       "        -0.34649342,  0.35264371, -0.        , -0.        , -0.34649342,\n",
       "         0.17070845, -0.34649342,  0.35264371, -0.34649342,  0.26167608,\n",
       "        -0.34649342,  0.35264371, -0.25552579,  0.35264371]])"
      ]
     },
     "execution_count": 19,
     "metadata": {},
     "output_type": "execute_result"
    }
   ],
   "source": [
    "G"
   ]
  },
  {
   "cell_type": "code",
   "execution_count": 20,
   "metadata": {},
   "outputs": [
    {
     "data": {
      "text/plain": [
       "array([-26654512.36982586, -17952102.56915239, -25177880.17963583,\n",
       "       -27400528.83198825,  -3132073.52675244,  30100960.14776047])"
      ]
     },
     "execution_count": 20,
     "metadata": {},
     "output_type": "execute_result"
    }
   ],
   "source": [
    "e"
   ]
  },
  {
   "cell_type": "code",
   "execution_count": 22,
   "metadata": {},
   "outputs": [
    {
     "data": {
      "text/plain": [
       "array([  2.12428027e-03,  -1.97829132e-04,   2.12428027e-03,\n",
       "         1.97829132e-04,   0.00000000e+00,   0.00000000e+00,\n",
       "         0.00000000e+00,   0.00000000e+00,   0.00000000e+00,\n",
       "         0.00000000e+00,   2.12428027e-03,  -1.97829132e-04,\n",
       "        -2.12428027e-03,  -1.97829132e-04,   4.64905892e-16,\n",
       "        -1.03291317e-03,   2.98502542e-15,  -3.95658263e-04,\n",
       "         1.72404408e-15,  -7.14285714e-04,   2.12428027e-03,\n",
       "        -1.97829132e-04,   2.12428027e-03,   1.97829132e-04])"
      ]
     },
     "execution_count": 22,
     "metadata": {},
     "output_type": "execute_result"
    }
   ],
   "source": [
    "d"
   ]
  },
  {
   "cell_type": "code",
   "execution_count": null,
   "metadata": {
    "collapsed": true
   },
   "outputs": [],
   "source": []
  }
 ],
 "metadata": {
  "kernelspec": {
   "display_name": "Python 3",
   "language": "python",
   "name": "python3"
  },
  "language_info": {
   "codemirror_mode": {
    "name": "ipython",
    "version": 3
   },
   "file_extension": ".py",
   "mimetype": "text/x-python",
   "name": "python",
   "nbconvert_exporter": "python",
   "pygments_lexer": "ipython3",
   "version": "3.6.3"
  }
 },
 "nbformat": 4,
 "nbformat_minor": 2
}
