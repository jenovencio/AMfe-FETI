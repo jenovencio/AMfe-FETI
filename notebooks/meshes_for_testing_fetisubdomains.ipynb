{
 "cells": [
  {
   "cell_type": "code",
   "execution_count": 1,
   "metadata": {},
   "outputs": [
    {
     "name": "stdout",
     "output_type": "stream",
     "text": [
      "Python was not able to load the fast fortran assembly routines.\n",
      "\n",
      "Python was not able to load the fast fortran material routines.\n",
      "\n"
     ]
    },
    {
     "data": {
      "image/png": "[encoded data removed]",
      "text/plain": [
       "<Figure size 800x400 with 1 Axes>"
      ]
     },
     "metadata": {},
     "output_type": "display_data"
    }
   ],
   "source": [
    "import sys \n",
    "#sys.path.append(r'H:\\TUM-PC\\Dokumente\\Projects\\AMfe')\n",
    "\n",
    "import amfe\n",
    "import matplotlib.pyplot as plt\n",
    "%matplotlib inline \n",
    "import numpy as np\n",
    "import scipy\n",
    "import copy\n",
    "import pandas as pd\n",
    "\n",
    "msh_dict = {}\n",
    "msh_dict[0] = amfe.amfe_dir('meshes/test_meshes/retangule_5_by_2_quad_par_2_irreg.msh')\n",
    "msh_dict[1] = amfe.amfe_dir('meshes/test_meshes/retangule_5_by_2_ref_quad_par_2.msh')\n",
    "msh_dict[2] = amfe.amfe_dir('meshes/test_meshes/retangule_5_by_2_ref_tri_par_2.msh')\n",
    "msh_dict[3] = amfe.amfe_dir('meshes/test_meshes/retangule_5_by_2_tri_par_2.msh')\n",
    "msh_dict[4] = amfe.amfe_dir('meshes/test_meshes/retangule_square_hole_5_by_2_quad_par_2.msh')\n",
    "msh_dict[5] = amfe.amfe_dir('meshes/test_meshes/retangule_square_hole_5_by_2_tri_par_2.msh')\n",
    "msh_dict[6] = amfe.amfe_dir('retangule_square_hole_5_by_2_tri_par_8.msh')\n",
    "\n",
    "domain_id = {}\n",
    "domain_id[0] = 6\n",
    "domain_id[1] = 6\n",
    "domain_id[2] = 6\n",
    "domain_id[3] = 6\n",
    "domain_id[4] = 6\n",
    "domain_id[5] = 6\n",
    "domain_id[6] = 6\n",
    "\n",
    "bc = {}\n",
    "bc[0] = [3,1,2]\n",
    "bc[1] = [3,1,10]\n",
    "bc[2] = [3,1,10]\n",
    "bc[3] = [3,1,10]\n",
    "bc[4] = [3,1,10]\n",
    "bc[5] = [3,1,10]\n",
    "bc[6] = [3,1,10]\n",
    "\n",
    "# select mesh to be plotted\n",
    "id = 0\n",
    "mshfile = msh_dict[id]\n",
    "\n",
    "# instanciating mesh class\n",
    "m1 = amfe.Mesh()\n",
    "m1.import_msh(mshfile)\n",
    "\n",
    "\n",
    "fig, ax1=plt.subplots(1,figsize=(10, 5), dpi= 80, facecolor='w', edgecolor='k')\n",
    "amfe.plot_mesh(m1,ax1)\n",
    "plt.show()"
   ]
  },
  {
   "cell_type": "code",
   "execution_count": 2,
   "metadata": {
    "collapsed": true
   },
   "outputs": [],
   "source": [
    "my_material = amfe.KirchhoffMaterial(E=210E9, nu=0.3, rho=7.86E3, plane_stress=True, thickness=0.1)\n",
    "domain = m1.set_domain('phys_group',6)\n"
   ]
  },
  {
   "cell_type": "code",
   "execution_count": 3,
   "metadata": {},
   "outputs": [
    {
     "name": "stdout",
     "output_type": "stream",
     "text": [
      "Extract interface node from sub_2 and sub_1\n",
      "Interface nodes from sub_1 and sub_2 already extracted\n"
     ]
    },
    {
     "data": {
      "text/plain": [
       "{2: <amfe.mesh.SubMesh at 0x2372c69c7f0>,\n",
       " 1: <amfe.mesh.SubMesh at 0x237303a1358>}"
      ]
     },
     "execution_count": 3,
     "metadata": {},
     "output_type": "execute_result"
    }
   ],
   "source": [
    "domain.split_in_partitions()"
   ]
  },
  {
   "cell_type": "code",
   "execution_count": 4,
   "metadata": {},
   "outputs": [
    {
     "data": {
      "image/png": "[encoded data removed]",
      "text/plain": [
       "<Figure size 1000x250 with 1 Axes>"
      ]
     },
     "metadata": {},
     "output_type": "display_data"
    }
   ],
   "source": [
    "fig, ax1=plt.subplots(1,figsize=(20, 5), dpi= 50, facecolor='w', edgecolor='k')\n",
    "amfe.plot_domain(domain,ax1)\n",
    "plt.show()"
   ]
  },
  {
   "cell_type": "code",
   "execution_count": 5,
   "metadata": {},
   "outputs": [
    {
     "data": {
      "image/png": "[encoded data removed]",
      "text/plain": [
       "<Figure size 1000x250 with 1 Axes>"
      ]
     },
     "metadata": {},
     "output_type": "display_data"
    }
   ],
   "source": [
    "fig, ax1=plt.subplots(1,figsize=(20, 5), dpi= 50, facecolor='w', edgecolor='k')\n",
    "amfe.plot_submesh(domain.groups[1],ax1)\n",
    "plt.show()"
   ]
  },
  {
   "cell_type": "code",
   "execution_count": 6,
   "metadata": {},
   "outputs": [
    {
     "data": {
      "image/png": "[encoded data removed]",
      "text/plain": [
       "<Figure size 1000x250 with 1 Axes>"
      ]
     },
     "metadata": {},
     "output_type": "display_data"
    }
   ],
   "source": [
    "fig, ax1=plt.subplots(1,figsize=(20, 5), dpi= 50, facecolor='w', edgecolor='k')\n",
    "amfe.plot_submesh(domain.groups[2],ax1)\n",
    "plt.show()"
   ]
  },
  {
   "cell_type": "code",
   "execution_count": 7,
   "metadata": {},
   "outputs": [
    {
     "name": "stdout",
     "output_type": "stream",
     "text": [
      "Preallocating the stiffness matrix\n",
      "Done preallocating stiffness matrix with 36 elements and 100 dofs.\n",
      "Time taken for preallocation: 0.00 seconds.\n",
      "Extract interface node from sub_2 and sub_1\n",
      "Interface nodes from sub_1 and sub_2 already extracted\n",
      "Preallocating the stiffness matrix\n",
      "Done preallocating stiffness matrix with 18 elements and 56 dofs.\n",
      "Time taken for preallocation: 0.00 seconds.\n",
      "Preallocating the stiffness matrix\n",
      "Done preallocating stiffness matrix with 18 elements and 56 dofs.\n",
      "Time taken for preallocation: 0.00 seconds.\n"
     ]
    },
    {
     "name": "stderr",
     "output_type": "stream",
     "text": [
      "C:\\Users\\ge72tih\\AppData\\Local\\Continuum\\anaconda3\\envs\\py36\\lib\\site-packages\\scipy\\sparse\\compressed.py:746: SparseEfficiencyWarning: Changing the sparsity structure of a csc_matrix is expensive. lil_matrix is more efficient.\n",
      "  SparseEfficiencyWarning)\n",
      "C:\\Users\\ge72tih\\AppData\\Local\\Continuum\\anaconda3\\envs\\py36\\lib\\site-packages\\scipy\\sparse\\compressed.py:746: SparseEfficiencyWarning: Changing the sparsity structure of a csr_matrix is expensive. lil_matrix is more efficient.\n",
      "  SparseEfficiencyWarning)\n"
     ]
    }
   ],
   "source": [
    "splitting_tag ='partition_id'\n",
    "value = 1e8\n",
    "solver_type ='svd'\n",
    "solver_type ='cholsps'\n",
    "solver_type ='splusps'\n",
    "\n",
    "my_comp = amfe.MechanicalSystem()\n",
    "m2 = copy.deepcopy(m1)\n",
    "my_comp.set_mesh_obj(m2)\n",
    "my_comp.set_domain(6,my_material)\n",
    "my_comp.apply_dirichlet_boundaries(1, 'xy')\n",
    "\n",
    "my_comp.apply_neumann_boundaries(3, value, 'normal')\n",
    "domain = my_comp.domain\n",
    "domain.split_in_partitions(splitting_tag)\n",
    "super_domain = amfe.SuperDomain(domain.groups,method=solver_type)\n",
    "global_lambda= super_domain.solve_dual_interface()\n",
    "\n",
    "d = super_domain.assemble_global_d()\n",
    "Fim = super_domain.action_of_global_F(global_lambda)\n",
    "dgap = d - Fim\n",
    "\n",
    "global_alpha = super_domain.solve_alpha_given_error_gap(dgap)"
   ]
  },
  {
   "cell_type": "code",
   "execution_count": 8,
   "metadata": {},
   "outputs": [
    {
     "data": {
      "application/vnd.jupyter.widget-view+json": {
       "model_id": "fc684bc256e8458dae44834ae1ff5d86",
       "version_major": 2,
       "version_minor": 0
      },
      "text/plain": [
       "interactive(children=(IntSlider(value=1, description='scale', max=200, step=5), Output()), _dom_classes=('widg…"
      ]
     },
     "metadata": {},
     "output_type": "display_data"
    },
    {
     "data": {
      "text/plain": [
       "<function __main__.plot_static(scale=1)>"
      ]
     },
     "execution_count": 8,
     "metadata": {},
     "output_type": "execute_result"
    }
   ],
   "source": [
    "u_dict = super_domain.eval_subdomain_displacement(global_lambda, 0.0*global_alpha)\n",
    "\n",
    "def plot_static(scale=1):\n",
    "    fig, ax1=plt.subplots(1,figsize=(20, 5), dpi= 50, facecolor='w', edgecolor='k')\n",
    "    amfe.plot_superdomain(super_domain, scale=scale, ax1 = ax1 )\n",
    "    plt.show()\n",
    "    \n",
    "from ipywidgets import interact, interactive, fixed, interact_manual\n",
    "import ipywidgets as widgets\n",
    "interact(plot_static,scale=(0,200,5))  "
   ]
  },
  {
   "cell_type": "code",
   "execution_count": 9,
   "metadata": {},
   "outputs": [
    {
     "data": {
      "text/plain": [
       "{1: array([-1.92699117e-02, -8.01586214e-04, -1.66177317e-02,  6.35496481e-05,\n",
       "        -1.73965645e-02, -6.53409005e-04, -2.00429546e-02, -1.52711470e-03,\n",
       "        -1.81783349e-02, -1.36863211e-03, -2.08210342e-02, -2.24349423e-03,\n",
       "        -1.50638458e-02,  1.49573140e-03, -1.24169731e-02,  2.35754452e-03,\n",
       "        -1.31940016e-02,  1.64306051e-03, -1.58393200e-02,  7.80508301e-04,\n",
       "        -1.39719312e-02,  9.28685510e-04, -1.47512462e-02,  2.14310514e-04,\n",
       "        -1.55314622e-02, -5.00173503e-04, -9.77050574e-03,  3.22214435e-03,\n",
       "        -1.05486916e-02,  2.50786035e-03, -1.13269950e-02,  1.79382137e-03,\n",
       "        -1.21059362e-02,  1.07978239e-03, -1.28849948e-02,  3.65498398e-04,\n",
       "        -7.12469358e-03,  4.08736821e-03, -7.90326015e-03,  3.37311007e-03,\n",
       "        -8.68179579e-03,  2.65895723e-03, -9.46050471e-03,  1.94480440e-03,\n",
       "        -1.02391827e-02,  1.23054626e-03, -4.47914732e-03,  4.95257098e-03,\n",
       "        -5.25777848e-03,  4.23830534e-03, -6.03637948e-03,  3.52409310e-03,\n",
       "        -6.81502303e-03,  2.80988085e-03, -7.59363642e-03,  2.09561521e-03]),\n",
       " 2: array([ 0.00000000e+00,  0.00000000e+00,  2.76006092e-03,  1.20263758e-03,\n",
       "         2.43134680e-03,  5.00592827e-04,  0.00000000e+00,  0.00000000e+00,\n",
       "         2.40775431e-03, -1.90436727e-15,  0.00000000e+00,  0.00000000e+00,\n",
       "         2.43134680e-03, -5.00592827e-04,  0.00000000e+00,  0.00000000e+00,\n",
       "         2.76006092e-03, -1.20263758e-03,  0.00000000e+00,  0.00000000e+00,\n",
       "         5.25210606e-03,  1.41991998e-03,  5.11809651e-03,  7.27712491e-04,\n",
       "         5.04602522e-03, -1.74961976e-15,  5.11809651e-03, -7.27712491e-04,\n",
       "         5.25210606e-03, -1.41991998e-03,  7.81097449e-03,  1.45610943e-03,\n",
       "         7.77912831e-03,  7.39086198e-04,  7.75339930e-03, -1.41428682e-15,\n",
       "         7.77912831e-03, -7.39086198e-04,  7.81097449e-03, -1.45610943e-03,\n",
       "         1.04313683e-02,  1.44190801e-03,  1.04308256e-02,  7.25528490e-04,\n",
       "         1.04252463e-02, -1.12310083e-15,  1.04308256e-02, -7.25528490e-04,\n",
       "         1.04313683e-02, -1.44190801e-03,  1.30740676e-02,  1.43218175e-03,\n",
       "         1.30772158e-02,  7.16958653e-04,  1.30774263e-02, -8.94468781e-16])}"
      ]
     },
     "execution_count": 9,
     "metadata": {},
     "output_type": "execute_result"
    }
   ],
   "source": [
    "u_dict"
   ]
  },
  {
   "cell_type": "code",
   "execution_count": 10,
   "metadata": {},
   "outputs": [
    {
     "data": {
      "text/plain": [
       "array([ 2.50588946e+07, -7.31984084e+04,  4.99965460e+07,  1.28098732e+05,\n",
       "        4.99930489e+07, -2.13712038e+04,  2.50001948e+07, -7.90223371e+04,\n",
       "        2.50067563e+07, -8.41351565e+03,  2.49445595e+07,  5.39067330e+04])"
      ]
     },
     "execution_count": 10,
     "metadata": {},
     "output_type": "execute_result"
    }
   ],
   "source": [
    "global_lambda"
   ]
  },
  {
   "cell_type": "code",
   "execution_count": 11,
   "metadata": {},
   "outputs": [
    {
     "data": {
      "text/plain": [
       "array([-0.00639598,  0.03125   , -0.00959524])"
      ]
     },
     "execution_count": 11,
     "metadata": {},
     "output_type": "execute_result"
    }
   ],
   "source": [
    "global_alpha"
   ]
  },
  {
   "cell_type": "code",
   "execution_count": 12,
   "metadata": {
    "collapsed": true
   },
   "outputs": [],
   "source": [
    "G = super_domain.G\n",
    "e = super_domain.e\n",
    "F, d = super_domain.assemble_F_and_d()"
   ]
  },
  {
   "cell_type": "code",
   "execution_count": 13,
   "metadata": {},
   "outputs": [
    {
     "data": {
      "text/plain": [
       "array([-0.01371267, -0.00704265, -0.01678157, -0.00704265, -0.01064378,\n",
       "       -0.00363276, -0.01371267, -0.00363276, -0.00757488, -0.00363276,\n",
       "       -0.01985047, -0.00704265])"
      ]
     },
     "execution_count": 13,
     "metadata": {},
     "output_type": "execute_result"
    }
   ],
   "source": [
    "F.dot(global_lambda) + G.T.dot(global_alpha) - d"
   ]
  },
  {
   "cell_type": "code",
   "execution_count": 14,
   "metadata": {},
   "outputs": [
    {
     "data": {
      "text/plain": [
       "array([7.12811628e-09, 0.00000000e+00, 1.29218253e-09])"
      ]
     },
     "execution_count": 14,
     "metadata": {},
     "output_type": "execute_result"
    }
   ],
   "source": [
    "G.dot(global_lambda)- e"
   ]
  },
  {
   "cell_type": "code",
   "execution_count": 15,
   "metadata": {
    "collapsed": true
   },
   "outputs": [],
   "source": [
    "sub1 = super_domain.get_feti_subdomains(1)"
   ]
  },
  {
   "cell_type": "code",
   "execution_count": 16,
   "metadata": {
    "collapsed": true
   },
   "outputs": [],
   "source": [
    "R1 = sub1.null_space"
   ]
  },
  {
   "cell_type": "code",
   "execution_count": 17,
   "metadata": {
    "collapsed": true
   },
   "outputs": [],
   "source": [
    "sub2 = super_domain.get_feti_subdomains(2)\n",
    "R2 = sub2.null_space"
   ]
  },
  {
   "cell_type": "code",
   "execution_count": 18,
   "metadata": {
    "collapsed": true
   },
   "outputs": [],
   "source": [
    "B1 = sub1.B_dict[1,2]"
   ]
  },
  {
   "cell_type": "code",
   "execution_count": 19,
   "metadata": {
    "collapsed": true
   },
   "outputs": [],
   "source": [
    "G1  = -B1.dot(R1)"
   ]
  },
  {
   "cell_type": "code",
   "execution_count": 20,
   "metadata": {},
   "outputs": [
    {
     "name": "stdout",
     "output_type": "stream",
     "text": [
      "[[-5.19389983e-12 -1.00000000e+00  5.19471744e-12]\n",
      " [-5.00000000e+00  1.37284510e-15  4.00000000e+00]\n",
      " [-9.00000000e-01 -1.00000000e+00  9.00000000e-01]\n",
      " [-5.00000000e+00  1.24220157e-15  4.00000000e+00]\n",
      " [ 9.00000000e-01 -1.00000000e+00 -9.00000000e-01]\n",
      " [-4.00000000e+00  1.21707716e-15  3.00000000e+00]\n",
      " [-4.66387682e-12 -1.00000000e+00  4.66465905e-12]\n",
      " [-4.00000000e+00  1.06100854e-15  3.00000000e+00]\n",
      " [ 1.80000000e+00 -1.00000000e+00 -1.80000000e+00]\n",
      " [-4.00000000e+00  1.08781370e-15  3.00000000e+00]\n",
      " [-1.80000000e+00 -1.00000000e+00  1.80000000e+00]\n",
      " [-5.00000000e+00  9.75626982e-16  4.00000000e+00]]\n"
     ]
    }
   ],
   "source": [
    "print(G1)"
   ]
  },
  {
   "cell_type": "code",
   "execution_count": 21,
   "metadata": {},
   "outputs": [
    {
     "data": {
      "text/plain": [
       "array([[-5.19389983e-12, -1.00000000e+00,  5.19471744e-12],\n",
       "       [-5.00000000e+00,  1.37284510e-15,  4.00000000e+00],\n",
       "       [-9.00000000e-01, -1.00000000e+00,  9.00000000e-01],\n",
       "       [-5.00000000e+00,  1.24220157e-15,  4.00000000e+00],\n",
       "       [ 9.00000000e-01, -1.00000000e+00, -9.00000000e-01],\n",
       "       [-4.00000000e+00,  1.21707716e-15,  3.00000000e+00],\n",
       "       [-4.66387682e-12, -1.00000000e+00,  4.66465905e-12],\n",
       "       [-4.00000000e+00,  1.06100854e-15,  3.00000000e+00],\n",
       "       [ 1.80000000e+00, -1.00000000e+00, -1.80000000e+00],\n",
       "       [-4.00000000e+00,  1.08781370e-15,  3.00000000e+00],\n",
       "       [-1.80000000e+00, -1.00000000e+00,  1.80000000e+00],\n",
       "       [-5.00000000e+00,  9.75626982e-16,  4.00000000e+00]])"
      ]
     },
     "execution_count": 21,
     "metadata": {},
     "output_type": "execute_result"
    }
   ],
   "source": [
    "G.T"
   ]
  },
  {
   "cell_type": "code",
   "execution_count": 22,
   "metadata": {},
   "outputs": [
    {
     "name": "stdout",
     "output_type": "stream",
     "text": [
      "[[ 5.19389983e-12  1.00000000e+00 -5.19471744e-12]\n",
      " [ 5.00000000e+00 -1.37284510e-15 -4.00000000e+00]\n",
      " [ 4.66387682e-12  1.00000000e+00 -4.66465905e-12]\n",
      " [ 4.00000000e+00 -1.06100854e-15 -3.00000000e+00]\n",
      " [ 9.00000000e-01  1.00000000e+00 -9.00000000e-01]\n",
      " [ 4.00000000e+00 -1.03477714e-15 -3.00000000e+00]\n",
      " [ 9.00000000e-01  1.00000000e+00 -9.00000000e-01]\n",
      " [ 5.00000000e+00 -1.24220157e-15 -4.00000000e+00]\n",
      " [ 1.80000000e+00  1.00000000e+00 -1.80000000e+00]\n",
      " [ 4.00000000e+00 -1.04509193e-15 -3.00000000e+00]\n",
      " [ 1.80000000e+00  1.00000000e+00 -1.80000000e+00]\n",
      " [ 5.00000000e+00 -9.75626982e-16 -4.00000000e+00]\n",
      " [-1.80000000e+00  1.00000000e+00  1.80000000e+00]\n",
      " [ 4.00000000e+00 -1.08781370e-15 -3.00000000e+00]\n",
      " [-1.80000000e+00  1.00000000e+00  1.80000000e+00]\n",
      " [ 3.00000000e+00 -5.87307256e-16 -2.00000000e+00]\n",
      " [-9.00000000e-01  1.00000000e+00  9.00000000e-01]\n",
      " [ 3.00000000e+00 -5.27071099e-16 -2.00000000e+00]\n",
      " [-9.00000000e-01  1.00000000e+00  9.00000000e-01]\n",
      " [ 4.00000000e+00 -1.21707716e-15 -3.00000000e+00]\n",
      " [ 4.14697041e-12  1.00000000e+00 -4.14776159e-12]\n",
      " [ 3.00000000e+00 -5.21693755e-16 -2.00000000e+00]\n",
      " [ 9.00000000e-01  1.00000000e+00 -9.00000000e-01]\n",
      " [ 3.00000000e+00 -5.69374080e-16 -2.00000000e+00]\n",
      " [ 1.80000000e+00  1.00000000e+00 -1.80000000e+00]\n",
      " [ 3.00000000e+00 -6.24935686e-16 -2.00000000e+00]\n",
      " [-1.80000000e+00  1.00000000e+00  1.80000000e+00]\n",
      " [ 2.00000000e+00 -1.70298695e-16 -1.00000000e+00]\n",
      " [-9.00000000e-01  1.00000000e+00  9.00000000e-01]\n",
      " [ 2.00000000e+00 -1.29399075e-16 -1.00000000e+00]\n",
      " [ 3.59575497e-12  1.00000000e+00 -3.59631775e-12]\n",
      " [ 2.00000000e+00 -1.38166745e-16 -1.00000000e+00]\n",
      " [ 9.00000000e-01  1.00000000e+00 -9.00000000e-01]\n",
      " [ 2.00000000e+00 -3.46012568e-16 -1.00000000e+00]\n",
      " [ 1.80000000e+00  1.00000000e+00 -1.80000000e+00]\n",
      " [ 2.00000000e+00 -4.31869729e-16 -1.00000000e+00]\n",
      " [-1.80000000e+00  1.00000000e+00  1.80000000e+00]\n",
      " [ 1.00000000e+00  1.25576397e-16 -7.67868271e-13]\n",
      " [-9.00000000e-01  1.00000000e+00  9.00000000e-01]\n",
      " [ 1.00000000e+00  1.41267884e-16 -3.82336095e-13]\n",
      " [ 2.71019293e-12  1.00000000e+00 -2.71035208e-12]\n",
      " [ 1.00000000e+00  0.00000000e+00  0.00000000e+00]\n",
      " [ 9.00000000e-01  1.00000000e+00 -9.00000000e-01]\n",
      " [ 1.00000000e+00 -1.27662687e-16  3.79541168e-13]\n",
      " [ 1.80000000e+00  1.00000000e+00 -1.80000000e+00]\n",
      " [ 1.00000000e+00 -4.34670413e-17  7.51067007e-13]\n",
      " [-1.80000000e+00  1.00000000e+00  1.80000000e+00]\n",
      " [-6.03771050e-15  1.07816259e-16  1.00000000e+00]\n",
      " [-9.00000000e-01  1.00000000e+00  9.00000000e-01]\n",
      " [-5.11849463e-15  1.42815140e-16  1.00000000e+00]\n",
      " [ 0.00000000e+00  1.00000000e+00  0.00000000e+00]\n",
      " [ 0.00000000e+00  0.00000000e+00  1.00000000e+00]\n",
      " [ 9.00000000e-01  1.00000000e+00 -9.00000000e-01]\n",
      " [-4.59712309e-15  2.84965110e-16  1.00000000e+00]\n",
      " [ 1.80000000e+00  1.00000000e+00 -1.80000000e+00]\n",
      " [-5.30898561e-15  2.76371757e-16  1.00000000e+00]]\n"
     ]
    }
   ],
   "source": [
    "print(R1)"
   ]
  },
  {
   "cell_type": "code",
   "execution_count": 23,
   "metadata": {
    "collapsed": true
   },
   "outputs": [],
   "source": [
    "B1 = sub1.B_dict[1,2]\n",
    "B2 = sub2.B_dict[2,1]\n",
    "u1 = sub1.displacement\n",
    "u2 = sub2.displacement\n",
    "ub1 = B1.dot(u1)\n",
    "ub2 = B2.dot(u2)"
   ]
  },
  {
   "cell_type": "code",
   "execution_count": 24,
   "metadata": {},
   "outputs": [
    {
     "data": {
      "text/plain": [
       "array([-1.92699117e-02, -8.01586214e-04, -2.00429546e-02, -1.52711470e-03,\n",
       "       -1.58393200e-02,  7.80508301e-04, -1.66177317e-02,  6.35496481e-05,\n",
       "       -1.50638458e-02,  1.49573140e-03, -2.08210342e-02, -2.24349423e-03])"
      ]
     },
     "execution_count": 24,
     "metadata": {},
     "output_type": "execute_result"
    }
   ],
   "source": [
    "ub1"
   ]
  },
  {
   "cell_type": "code",
   "execution_count": 25,
   "metadata": {},
   "outputs": [
    {
     "data": {
      "text/plain": [
       "array([-1.04252463e-02,  1.12310083e-15, -1.04308256e-02,  7.25528490e-04,\n",
       "       -1.30772158e-02, -7.16958653e-04, -1.30774263e-02,  8.94468781e-16,\n",
       "       -1.30740676e-02, -1.43218175e-03, -1.04313683e-02,  1.44190801e-03])"
      ]
     },
     "execution_count": 25,
     "metadata": {},
     "output_type": "execute_result"
    }
   ],
   "source": [
    "ub2"
   ]
  },
  {
   "cell_type": "code",
   "execution_count": 26,
   "metadata": {
    "collapsed": true
   },
   "outputs": [],
   "source": [
    "error = ub2 + ub1"
   ]
  },
  {
   "cell_type": "code",
   "execution_count": 27,
   "metadata": {},
   "outputs": [
    {
     "data": {
      "text/plain": [
       "array([-2.96951580e-02, -8.01586214e-04, -3.04737803e-02, -8.01586214e-04,\n",
       "       -2.89165357e-02,  6.35496481e-05, -2.96951580e-02,  6.35496481e-05,\n",
       "       -2.81379134e-02,  6.35496481e-05, -3.12524025e-02, -8.01586214e-04])"
      ]
     },
     "execution_count": 27,
     "metadata": {},
     "output_type": "execute_result"
    }
   ],
   "source": [
    "error"
   ]
  },
  {
   "cell_type": "code",
   "execution_count": 28,
   "metadata": {},
   "outputs": [
    {
     "data": {
      "text/plain": [
       "array([-0.02734375, -0.00976562, -0.03515625, -0.00683594, -0.02734375,\n",
       "       -0.00195312, -0.02929688, -0.00439453, -0.02929688, -0.00195312,\n",
       "       -0.0390625 , -0.00390625])"
      ]
     },
     "execution_count": 28,
     "metadata": {},
     "output_type": "execute_result"
    }
   ],
   "source": [
    "dgap"
   ]
  },
  {
   "cell_type": "code",
   "execution_count": 29,
   "metadata": {
    "collapsed": true
   },
   "outputs": [],
   "source": [
    "alpha = np.linalg.solve(G.dot(G.T), G.dot(error))"
   ]
  },
  {
   "cell_type": "code",
   "execution_count": 30,
   "metadata": {},
   "outputs": [
    {
     "data": {
      "text/plain": [
       "array([-0.00265896,  0.02969516, -0.00352409])"
      ]
     },
     "execution_count": 30,
     "metadata": {},
     "output_type": "execute_result"
    }
   ],
   "source": [
    "alpha"
   ]
  },
  {
   "cell_type": "code",
   "execution_count": 31,
   "metadata": {},
   "outputs": [
    {
     "data": {
      "text/plain": [
       "array([-0.00639598,  0.03125   , -0.00959524])"
      ]
     },
     "execution_count": 31,
     "metadata": {},
     "output_type": "execute_result"
    }
   ],
   "source": [
    "global_alpha"
   ]
  },
  {
   "cell_type": "code",
   "execution_count": 32,
   "metadata": {},
   "outputs": [
    {
     "data": {
      "text/plain": [
       "array([-0.01371267, -0.00704265, -0.01678157, -0.00704265, -0.01064378,\n",
       "       -0.00363276, -0.01371267, -0.00363276, -0.00757488, -0.00363276,\n",
       "       -0.01985047, -0.00704265])"
      ]
     },
     "execution_count": 32,
     "metadata": {},
     "output_type": "execute_result"
    }
   ],
   "source": [
    "F.dot(global_lambda) + G.T.dot(global_alpha) - d"
   ]
  },
  {
   "cell_type": "code",
   "execution_count": 33,
   "metadata": {},
   "outputs": [
    {
     "data": {
      "text/plain": [
       "array([-0.01215783, -0.00144317, -0.01312602, -0.00144317, -0.01118965,\n",
       "       -0.00036741, -0.01215783, -0.00036741, -0.01022146, -0.00036741,\n",
       "       -0.0140942 , -0.00144317])"
      ]
     },
     "execution_count": 33,
     "metadata": {},
     "output_type": "execute_result"
    }
   ],
   "source": [
    "F.dot(global_lambda) + G.T.dot(alpha) - d"
   ]
  }
 ],
 "metadata": {
  "kernelspec": {
   "display_name": "Python (py36)",
   "language": "python",
   "name": "py36"
  },
  "language_info": {
   "codemirror_mode": {
    "name": "ipython",
    "version": 3
   },
   "file_extension": ".py",
   "mimetype": "text/x-python",
   "name": "python",
   "nbconvert_exporter": "python",
   "pygments_lexer": "ipython3",
   "version": "3.6.3"
  }
 },
 "nbformat": 4,
 "nbformat_minor": 2
}
