{
 "cells": [
  {
   "cell_type": "code",
   "execution_count": 1,
   "metadata": {},
   "outputs": [
    {
     "name": "stdout",
     "output_type": "stream",
     "text": [
      "\n",
      "Python was not able to load the fast fortran material routines.\n",
      "\n",
      "Extract interface node from sub_1 and sub_2\n",
      "Extract interface node from sub_1 and sub_3\n",
      "Extract interface node from sub_1 and sub_4\n",
      "Interface nodes from sub_2 and sub_1 already extracted\n",
      "Extract interface node from sub_2 and sub_3\n",
      "Extract interface node from sub_2 and sub_4\n",
      "Interface nodes from sub_3 and sub_1 already extracted\n",
      "Interface nodes from sub_3 and sub_2 already extracted\n",
      "Extract interface node from sub_3 and sub_4\n",
      "Interface nodes from sub_4 and sub_1 already extracted\n",
      "Interface nodes from sub_4 and sub_2 already extracted\n",
      "Interface nodes from sub_4 and sub_3 already extracted\n",
      "Extract interface node from sub_1 and sub_2\n",
      "Extract interface node from sub_1 and sub_3\n",
      "Extract interface node from sub_1 and sub_4\n",
      "Interface nodes from sub_2 and sub_1 already extracted\n",
      "Extract interface node from sub_2 and sub_3\n",
      "Extract interface node from sub_2 and sub_4\n",
      "Interface nodes from sub_3 and sub_1 already extracted\n",
      "Interface nodes from sub_3 and sub_2 already extracted\n",
      "Extract interface node from sub_3 and sub_4\n",
      "Interface nodes from sub_4 and sub_1 already extracted\n",
      "Interface nodes from sub_4 and sub_2 already extracted\n",
      "Interface nodes from sub_4 and sub_3 already extracted\n",
      "Preallocating the stiffness matrix\n",
      "Done preallocating stiffness matrix with 2 elements and 12 dofs.\n",
      "Time taken for preallocation: 0.00 seconds.\n",
      "Preallocating the stiffness matrix\n",
      "Done preallocating stiffness matrix with 2 elements and 12 dofs.\n",
      "Time taken for preallocation: 0.00 seconds.\n",
      "Preallocating the stiffness matrix\n",
      "Done preallocating stiffness matrix with 2 elements and 12 dofs.\n",
      "Time taken for preallocation: 0.00 seconds.\n",
      "Preallocating the stiffness matrix\n",
      "Done preallocating stiffness matrix with 2 elements and 12 dofs.\n",
      "Time taken for preallocation: 0.00 seconds.\n",
      "Preallocating the stiffness matrix\n",
      "Done preallocating stiffness matrix with 2 elements and 12 dofs.\n",
      "Time taken for preallocation: 0.00 seconds.\n",
      "Preallocating the stiffness matrix\n",
      "Done preallocating stiffness matrix with 2 elements and 12 dofs.\n",
      "Time taken for preallocation: 0.00 seconds.\n",
      "Preallocating the stiffness matrix\n",
      "Done preallocating stiffness matrix with 2 elements and 12 dofs.\n",
      "Time taken for preallocation: 0.00 seconds.\n",
      "Preallocating the stiffness matrix\n",
      "Done preallocating stiffness matrix with 2 elements and 12 dofs.\n",
      "Time taken for preallocation: 0.00 seconds.\n"
     ]
    },
    {
     "name": "stderr",
     "output_type": "stream",
     "text": [
      "C:\\Users\\ge72tih\\AppData\\Local\\Continuum\\anaconda3\\envs\\py36\\Lib\\site-packages\\scipy\\sparse\\compressed.py:742: SparseEfficiencyWarning: Changing the sparsity structure of a csr_matrix is expensive. lil_matrix is more efficient.\n",
      "  SparseEfficiencyWarning)\n"
     ]
    }
   ],
   "source": [
    "# importaint libraries\n",
    "import sys \n",
    "import amfe\n",
    "import matplotlib.pyplot as plt\n",
    "import numpy as np\n",
    "import scipy\n",
    "import copy\n",
    "import pandas as pd\n",
    "import os\n",
    "\n",
    "directory = 'temp2'\n",
    "system_path = os.path.join(directory, 'system.aft')\n",
    "global_system = amfe.load_obj(system_path)\n",
    "\n",
    "domain = global_system\n",
    "\n",
    "domain.split_in_partitions()\n",
    "\n",
    "problem_type = domain.problem_type\n",
    "num_partitions = len(domain.groups)\n",
    "partitions_list = np.arange(1,num_partitions+1)\n",
    "\n",
    "\n",
    "master = amfe.Master()\n",
    "master.subdomain_keys = partitions_list\n",
    "\n",
    "domain_dict = {}\n",
    "for sub_id in partitions_list:\n",
    "    sub_i =  amfe.FETIsubdomain(domain.groups[sub_id])\n",
    "    domain_dict[sub_id] = sub_i\n",
    "    G_dict = sub_i.calc_G_dict()\n",
    "    subdomain_interface_dofs_dict = sub_i.num_of_interface_dof_dict\n",
    "    subdomain_null_space_size = sub_i.null_space_size\n",
    "    master.append_G_dict(G_dict)\n",
    "    master_dict = master.append_partition_dof_info_dicts(sub_id,subdomain_interface_dofs_dict,subdomain_null_space_size)\n",
    "    sub_i.calc_dual_force_dict()\n",
    "    master.append_null_space_force(sub_i.null_space_force,sub_id)\n",
    "\n",
    "\n",
    "for sub_id in partitions_list:\n",
    "    sub_i = domain_dict[sub_id]\n",
    "    for nei_id in sub_i.neighbor_partitions:\n",
    "        sub_j = domain_dict[nei_id]\n",
    "        Gj = sub_j.G_dict[nei_id,sub_id]\n",
    "        sub_i.append_neighbor_G_dict(nei_id,Gj)\n",
    "        \n",
    "\n",
    "for sub_id in partitions_list:\n",
    "    sub_i = domain_dict[sub_id]\n",
    "    GtG_row_dict = sub_i.calc_GtG_row()\n",
    "    if GtG_row_dict:\n",
    "        master.appendGtG_row(GtG_row_dict,sub_id)\n",
    "\n",
    "master.build_local_to_global_mapping()\n",
    "GtG = master.assemble_GGT()\n",
    "G, e = master.assemble_G_and_e()\n",
    "\n",
    "lambda_im = master.solve_lambda_im()\n",
    "\n",
    "def action_of_global_F(lambda_im,master,partitions_list):\n",
    "    for sub_id in partitions_list:\n",
    "        sub_i = domain_dict[sub_id]\n",
    "        local_h_dict = sub_i.apply_local_F(lambda_im,master.lambda_dict)\n",
    "        master.append_h(local_h_dict)\n",
    "        \n",
    "    Fim = master.assemble_global_F_action() # Fpk = B*Kpinv*B'*pk\n",
    "    return Fim\n",
    "\n",
    "def assemble_global_d(master,partitions_list):\n",
    "    for sub_id in partitions_list:\n",
    "        sub_i = domain_dict[sub_id]\n",
    "        master.append_d_hat(sub_i.dual_force_dict)\n",
    "\n",
    "    d = master.assemble_global_d_hat() # dual force global assemble\n",
    "    return d\n",
    "\n",
    "d = assemble_global_d(master,partitions_list)\n",
    "r0 = d -  action_of_global_F(lambda_im,master,partitions_list)\n",
    "n_int = len(r0)\n",
    "\n",
    "GGT_inv = np.linalg.inv(GtG)\n",
    "F = lambda x : action_of_global_F(x,master,partitions_list)\n",
    "P = lambda w : (np.eye(n_int) - G.T.dot(GGT_inv).dot(G)).dot(w)\n",
    "\n",
    "lambda_ker, last_res, proj_r_hist, lambda_hist = amfe.PCGP(F,r0,P)\n",
    "lambda_sol =  lambda_im + lambda_ker\n",
    "\n",
    "dtil = d - F(lambda_sol)\n",
    "GGT = GtG\n",
    "alpha_pgc = np.linalg.solve(GGT,G.dot(dtil))\n",
    "\n",
    "\n",
    "super_domain = amfe.SuperDomain(domain.groups,method='cholsps')\n",
    "B = super_domain.assemble_global_B()\n",
    "u = super_domain.eval_subdomain_displacement(lambda_sol,alpha_pgc)\n"
   ]
  },
  {
   "cell_type": "code",
   "execution_count": 2,
   "metadata": {},
   "outputs": [
    {
     "data": {
      "application/vnd.jupyter.widget-view+json": {
       "model_id": "bfc5a2f06c2b4728938f22d69d80109a",
       "version_major": 2,
       "version_minor": 0
      },
      "text/plain": [
       "A Jupyter Widget"
      ]
     },
     "metadata": {},
     "output_type": "display_data"
    }
   ],
   "source": [
    "from ipywidgets import interact, interactive, fixed, interact_manual\n",
    "import ipywidgets as widgets\n",
    "def plot_static(scale=0,alpha_scale=1):\n",
    "    u = super_domain.eval_subdomain_displacement(lambda_sol,alpha_scale*alpha_pgc)\n",
    "    connectivity = {}\n",
    "    nodes = {}\n",
    "    fig, ax1=plt.subplots(1,figsize=(10, 5), dpi= 50, facecolor='w', edgecolor='k')\n",
    "    for sub_key in super_domain.domains_key_list:\n",
    "        sub = super_domain.get_feti_subdomains(sub_key)\n",
    "        connectivity[sub_key] = sub.mesh.connectivity\n",
    "        nodes[sub_key] = sub.mesh.nodes\n",
    "        quad, ax = amfe.plotDeformQuadMesh(connectivity[sub_key],nodes[sub_key],u[sub_key],scale,ax1) \n",
    "          \n",
    "    plt.show()\n",
    "    return u\n",
    "\n",
    "u = interact(plot_static,scale=(0,200,5),alpha_scale=(-1,1,0.1)) "
   ]
  },
  {
   "cell_type": "code",
   "execution_count": 3,
   "metadata": {
    "collapsed": true
   },
   "outputs": [],
   "source": [
    "w, alpha_hat = master.solve_corse_grid(-dtil)"
   ]
  },
  {
   "cell_type": "code",
   "execution_count": 4,
   "metadata": {},
   "outputs": [
    {
     "data": {
      "text/plain": [
       "array([  1.88550475e-02,   1.88567871e-02,   1.80558164e-12,\n",
       "         1.88567871e-02,   1.88550475e-02,  -1.42679198e-03])"
      ]
     },
     "execution_count": 4,
     "metadata": {},
     "output_type": "execute_result"
    }
   ],
   "source": [
    "alpha_hat"
   ]
  },
  {
   "cell_type": "code",
   "execution_count": 5,
   "metadata": {},
   "outputs": [
    {
     "data": {
      "text/plain": [
       "array([ -1.88550475e-02,  -1.88567871e-02,  -1.80559201e-12,\n",
       "        -1.88567871e-02,  -1.88550475e-02,   1.42679198e-03])"
      ]
     },
     "execution_count": 5,
     "metadata": {},
     "output_type": "execute_result"
    }
   ],
   "source": [
    "alpha_pgc"
   ]
  },
  {
   "cell_type": "code",
   "execution_count": 6,
   "metadata": {},
   "outputs": [
    {
     "data": {
      "text/plain": [
       "array([ -1.88550475e-02,  -3.47932183e-06,  -1.88567871e-02,\n",
       "        -3.47932187e-06,   1.69766805e-12,   3.27886378e-14,\n",
       "         0.00000000e+00,   0.00000000e+00,   9.44619383e-13,\n",
       "         1.10782277e-14,  -1.88567871e-02,   1.43027130e-03,\n",
       "         1.88567871e-02,   3.47932190e-06,   0.00000000e+00,\n",
       "         1.42679198e-03,   4.62650751e-15,   1.43375062e-03,\n",
       "         1.56472058e-15,   1.43027130e-03,  -1.88567871e-02,\n",
       "         1.43027130e-03,  -1.88550475e-02,   1.43027130e-03])"
      ]
     },
     "execution_count": 6,
     "metadata": {},
     "output_type": "execute_result"
    }
   ],
   "source": [
    "dtil"
   ]
  },
  {
   "cell_type": "code",
   "execution_count": 7,
   "metadata": {},
   "outputs": [
    {
     "data": {
      "text/plain": [
       "array([[  1.00000000e+00,  -2.00000000e+00,  -1.58383589e-15,\n",
       "         -2.00000000e+00,   0.00000000e+00,   0.00000000e+00,\n",
       "          0.00000000e+00,   0.00000000e+00,   0.00000000e+00,\n",
       "          0.00000000e+00,   0.00000000e+00,   0.00000000e+00,\n",
       "          1.58383589e-15,   2.00000000e+00,  -0.00000000e+00,\n",
       "         -0.00000000e+00,   1.58383589e-15,   2.00000000e+00,\n",
       "          1.51461136e-15,   1.00000000e+00,   0.00000000e+00,\n",
       "          0.00000000e+00,   0.00000000e+00,   0.00000000e+00],\n",
       "       [ -1.90700351e-15,   2.00000000e+00,   1.00000000e+00,\n",
       "          2.00000000e+00,   0.00000000e+00,   0.00000000e+00,\n",
       "          0.00000000e+00,   0.00000000e+00,   0.00000000e+00,\n",
       "          0.00000000e+00,   0.00000000e+00,   0.00000000e+00,\n",
       "         -1.00000000e+00,  -2.00000000e+00,  -1.00000000e+00,\n",
       "         -0.00000000e+00,  -1.00000000e+00,  -2.00000000e+00,\n",
       "         -1.00000000e+00,  -1.00000000e+00,   0.00000000e+00,\n",
       "          0.00000000e+00,   0.00000000e+00,   0.00000000e+00],\n",
       "       [ -1.10248641e-15,   1.00000000e+00,   1.17550320e-15,\n",
       "          1.00000000e+00,   0.00000000e+00,   0.00000000e+00,\n",
       "          0.00000000e+00,   0.00000000e+00,   0.00000000e+00,\n",
       "          0.00000000e+00,   0.00000000e+00,   0.00000000e+00,\n",
       "         -1.17550320e-15,  -1.00000000e+00,  -0.00000000e+00,\n",
       "         -1.00000000e+00,  -1.17550320e-15,  -1.00000000e+00,\n",
       "         -1.01920723e-15,  -1.00000000e+00,   0.00000000e+00,\n",
       "          0.00000000e+00,   0.00000000e+00,   0.00000000e+00],\n",
       "       [  0.00000000e+00,   0.00000000e+00,   0.00000000e+00,\n",
       "          0.00000000e+00,   0.00000000e+00,   0.00000000e+00,\n",
       "          0.00000000e+00,   0.00000000e+00,   0.00000000e+00,\n",
       "          0.00000000e+00,   1.00000000e+00,  -2.00000000e+00,\n",
       "          0.00000000e+00,   0.00000000e+00,   1.00000000e+00,\n",
       "         -0.00000000e+00,   1.00000000e+00,  -2.00000000e+00,\n",
       "          1.00000000e+00,  -1.00000000e+00,   1.00000000e+00,\n",
       "         -2.00000000e+00,  -5.06827483e-15,  -2.00000000e+00],\n",
       "       [  0.00000000e+00,   0.00000000e+00,   0.00000000e+00,\n",
       "          0.00000000e+00,   0.00000000e+00,   0.00000000e+00,\n",
       "          0.00000000e+00,   0.00000000e+00,   0.00000000e+00,\n",
       "          0.00000000e+00,  -5.76073978e-15,   2.00000000e+00,\n",
       "          0.00000000e+00,   0.00000000e+00,  -0.00000000e+00,\n",
       "          1.26162608e-15,  -5.76073978e-15,   2.00000000e+00,\n",
       "         -4.60502754e-15,   1.00000000e+00,  -5.76073978e-15,\n",
       "          2.00000000e+00,   1.00000000e+00,   2.00000000e+00],\n",
       "       [  0.00000000e+00,   0.00000000e+00,   0.00000000e+00,\n",
       "          0.00000000e+00,   0.00000000e+00,   0.00000000e+00,\n",
       "          0.00000000e+00,   0.00000000e+00,   0.00000000e+00,\n",
       "          0.00000000e+00,  -2.98962530e-15,   1.00000000e+00,\n",
       "          0.00000000e+00,   0.00000000e+00,  -0.00000000e+00,\n",
       "          1.00000000e+00,  -2.98962530e-15,   1.00000000e+00,\n",
       "         -2.44642088e-15,   1.00000000e+00,  -2.98962530e-15,\n",
       "          1.00000000e+00,   2.89297524e-15,   1.00000000e+00]])"
      ]
     },
     "execution_count": 7,
     "metadata": {},
     "output_type": "execute_result"
    }
   ],
   "source": [
    "G"
   ]
  },
  {
   "cell_type": "code",
   "execution_count": 8,
   "metadata": {},
   "outputs": [
    {
     "data": {
      "text/plain": [
       "array([ -4.98855021e+07,   3.22662072e+05,  -2.50572490e+07,\n",
       "         2.19265126e+05,   1.30223721e-03,   5.29262835e+05,\n",
       "         0.00000000e+00,   0.00000000e+00,   7.25045745e-04,\n",
       "        -6.03480978e+06,  -2.50572490e+07,   3.09997709e+05,\n",
       "         2.50572490e+07,   3.09997709e+05,  -5.84173854e-06,\n",
       "        -2.66989824e+04,   4.13900583e-06,   9.07325830e+04,\n",
       "        -2.48918144e-06,   1.67895889e+05,  -2.50572490e+07,\n",
       "        -2.19265126e+05,  -4.98855021e+07,  -3.22662072e+05])"
      ]
     },
     "execution_count": 8,
     "metadata": {},
     "output_type": "execute_result"
    }
   ],
   "source": [
    "lambda_sol"
   ]
  },
  {
   "cell_type": "code",
   "execution_count": 9,
   "metadata": {},
   "outputs": [
    {
     "data": {
      "text/plain": [
       "array([  1.88550475e-02,   3.47932183e-06,   1.88567871e-02,\n",
       "         3.47932187e-06,  -1.69766805e-12,  -3.27886378e-14,\n",
       "         0.00000000e+00,   0.00000000e+00,  -9.44619383e-13,\n",
       "        -1.10782277e-14,   1.88567871e-02,  -1.43027130e-03,\n",
       "        -1.88567871e-02,  -3.47932190e-06,   0.00000000e+00,\n",
       "        -1.42679198e-03,  -4.62650751e-15,  -1.43375062e-03,\n",
       "        -1.56472058e-15,  -1.43027130e-03,   1.88567871e-02,\n",
       "        -1.43027130e-03,   1.88550475e-02,  -1.43027130e-03])"
      ]
     },
     "execution_count": 9,
     "metadata": {},
     "output_type": "execute_result"
    }
   ],
   "source": [
    "F(lambda_sol)"
   ]
  },
  {
   "cell_type": "code",
   "execution_count": 10,
   "metadata": {},
   "outputs": [
    {
     "data": {
      "text/plain": [
       "array([ 0.,  0.,  0.,  0.,  0.,  0.,  0.,  0.,  0.,  0.,  0.,  0.,  0.,\n",
       "        0.,  0.,  0.,  0.,  0.,  0.,  0.,  0.,  0.,  0.,  0.])"
      ]
     },
     "execution_count": 10,
     "metadata": {},
     "output_type": "execute_result"
    }
   ],
   "source": [
    "d"
   ]
  },
  {
   "cell_type": "code",
   "execution_count": null,
   "metadata": {
    "collapsed": true
   },
   "outputs": [],
   "source": []
  }
 ],
 "metadata": {
  "kernelspec": {
   "display_name": "Python 3",
   "language": "python",
   "name": "python3"
  },
  "language_info": {
   "codemirror_mode": {
    "name": "ipython",
    "version": 3
   },
   "file_extension": ".py",
   "mimetype": "text/x-python",
   "name": "python",
   "nbconvert_exporter": "python",
   "pygments_lexer": "ipython3",
   "version": "3.6.3"
  }
 },
 "nbformat": 4,
 "nbformat_minor": 2
}
