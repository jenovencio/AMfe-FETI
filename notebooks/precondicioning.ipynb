{
 "cells": [
  {
   "cell_type": "code",
   "execution_count": 3,
   "metadata": {},
   "outputs": [
    {
     "ename": "ModuleNotFoundError",
     "evalue": "No module named 'h5py'",
     "output_type": "error",
     "traceback": [
      "\u001b[1;31m---------------------------------------------------------------------------\u001b[0m",
      "\u001b[1;31mModuleNotFoundError\u001b[0m                       Traceback (most recent call last)",
      "\u001b[1;32m<ipython-input-3-4555fdbffb9b>\u001b[0m in \u001b[0;36m<module>\u001b[1;34m()\u001b[0m\n\u001b[0;32m      2\u001b[0m \u001b[1;33m\u001b[0m\u001b[0m\n\u001b[0;32m      3\u001b[0m \u001b[0msys\u001b[0m\u001b[1;33m.\u001b[0m\u001b[0mpath\u001b[0m\u001b[1;33m.\u001b[0m\u001b[0mappend\u001b[0m\u001b[1;33m(\u001b[0m\u001b[1;34mr'H:\\TUM-PC\\Dokumente\\Projects\\AMfe'\u001b[0m\u001b[1;33m)\u001b[0m\u001b[1;33m\u001b[0m\u001b[0m\n\u001b[1;32m----> 4\u001b[1;33m \u001b[1;32mimport\u001b[0m \u001b[0mamfe\u001b[0m\u001b[1;33m\u001b[0m\u001b[0m\n\u001b[0m\u001b[0;32m      5\u001b[0m \u001b[1;32mimport\u001b[0m \u001b[0mmatplotlib\u001b[0m\u001b[1;33m.\u001b[0m\u001b[0mpyplot\u001b[0m \u001b[1;32mas\u001b[0m \u001b[0mplt\u001b[0m\u001b[1;33m\u001b[0m\u001b[0m\n\u001b[0;32m      6\u001b[0m \u001b[1;32mimport\u001b[0m \u001b[0mnumpy\u001b[0m \u001b[1;32mas\u001b[0m \u001b[0mnp\u001b[0m\u001b[1;33m\u001b[0m\u001b[0m\n",
      "\u001b[1;32mH:\\TUM-PC\\Dokumente\\Projects\\AMfe\\amfe\\__init__.py\u001b[0m in \u001b[0;36m<module>\u001b[1;34m()\u001b[0m\n\u001b[0;32m     19\u001b[0m \u001b[1;31m# Finite Element stuff\u001b[0m\u001b[1;33m\u001b[0m\u001b[1;33m\u001b[0m\u001b[0m\n\u001b[0;32m     20\u001b[0m \u001b[1;32mfrom\u001b[0m \u001b[1;33m.\u001b[0m\u001b[0massembly\u001b[0m \u001b[1;32mimport\u001b[0m \u001b[1;33m*\u001b[0m\u001b[1;33m\u001b[0m\u001b[0m\n\u001b[1;32m---> 21\u001b[1;33m \u001b[1;32mfrom\u001b[0m \u001b[1;33m.\u001b[0m\u001b[0mboundary\u001b[0m \u001b[1;32mimport\u001b[0m \u001b[1;33m*\u001b[0m\u001b[1;33m\u001b[0m\u001b[0m\n\u001b[0m\u001b[0;32m     22\u001b[0m \u001b[1;32mfrom\u001b[0m \u001b[1;33m.\u001b[0m\u001b[0melement\u001b[0m \u001b[1;32mimport\u001b[0m \u001b[1;33m*\u001b[0m\u001b[1;33m\u001b[0m\u001b[0m\n\u001b[0;32m     23\u001b[0m \u001b[1;32mfrom\u001b[0m \u001b[1;33m.\u001b[0m\u001b[0mmaterial\u001b[0m \u001b[1;32mimport\u001b[0m \u001b[1;33m*\u001b[0m\u001b[1;33m\u001b[0m\u001b[0m\n",
      "\u001b[1;32mH:\\TUM-PC\\Dokumente\\Projects\\AMfe\\amfe\\boundary.py\u001b[0m in \u001b[0;36m<module>\u001b[1;34m()\u001b[0m\n\u001b[0;32m     11\u001b[0m \u001b[1;32mimport\u001b[0m \u001b[0mnumpy\u001b[0m \u001b[1;32mas\u001b[0m \u001b[0mnp\u001b[0m\u001b[1;33m\u001b[0m\u001b[0m\n\u001b[0;32m     12\u001b[0m \u001b[1;32mimport\u001b[0m \u001b[0mscipy\u001b[0m \u001b[1;32mas\u001b[0m \u001b[0msp\u001b[0m\u001b[1;33m\u001b[0m\u001b[0m\n\u001b[1;32m---> 13\u001b[1;33m \u001b[1;32mfrom\u001b[0m \u001b[1;33m.\u001b[0m\u001b[0mmesh\u001b[0m \u001b[1;32mimport\u001b[0m \u001b[1;33m*\u001b[0m\u001b[1;33m\u001b[0m\u001b[0m\n\u001b[0m\u001b[0;32m     14\u001b[0m \u001b[1;32mimport\u001b[0m \u001b[0mcopy\u001b[0m\u001b[1;33m\u001b[0m\u001b[0m\n\u001b[0;32m     15\u001b[0m \u001b[1;33m\u001b[0m\u001b[0m\n",
      "\u001b[1;32mH:\\TUM-PC\\Dokumente\\Projects\\AMfe\\amfe\\mesh.py\u001b[0m in \u001b[0;36m<module>\u001b[1;34m()\u001b[0m\n\u001b[0;32m     25\u001b[0m \u001b[1;33m\u001b[0m\u001b[0m\n\u001b[0;32m     26\u001b[0m \u001b[1;32mimport\u001b[0m \u001b[0mpandas\u001b[0m \u001b[1;32mas\u001b[0m \u001b[0mpd\u001b[0m\u001b[1;33m\u001b[0m\u001b[0m\n\u001b[1;32m---> 27\u001b[1;33m \u001b[1;32mimport\u001b[0m \u001b[0mh5py\u001b[0m\u001b[1;33m\u001b[0m\u001b[0m\n\u001b[0m\u001b[0;32m     28\u001b[0m \u001b[1;32mimport\u001b[0m \u001b[0mnumpy\u001b[0m \u001b[1;32mas\u001b[0m \u001b[0mnp\u001b[0m\u001b[1;33m\u001b[0m\u001b[0m\n\u001b[0;32m     29\u001b[0m \u001b[1;33m\u001b[0m\u001b[0m\n",
      "\u001b[1;31mModuleNotFoundError\u001b[0m: No module named 'h5py'"
     ]
    }
   ],
   "source": [
    "import sys \n",
    "\n",
    "sys.path.append(r'H:\\TUM-PC\\Dokumente\\Projects\\AMfe')\n",
    "import amfe\n",
    "import matplotlib.pyplot as plt\n",
    "import numpy as np\n",
    "import scipy\n",
    "\n",
    "msh_dict = {}\n",
    "msh_dict[0] = amfe.amfe_dir('meshes/test_meshes/Geom3.msh')\n",
    "msh_dict[1] = amfe.amfe_dir('meshes/test_meshes/simple_2.msh')\n",
    "msh_dict[2] = mshfile = amfe.amfe_dir('meshes/test_meshes/3_partition_pressure_corner.msh')\n",
    "msh_dict[3] = mshfile = amfe.amfe_dir('meshes/test_meshes/geo_hole_quad_part_4.msh')\n",
    "msh_dict[4] = mshfile = amfe.amfe_dir('meshes/test_meshes/2_partitions_quad_mesh.msh')\n",
    "msh_dict[5] = mshfile = amfe.amfe_dir('meshes/test_meshes/2_partitions_2quad_mesh.msh')\n",
    "msh_dict[6] = mshfile = amfe.amfe_dir('meshes/test_meshes/4_partitions_quad_mesh.msh')\n",
    "msh_dict[7] = mshfile = amfe.amfe_dir('meshes/test_meshes/3_partition_2d_blade_quad_mesh.msh')\n",
    "\n",
    "\n",
    "domain_id = {}\n",
    "domain_id[0] = 3\n",
    "domain_id[1] = 3\n",
    "domain_id[2] = 11\n",
    "domain_id[3] = 8\n",
    "domain_id[4] = 3\n",
    "domain_id[5] = 3\n",
    "domain_id[6] = 3\n",
    "domain_id[7] = 3\n",
    "\n",
    "# select mesh to be plotted\n",
    "mesh_id = 0\n",
    "mshfile = msh_dict[mesh_id]\n",
    "\n",
    "m = amfe.Mesh()\n",
    "m.import_msh(mshfile)\n",
    "\n",
    "\n",
    "# creating material\n",
    "my_material = amfe.KirchhoffMaterial(E=210E9, nu=0.3, rho=7.86E3, plane_stress=True, thickness=0.1)\n",
    "\n",
    "\n",
    "# splitting physical grops\n",
    "\n",
    "m.split_in_groups()\n",
    "\n",
    "# plotting boundary elements\n",
    "amfe.plot_boundary_1d(m)\n",
    "\n",
    "\n",
    "\n",
    "# plotting mesh\n",
    "amfe.plot_submesh(m.groups[domain_id[mesh_id]])\n",
    "\n",
    "\n",
    "# setting boundary condition\n",
    "# selecting subdomain for boundary condition\n",
    "sub_dir = m.get_submesh('physical',1)\n",
    "sub_neu = m.get_submesh('physical',2)\n",
    "\n",
    "value = 5.0E9\n",
    "neu = amfe.boundary.Boundary(sub_neu,value,'normal')\n",
    "diri = amfe.boundary.Boundary(sub_dir,0,'xy','dirichlet')\n",
    "\n",
    "\n",
    "# setting main domain for FE calculation\n",
    "domain = m.set_domain('phys_group', domain_id[mesh_id])\n",
    "domain.set_material(my_material)\n",
    "domain.append_bondary_condition(neu)\n",
    "domain.append_bondary_condition(diri)\n",
    "domain.split_in_partitions()\n",
    "\n",
    "amfe.plot_domain(domain)\n",
    "\n",
    "plt.show()"
   ]
  },
  {
   "cell_type": "code",
   "execution_count": null,
   "metadata": {
    "collapsed": true
   },
   "outputs": [],
   "source": []
  },
  {
   "cell_type": "markdown",
   "metadata": {},
   "source": [
    "Solving the Standard FE problem\n",
    "---------------------------\n",
    "\n",
    "$$\n",
    "Ku = f\n",
    "$$\n"
   ]
  },
  {
   "cell_type": "code",
   "execution_count": 2,
   "metadata": {},
   "outputs": [
    {
     "name": "stdout",
     "output_type": "stream",
     "text": [
      "\n",
      " phys_group 3 with 1102 elements successfully added.\n",
      "Total number of elements in mesh: 1102\n",
      "*************************************************************\n",
      "Preallocating the stiffness matrix\n",
      "Done preallocating stiffness matrix with 1102 elements and 2360 dofs.\n",
      "Time taken for preallocation: 0.02 seconds.\n",
      "\n",
      " phys_group 1 with 20 nodes successfully added to Dirichlet Boundaries.\n",
      "Total number of nodes with Dirichlet BCs: 20\n",
      "Total number of constrained dofs: 40\n",
      "*************************************************************\n",
      "\n",
      " phys_group 2 with 19 elements successfully added to Neumann Boundary.\n",
      "Total number of neumann elements in mesh: 19\n",
      "Total number of elements in mesh: 1102\n",
      "*************************************************************\n",
      "Attention: No linear solver was given, setting linear_solver = PardisoSolver.\n",
      "Attention: No pseudo time evaluation was given, setting t = 1.0.\n",
      "Assembling external force and stiffness...\n"
     ]
    },
    {
     "name": "stderr",
     "output_type": "stream",
     "text": [
      "C:\\Users\\ge72tih\\AppData\\Local\\Continuum\\anaconda3\\envs\\py36\\Lib\\site-packages\\scipy\\sparse\\sputils.py:114: UserWarning: object dtype is not supported by sparse matrices\n",
      "  warnings.warn(\"object dtype is not supported by sparse matrices\")\n"
     ]
    },
    {
     "name": "stdout",
     "output_type": "stream",
     "text": [
      "Start solving linear static problem...\n",
      "Static problem solved.\n"
     ]
    },
    {
     "data": {
      "application/vnd.jupyter.widget-view+json": {
       "model_id": "6bd37153e33a4b39ba54fe3ac50d8694",
       "version_major": 2,
       "version_minor": 0
      },
      "text/plain": [
       "A Jupyter Widget"
      ]
     },
     "metadata": {},
     "output_type": "display_data"
    },
    {
     "data": {
      "text/plain": [
       "<function __main__.plot_static>"
      ]
     },
     "execution_count": 2,
     "metadata": {},
     "output_type": "execute_result"
    }
   ],
   "source": [
    "scale = 1\n",
    "my_system = amfe.MechanicalSystem()\n",
    "my_system.set_mesh_obj(m)\n",
    "my_system.set_domain(3,my_material)\n",
    "my_system.apply_dirichlet_boundaries(1, 'xy')\n",
    "my_system.apply_neumann_boundaries(2, value, 'normal')\n",
    "\n",
    "s = amfe.LinearStaticsSolver(my_system)\n",
    "s.solve()\n",
    "\n",
    "u_fea = my_system.u_output[1]\n",
    "connectivity = my_system.mesh_class.connectivity\n",
    "nodes = my_system.mesh_class.nodes\n",
    "\n",
    "\n",
    "from ipywidgets import interact, interactive, fixed, interact_manual\n",
    "import ipywidgets as widgets\n",
    "\n",
    "def plot_static(scale):\n",
    "    amfe.plotDeformQuadMesh(connectivity,nodes,my_system.u_output[1],scale) \n",
    "    plt.show()\n",
    "    \n",
    "interact(plot_static,mode=(0,10,1),scale=(0,10,1))  \n"
   ]
  },
  {
   "cell_type": "markdown",
   "metadata": {
    "collapsed": true
   },
   "source": [
    "Solving with Dual Assembly\n",
    "---------------------------\n",
    "\n",
    "$$\n",
    "\\begin{bmatrix} K & B^{T} \\\\\n",
    "                 B & 0  \n",
    "\\end{bmatrix}\n",
    "\\begin{bmatrix} u \\\\ \n",
    "\\lambda \\end{bmatrix}\n",
    "=\n",
    "\\begin{bmatrix} f \\\\ \n",
    "0 \\end{bmatrix}\n",
    "$$\n",
    "\n"
   ]
  },
  {
   "cell_type": "code",
   "execution_count": 3,
   "metadata": {},
   "outputs": [
    {
     "name": "stdout",
     "output_type": "stream",
     "text": [
      "Preallocating the stiffness matrix\n",
      "Done preallocating stiffness matrix with 367 elements and 814 dofs.\n",
      "Time taken for preallocation: 0.01 seconds.\n",
      "Preallocating the stiffness matrix\n",
      "Done preallocating stiffness matrix with 367 elements and 816 dofs.\n",
      "Time taken for preallocation: 0.01 seconds.\n"
     ]
    },
    {
     "ename": "IndexError",
     "evalue": "index 1 is out of bounds for axis 1 with size 1",
     "output_type": "error",
     "traceback": [
      "\u001b[1;31m---------------------------------------------------------------------------\u001b[0m",
      "\u001b[1;31mIndexError\u001b[0m                                Traceback (most recent call last)",
      "\u001b[1;32m<ipython-input-3-cb32abb304e6>\u001b[0m in \u001b[0;36m<module>\u001b[1;34m()\u001b[0m\n\u001b[0;32m      9\u001b[0m \u001b[0mK1\u001b[0m\u001b[1;33m,\u001b[0m \u001b[0mf\u001b[0m \u001b[1;33m=\u001b[0m \u001b[0msub1\u001b[0m\u001b[1;33m.\u001b[0m\u001b[0massemble_k_and_f\u001b[0m\u001b[1;33m(\u001b[0m\u001b[1;33m)\u001b[0m\u001b[1;33m\u001b[0m\u001b[0m\n\u001b[0;32m     10\u001b[0m \u001b[0mK1\u001b[0m \u001b[1;33m=\u001b[0m \u001b[0mK1\u001b[0m\u001b[1;33m.\u001b[0m\u001b[0mtodense\u001b[0m\u001b[1;33m(\u001b[0m\u001b[1;33m)\u001b[0m\u001b[1;33m\u001b[0m\u001b[0m\n\u001b[1;32m---> 11\u001b[1;33m \u001b[0mK\u001b[0m\u001b[1;33m,\u001b[0m \u001b[0mfext1\u001b[0m \u001b[1;33m=\u001b[0m \u001b[0msub1\u001b[0m\u001b[1;33m.\u001b[0m\u001b[0massemble_k_and_f_neumann\u001b[0m\u001b[1;33m(\u001b[0m\u001b[1;33m)\u001b[0m\u001b[1;33m\u001b[0m\u001b[0m\n\u001b[0m\u001b[0;32m     12\u001b[0m \u001b[0mK1\u001b[0m\u001b[1;33m,\u001b[0m \u001b[0mf1\u001b[0m \u001b[1;33m=\u001b[0m \u001b[0msub1\u001b[0m\u001b[1;33m.\u001b[0m\u001b[0minsert_dirichlet_boundary_cond\u001b[0m\u001b[1;33m(\u001b[0m\u001b[0mK1\u001b[0m\u001b[1;33m,\u001b[0m\u001b[0mfext1\u001b[0m\u001b[1;33m)\u001b[0m\u001b[1;33m\u001b[0m\u001b[0m\n\u001b[0;32m     13\u001b[0m \u001b[0mB1_dict\u001b[0m \u001b[1;33m=\u001b[0m \u001b[0msub1\u001b[0m\u001b[1;33m.\u001b[0m\u001b[0massemble_interface_boolean_matrix\u001b[0m\u001b[1;33m(\u001b[0m\u001b[1;33m)\u001b[0m\u001b[1;33m\u001b[0m\u001b[0m\n",
      "\u001b[1;32mH:\\TUM-PC\\Dokumente\\Projects\\AMfe\\amfe\\assembly.py\u001b[0m in \u001b[0;36massemble_k_and_f_neumann\u001b[1;34m(self, u, t)\u001b[0m\n\u001b[0;32m    430\u001b[0m             \u001b[0mX_local\u001b[0m \u001b[1;33m=\u001b[0m \u001b[0mself\u001b[0m\u001b[1;33m.\u001b[0m\u001b[0mnodes_voigt\u001b[0m\u001b[1;33m[\u001b[0m\u001b[0mindices\u001b[0m\u001b[1;33m]\u001b[0m\u001b[1;33m\u001b[0m\u001b[0m\n\u001b[0;32m    431\u001b[0m             \u001b[0mu_local\u001b[0m \u001b[1;33m=\u001b[0m \u001b[0mu\u001b[0m\u001b[1;33m[\u001b[0m\u001b[0mindices\u001b[0m\u001b[1;33m]\u001b[0m\u001b[1;33m\u001b[0m\u001b[0m\n\u001b[1;32m--> 432\u001b[1;33m             \u001b[0mK\u001b[0m\u001b[1;33m,\u001b[0m \u001b[0mf\u001b[0m \u001b[1;33m=\u001b[0m \u001b[0mself\u001b[0m\u001b[1;33m.\u001b[0m\u001b[0mmesh\u001b[0m\u001b[1;33m.\u001b[0m\u001b[0mneumann_obj\u001b[0m\u001b[1;33m[\u001b[0m\u001b[0mi\u001b[0m\u001b[1;33m]\u001b[0m\u001b[1;33m.\u001b[0m\u001b[0mk_and_f_int\u001b[0m\u001b[1;33m(\u001b[0m\u001b[0mX_local\u001b[0m\u001b[1;33m,\u001b[0m \u001b[0mu_local\u001b[0m\u001b[1;33m,\u001b[0m \u001b[0mt\u001b[0m\u001b[1;33m)\u001b[0m\u001b[1;33m\u001b[0m\u001b[0m\n\u001b[0m\u001b[0;32m    433\u001b[0m             \u001b[0mf_glob\u001b[0m\u001b[1;33m[\u001b[0m\u001b[0mindices\u001b[0m\u001b[1;33m]\u001b[0m \u001b[1;33m+=\u001b[0m \u001b[0mf\u001b[0m\u001b[1;33m\u001b[0m\u001b[0m\n\u001b[0;32m    434\u001b[0m             \u001b[0mfill_csr_matrix\u001b[0m\u001b[1;33m(\u001b[0m\u001b[0mK_csr\u001b[0m\u001b[1;33m.\u001b[0m\u001b[0mindptr\u001b[0m\u001b[1;33m,\u001b[0m \u001b[0mK_csr\u001b[0m\u001b[1;33m.\u001b[0m\u001b[0mindices\u001b[0m\u001b[1;33m,\u001b[0m \u001b[0mK_csr\u001b[0m\u001b[1;33m.\u001b[0m\u001b[0mdata\u001b[0m\u001b[1;33m,\u001b[0m \u001b[0mK\u001b[0m\u001b[1;33m,\u001b[0m \u001b[0mindices\u001b[0m\u001b[1;33m)\u001b[0m\u001b[1;33m\u001b[0m\u001b[0m\n",
      "\u001b[1;32mH:\\TUM-PC\\Dokumente\\Projects\\AMfe\\amfe\\element.py\u001b[0m in \u001b[0;36mk_and_f_int\u001b[1;34m(self, X, u, t)\u001b[0m\n\u001b[0;32m    226\u001b[0m \u001b[1;33m\u001b[0m\u001b[0m\n\u001b[0;32m    227\u001b[0m         '''\n\u001b[1;32m--> 228\u001b[1;33m         \u001b[0mself\u001b[0m\u001b[1;33m.\u001b[0m\u001b[0m_compute_tensors\u001b[0m\u001b[1;33m(\u001b[0m\u001b[0mX\u001b[0m\u001b[1;33m,\u001b[0m \u001b[0mu\u001b[0m\u001b[1;33m,\u001b[0m \u001b[0mt\u001b[0m\u001b[1;33m)\u001b[0m\u001b[1;33m\u001b[0m\u001b[0m\n\u001b[0m\u001b[0;32m    229\u001b[0m         \u001b[1;32mreturn\u001b[0m \u001b[0mself\u001b[0m\u001b[1;33m.\u001b[0m\u001b[0mK\u001b[0m\u001b[1;33m,\u001b[0m \u001b[0mself\u001b[0m\u001b[1;33m.\u001b[0m\u001b[0mf\u001b[0m\u001b[1;33m\u001b[0m\u001b[0m\n\u001b[0;32m    230\u001b[0m \u001b[1;33m\u001b[0m\u001b[0m\n",
      "\u001b[1;32mH:\\TUM-PC\\Dokumente\\Projects\\AMfe\\amfe\\element.py\u001b[0m in \u001b[0;36m_compute_tensors\u001b[1;34m(self, X, u, t)\u001b[0m\n\u001b[0;32m   1974\u001b[0m         \u001b[0mx_vec\u001b[0m \u001b[1;33m=\u001b[0m \u001b[1;33m(\u001b[0m\u001b[0mX\u001b[0m\u001b[1;33m+\u001b[0m\u001b[0mu\u001b[0m\u001b[1;33m)\u001b[0m\u001b[1;33m.\u001b[0m\u001b[0mreshape\u001b[0m\u001b[1;33m(\u001b[0m\u001b[1;33m(\u001b[0m\u001b[1;33m-\u001b[0m\u001b[1;36m1\u001b[0m\u001b[1;33m,\u001b[0m \u001b[1;36m2\u001b[0m\u001b[1;33m)\u001b[0m\u001b[1;33m)\u001b[0m\u001b[1;33m.\u001b[0m\u001b[0mT\u001b[0m\u001b[1;33m\u001b[0m\u001b[0m\n\u001b[0;32m   1975\u001b[0m         \u001b[1;31m# Connection line between two nodes of the element\u001b[0m\u001b[1;33m\u001b[0m\u001b[1;33m\u001b[0m\u001b[0m\n\u001b[1;32m-> 1976\u001b[1;33m         \u001b[0mv\u001b[0m \u001b[1;33m=\u001b[0m \u001b[0mx_vec\u001b[0m\u001b[1;33m[\u001b[0m\u001b[1;33m:\u001b[0m\u001b[1;33m,\u001b[0m\u001b[1;36m1\u001b[0m\u001b[1;33m]\u001b[0m \u001b[1;33m-\u001b[0m \u001b[0mx_vec\u001b[0m\u001b[1;33m[\u001b[0m\u001b[1;33m:\u001b[0m\u001b[1;33m,\u001b[0m\u001b[1;36m0\u001b[0m\u001b[1;33m]\u001b[0m\u001b[1;33m\u001b[0m\u001b[0m\n\u001b[0m\u001b[0;32m   1977\u001b[0m         \u001b[1;31m# Generate the orthogonal vector to connection line by rotation 90deg\u001b[0m\u001b[1;33m\u001b[0m\u001b[1;33m\u001b[0m\u001b[0m\n\u001b[0;32m   1978\u001b[0m         \u001b[0mn\u001b[0m \u001b[1;33m=\u001b[0m \u001b[0mself\u001b[0m\u001b[1;33m.\u001b[0m\u001b[0mrot_mat\u001b[0m \u001b[1;33m@\u001b[0m \u001b[0mv\u001b[0m\u001b[1;33m\u001b[0m\u001b[0m\n",
      "\u001b[1;31mIndexError\u001b[0m: index 1 is out of bounds for axis 1 with size 1"
     ]
    }
   ],
   "source": [
    "# creating FETI dict subdomain\n",
    "sub1 = amfe.FETIsubdomain(domain.groups[1])\n",
    "sub2 = amfe.FETIsubdomain(domain.groups[2])\n",
    "\n",
    "feti_subdomain = {}\n",
    "feti_subdomain[1] = sub1\n",
    "feti_subdomain[2] = sub2\n",
    "\n",
    "K1, f = sub1.assemble_k_and_f()\n",
    "K1 = K1.todense()\n",
    "K, fext1 = sub1.assemble_k_and_f_neumann()\n",
    "K1, f1 = sub1.insert_dirichlet_boundary_cond(K1,fext1)\n",
    "B1_dict = sub1.assemble_interface_boolean_matrix()\n",
    "\n",
    "\n",
    "\n",
    "K2, f = sub2.assemble_k_and_f()\n",
    "K2 = K2.todense()\n",
    "K, fext2 = sub2.assemble_k_and_f_neumann()\n",
    "B2_dict = sub2.assemble_interface_boolean_matrix()\n",
    "\n",
    "\n",
    "B1 = B1_dict[1,2].todense()\n",
    "B2 = B2_dict[2,1].todense()\n",
    "\n",
    "# Assemble the block subdomain matrix\n",
    "n1 = K1.shape[0]\n",
    "n2 = K2.shape[0]\n",
    "nlambda = B1.shape[0]\n",
    "u_dof = n1 + n2\n",
    "total_dof = u_dof + nlambda\n",
    "\n",
    "# assemble boolean matrix\n",
    "B = np.hstack((B1,B2))\n",
    "\n",
    "# assemble K matrix\n",
    "Kd = scipy.linalg.block_diag(K1,K2)\n",
    "Zero_block = np.zeros([nlambda,nlambda])\n",
    "\n",
    "D1 = np.hstack((Kd,B.T))\n",
    "D2 = np.hstack((B,Zero_block))\n",
    "D = np.vstack((D1,D2))\n",
    "\n",
    "\n",
    "fd = np.hstack((fext1,fext2))\n",
    "zero_vector = np.zeros(nlambda)\n",
    "b = np.hstack((fd,zero_vector))\n",
    "\n",
    "\n",
    "ax1 = plt.subplot(231)\n",
    "ax1.imshow(Kd, interpolation='nearest')\n",
    "plt.axis('off')\n",
    "\n",
    "ax2 = plt.subplot(232)\n",
    "ax2.imshow(B.T, interpolation='nearest')\n",
    "plt.axis('off')\n",
    "\n",
    "ax3 = plt.subplot(234)\n",
    "ax3.imshow(B, interpolation='nearest')\n",
    "plt.axis('off')\n",
    "\n",
    "\n",
    "ax4 = plt.subplot(235)\n",
    "ax4.imshow(Zero_block, interpolation='nearest')\n",
    "plt.axis('off')\n",
    "\n",
    "ax5 = plt.subplot(233)\n",
    "ax5.imshow(np.matrix(fd).T, interpolation='nearest')\n",
    "plt.axis('off')\n",
    "\n",
    "ax6 = plt.subplot(236)\n",
    "ax6.imshow(np.matrix(zero_vector).T, interpolation='nearest')\n",
    "plt.axis('off')\n",
    "\n",
    "plt.show()"
   ]
  },
  {
   "cell_type": "markdown",
   "metadata": {},
   "source": [
    "Generally the block matrix $K$ is singular due to local rigid body modes, then the inner problem is regularized by adding a subset of the inter-subdomain compatibility requeriments:\n",
    "\n",
    "\n",
    "$$\n",
    "\\begin{bmatrix} K & G^{T} & B^{T} \\\\\n",
    "                G & 0 & 0   \\\\\n",
    "                B & 0 & 0   \\\\\n",
    "\\end{bmatrix}\n",
    "\\begin{bmatrix} u \\\\ \n",
    "\\alpha \\\\\n",
    "\\lambda \\end{bmatrix}\n",
    "=\n",
    "\\begin{bmatrix} f \\\\ \n",
    "0 \\\\\n",
    "0 \\end{bmatrix}\n",
    "$$\n",
    "\n",
    "Where $G$ is defined as $-R^TB^T$."
   ]
  },
  {
   "cell_type": "code",
   "execution_count": null,
   "metadata": {
    "collapsed": true
   },
   "outputs": [],
   "source": [
    "# eingen spectron of the operators\n",
    "w, V = np.linalg.eigh(Kd)\n",
    "\n",
    "w_id = np.argsort(-w)\n",
    "w= w[w_id]\n",
    "V = V[:,w_id]\n",
    "\n",
    "\n",
    "cond_num_Kd = w[0]/w[-1]\n",
    "\n",
    "plt.ylim([0.0,np.max(w)])\n",
    "plt.bar(np.arange(len(w)),w)\n",
    "plt.title('Eigenvalues of block matrix K, $\\kappa = $ ' + '{0:.2e}'.format(cond_num_Kd))\n",
    "\n",
    "plt.show()"
   ]
  },
  {
   "cell_type": "markdown",
   "metadata": {},
   "source": [
    "Solving Equilibrium with Dual Interface Assembly Problem\n",
    "----------------------------------------------\n",
    "\n",
    "The Dual Assembly system of equation discribe above can be broken in two equations.\n",
    "\n",
    "\\begin{equation}\n",
    "Ku + B^{T}\\lambda  = f \\\\\n",
    "Bu = 0 \n",
    "\\end{equation}\n",
    "\n",
    "Then, the solution u can be calculate by:\n",
    "\n",
    "\\begin{equation}\n",
    "u =  K^*(B^{T}\\lambda  - f) +  R\\alpha \\\\\n",
    "\\end{equation}\n",
    "\n",
    "Where $K^*$ is the generelize pseudo inverse and $R$ is $Null(K) = \\{r \\in R: Kr=0\\}$, named the kernel of the K matrix.\n",
    "In order to the solve $u$ the summation of all forces in the subdomain, interface, internal and extenal forces must be in the image of K. This implies the $(B^{T}\\lambda  + f)$ must be orthonal to the null space of K.\n",
    "\n",
    "\\begin{equation}\n",
    "R^T(B^{T}\\lambda  - f) = 0 \\\\\n",
    "\\end{equation}\n",
    "\n",
    "Phisically, the equation above eforces the self-equilibrim for each subdomain. Using the compatibility equation and the self-equilibrium equation, we can write the dual interface equilibrium equation as:\n",
    "\n",
    "\n",
    "$$\n",
    "\\begin{bmatrix} F & G^{T} \\\\\n",
    "                 G & 0  \n",
    "\\end{bmatrix}\n",
    "\\begin{bmatrix} \\lambda  \\\\ \n",
    "\\alpha\n",
    "\\end{bmatrix}\n",
    "=\n",
    "\\begin{bmatrix} d \\\\ \n",
    "e \\end{bmatrix}\n",
    "$$\n",
    "\n",
    "Where $F = BK^*B^T$, $G = -R^TB^T$, $d = BK^*f$ and $e =- R^Tf $.\n"
   ]
  },
  {
   "cell_type": "code",
   "execution_count": null,
   "metadata": {
    "collapsed": true
   },
   "outputs": [],
   "source": [
    "# assemple dual interface operator F and G\n",
    "feti_sub = {}\n",
    "feti_sub[1] = sub1\n",
    "feti_sub[2] = sub2\n",
    "\n",
    "lambda_dict = {}\n",
    "alpha_dict = {}\n",
    "F_dict = {}\n",
    "G_dict = {}\n",
    "e_dict = {}\n",
    "d_dict = {}\n",
    "init_dof = 0\n",
    "init_alpha = 0\n",
    "interface_size = 0\n",
    "null_space_size = 0\n",
    "for sub_key in feti_sub:\n",
    "    sub = feti_sub[sub_key]\n",
    "    sub.create_interface_and_interior_dof_dicts()\n",
    "    \n",
    "    B_dict = sub.assemble_interface_boolean_matrix()\n",
    "    \n",
    "    for nei_key in sub.local_interface_dofs_dict:\n",
    "        \n",
    "        if (nei_key,sub_key) not in lambda_dict:\n",
    "            last_dof = len(sub.local_interface_dofs_dict[nei_key])\n",
    "            interface_size +=last_dof\n",
    "            lambda_dict[(sub_key,nei_key)] = np.arange(init_dof,init_dof+last_dof)\n",
    "            init_dof = last_dof + 1\n",
    "            sub_nei = feti_sub[nei_key]\n",
    "            Bnei_dict = sub_nei.assemble_interface_boolean_matrix()\n",
    "            Bnei = Bnei_dict[nei_key,sub_key].todense()\n",
    "            \n",
    "        else:\n",
    "            lambda_dict[(sub_key,nei_key)] =  lambda_dict[(nei_key,sub_key)]\n",
    "\n",
    "        Kinv, R = sub.calc_pinv_and_null_space()\n",
    "        Bsub = B_dict[sub_key,nei_key].todense()\n",
    "        Bij = Bsub\n",
    "        Fij = Bij.dot(Kinv).dot(Bij.T)\n",
    "        F_dict[sub_key,nei_key] = Fij\n",
    "        \n",
    "        f = sub.force\n",
    "        d = Bij.dot(Kinv).dot(f)\n",
    "        \n",
    "        d_dict[(sub_key,nei_key)] =  d\n",
    "        \n",
    "        last_alpha = R.shape[1]\n",
    "        null_space_size += last_alpha\n",
    "        \n",
    "        if last_alpha>0:\n",
    "            alpha_dict[(sub_key)] = np.arange(init_alpha,init_alpha+last_alpha)\n",
    "            init_alpha = last_alpha\n",
    "            Gij = -Bij.dot(R)\n",
    "            G_dict[sub_key,nei_key] = Gij\n",
    "            e = -R.T.dot(f)\n",
    "            e_dict[(sub_key,nei_key)] = e\n",
    "            init_alpha = last_alpha\n",
    "            \n",
    "            \n",
    "        \n",
    "F = np.zeros([interface_size,interface_size])\n",
    "G = np.zeros([interface_size,null_space_size])\n",
    "Zeros = np.zeros([null_space_size,null_space_size])\n",
    "d = np.zeros([interface_size])\n",
    "e = np.zeros([null_space_size])\n",
    "for sub_key,nei_key in F_dict:\n",
    "    if sub_key<nei_key:\n",
    "        for loc_i,i in enumerate(lambda_dict[(sub_key,nei_key)]):\n",
    "            d[i] = d_dict[(sub_key,nei_key)][loc_i] + d_dict[(nei_key,sub_key)][loc_i]\n",
    "            for loc_j,j in enumerate(lambda_dict[(nei_key,sub_key)]):\n",
    "                F[i,j] =  F_dict[(sub_key,nei_key)][loc_i,loc_j] + F_dict[(nei_key,sub_key)][loc_i,loc_j]\n",
    "\n",
    "                               \n",
    "for sub_key,nei_key in G_dict:\n",
    "        for loc_i,i in enumerate(alpha_dict[(sub_key)]):\n",
    "            e[i] = float(e_dict[(sub_key,nei_key)][loc_i])\n",
    "            for loc_j,j in enumerate(lambda_dict[(sub_key,nei_key)]):\n",
    "                G[j,i] =  G_dict[(sub_key,nei_key)][loc_j,loc_i] \n",
    "                \n",
    "G = G.T \n",
    "                                                \n",
    "A1 = np.hstack((F,G.T))\n",
    "A2 = np.hstack((G,Zeros))\n",
    "\n",
    "A = np.vstack((A1,A2))\n",
    "b = np.concatenate((d,e))\n",
    "\n",
    "ax1 = plt.subplot(231)\n",
    "ax1.imshow(F, interpolation='nearest')\n",
    "plt.axis('off')\n",
    "\n",
    "ax2 = plt.subplot(232)\n",
    "ax2.imshow(G, interpolation='nearest')\n",
    "plt.axis('off')\n",
    "\n",
    "ax3 = plt.subplot(234)\n",
    "ax3.imshow(G.T, interpolation='nearest')\n",
    "plt.axis('off')\n",
    "\n",
    "\n",
    "ax4 = plt.subplot(235)\n",
    "ax4.imshow(Zeros, interpolation='nearest')\n",
    "plt.axis('off')\n",
    "\n",
    "ax5 = plt.subplot(233)\n",
    "ax5.imshow(np.matrix(d).T, interpolation='nearest')\n",
    "plt.axis('off')\n",
    "\n",
    "ax6 = plt.subplot(236)\n",
    "ax6.imshow(np.matrix(e).T, interpolation='nearest')\n",
    "plt.axis('off')\n",
    "\n",
    "plt.show()\n",
    "\n",
    "# Dual interface problem\n",
    "x = np.linalg.solve(A,b)\n",
    "global_lambda_int = x[:interface_size]\n",
    "alpha = x[interface_size:]\n",
    "\n",
    "\n",
    "\n"
   ]
  },
  {
   "cell_type": "code",
   "execution_count": null,
   "metadata": {
    "collapsed": true
   },
   "outputs": [],
   "source": [
    "global_lambda_int"
   ]
  },
  {
   "cell_type": "code",
   "execution_count": null,
   "metadata": {
    "collapsed": true
   },
   "outputs": [],
   "source": [
    "global_lambda = np.matrix(global_lambda_int).T\n",
    "global_alpha = np.matrix(alpha).T\n",
    "u1 = sub1.solve_local_displacement(1.0*global_lambda,lambda_dict,'svd')\n",
    "u1 = sub1.apply_rigid_body_correction(global_alpha,alpha_dict)\n",
    "u1 = np.array(u1).flatten()\n",
    "\n",
    "\n",
    "u2 = sub2.solve_local_displacement(1.0*global_lambda,lambda_dict,'svd')\n",
    "u2 = sub2.apply_rigid_body_correction(global_alpha,alpha_dict)\n",
    "u2 = np.array(u2).flatten()\n",
    "\n",
    "connectivity = sub1.mesh.connectivity\n",
    "nodes = sub1.mesh.nodes\n",
    "\n",
    "connectivity2 = sub2.mesh.connectivity\n",
    "nodes2 = sub2.mesh.nodes\n",
    "\n",
    "\n",
    "from ipywidgets import interact, interactive, fixed, interact_manual\n",
    "import ipywidgets as widgets\n",
    "\n",
    "def plot_static(scale):\n",
    "    tri, ax = amfe.plotDeformQuadMesh(connectivity,nodes,u1,scale) \n",
    "    tri, ax = amfe.plotDeformQuadMesh(connectivity2,nodes2,u2,scale,ax) \n",
    "    plt.show()\n",
    "    \n",
    "interact(plot_static,mode=(0,10,1),scale=(0,10,1))  \n",
    "\n"
   ]
  },
  {
   "cell_type": "code",
   "execution_count": null,
   "metadata": {
    "collapsed": true
   },
   "outputs": [],
   "source": [
    "global_lambda"
   ]
  },
  {
   "cell_type": "code",
   "execution_count": null,
   "metadata": {
    "collapsed": true
   },
   "outputs": [],
   "source": [
    "u_dual_int = amfe.FetiSolver.average_displacement_calc(my_system,feti_subdomain)\n",
    "\n",
    "residual = abs(u_fea - u_dual_int)\n",
    "p , residuals, rank, singular_values, rcond = np.polyfit(u_fea, u_dual_int, 1, full=True)\n",
    "m = p[0]\n",
    "b = p[1]\n",
    "\n",
    "\n",
    "fig, axs = plt.subplots(1, 2, figsize=(10, 4))\n",
    "plt.tight_layout(pad=4.0, w_pad=4.5, h_pad=4.0)\n",
    "\n",
    "axs[0].bar(np.arange(len(residual)),residual)\n",
    "axs[0].set_title('Displacement error per DoFs')\n",
    "axs[0].set_xlabel('DoF number')\n",
    "axs[0].set_ylabel('Error')\n",
    "\n",
    "axs[1].scatter(u_fea, u_dual_int)\n",
    "X_plot = np.linspace(axs[1].get_xlim()[0],axs[1].get_xlim()[1],100)\n",
    "axs[1].plot(X_plot, m*X_plot + b, '-')\n",
    "correlation = np.corrcoef(u_fea, u_dual_int)[0,1]\n",
    "axs[1].set_title('Correlation between $u$ calc by Primal and Dual Interface')\n",
    "axs[1].text(0.01, 0.3, r\"$r^2 = $\" + '{0:.2f}'.format(correlation**2) , fontsize=20)\n",
    "axs[1].set_xlabel('Primal Assembly $u$ ')\n",
    "axs[1].set_ylabel('Dual interface $u$')\n",
    "\n",
    "fig.suptitle('Error between Primal and Dual Assembly')\n",
    "plt.show()\n",
    "\n"
   ]
  },
  {
   "cell_type": "code",
   "execution_count": null,
   "metadata": {
    "collapsed": true
   },
   "outputs": [],
   "source": [
    "connectivity = my_system.mesh_class.connectivity\n",
    "nodes = my_system.mesh_class.nodes\n",
    "\n",
    "\n",
    "def plot_static(scale):\n",
    "    amfe.plotDeformQuadMesh(connectivity,nodes,u_dual_int,scale) \n",
    "    plt.show()\n",
    "    \n",
    "interact(plot_static,mode=(0,10,1),scale=(0,10,1))  "
   ]
  },
  {
   "cell_type": "markdown",
   "metadata": {},
   "source": [
    "Solving Equilibrium with The Projected Dual Interface \n",
    "---------------------------------------------------------\n",
    "\n",
    "The two equation that must be solve in Dual interface problem are:\n",
    "\n",
    "\\begin{equation}\n",
    "F\\lambda + G^{T}\\alpha  = d \\\\\n",
    "G\\lambda = e \n",
    "\\end{equation}\n",
    "\n",
    "\n",
    "Let's define now the Projector operator $P_G$ in to the $Ker(G)$ as:\n",
    "\n",
    "\\begin{equation}\n",
    "P_G = I - Q_GG = I - G^T(GG^T)^{-1}G\n",
    "\\end{equation}\n",
    "\n",
    "Where $ P_G(\\lambda) = \\{ \\lambda_{kernel} = P_G\\lambda : \\lambda_{kernel} \\in Ker(G) \\}$.\n",
    "We also define $ Q_G(\\lambda) = \\{ \\lambda_{image} = Q_G\\lambda : \\lambda_{image} \\in Im(G^T) \\}$\n",
    "Since $Ker(G)$ is orthogonal to $Im(G^T)$, we can multiple $P_G$ in the fisrt equation and multiple by $Q_G$ the second one:\n",
    "\n",
    "\\begin{equation}\n",
    "P_G(F\\lambda + G^{T}\\alpha) = P_GF\\lambda = P_Gd \\\\\n",
    "Q_GG{\\lambda} = Q_Ge \\\\\n",
    "{\\lambda_{image}} = G^T(GG^T)^{-1}e \\\\\n",
    "\\lambda = \\lambda_{kernel} + \\lambda_{image}\n",
    "\\end{equation}\n",
    "\n",
    "Then the equation for $\\lambda_{kernel}$ is:\n",
    "\n",
    "\\begin{equation}\n",
    "P_GF\\lambda_{kernel} = P_G(d - F\\lambda_{image}) =  P_G\\hat{d} \\\\\n",
    "\\end{equation}\n",
    "\n",
    "And  $\\alpha$ can be solve by:\n",
    "\n",
    "\\begin{equation}\n",
    "GG^{T}\\alpha = G(d - F\\lambda) \n",
    "\\end{equation}\n"
   ]
  },
  {
   "cell_type": "code",
   "execution_count": null,
   "metadata": {
    "collapsed": true
   },
   "outputs": [],
   "source": [
    "# solving the project Dual interface problem\n",
    "I = np.eye(interface_size,interface_size)\n",
    "GTG = G.T.dot(G)\n",
    "GGT =  G.dot(G.T)\n",
    "GTe = G.T.dot(e)\n",
    "P = I - G.T.dot(np.linalg.inv(GGT)).dot(G)\n",
    "\n",
    "# Solving lamda im\n",
    "lambda_im = G.T.dot(np.linalg.solve(GGT,e))\n",
    "\n",
    "# Solving lamda kernel\n",
    "PF = P.dot(F)\n",
    "dhat = d - F.dot(lambda_im)\n",
    "Pdhat = P.dot(dhat)\n",
    "lambda_ker = np.linalg.pinv(PF).dot(Pdhat)\n",
    "\n",
    "dual_int_lambda = lambda_ker + lambda_im\n"
   ]
  },
  {
   "cell_type": "code",
   "execution_count": null,
   "metadata": {
    "collapsed": true
   },
   "outputs": [],
   "source": [
    "# eingen spectron of the operators\n",
    "w, V = np.linalg.eigh(F)\n",
    "\n",
    "w_id = np.argsort(-w)\n",
    "w= w[w_id]\n",
    "V = V[:,w_id]\n",
    "\n",
    "cond_num_F = w[0]/w[-1]\n",
    "\n",
    "pw, pV = np.linalg.eigh(PF)\n",
    "w_id = np.argsort(-pw)\n",
    "pw= pw[w_id]\n",
    "pV = pV[:,w_id]\n",
    "\n",
    "cond_num_PF = pw[0]/pw[-1]\n",
    "\n",
    "fig, (ax1,ax2) = plt.subplots(1,2, figsize=(10,5))\n",
    "plt.tight_layout(pad=4.0, w_pad=4.5, h_pad=4.0)\n",
    "\n",
    "ax1.set_ylim([0.0,np.max(w)])\n",
    "ax1.bar(np.arange(len(w)),w)\n",
    "ax1.set_title('Eigenvalue of F, $\\kappa = $ ' + '{0:.2f}'.format(cond_num_F))\n",
    "\n",
    "\n",
    "ax2.set_ylim([0.0,np.max(pw)])\n",
    "ax2.bar(np.arange(len(pw)),pw)\n",
    "ax2.set_title('Eigenvalue of Project F')\n",
    "ax2.set_title('Eigenvalue of Project F, $\\kappa = $ ' + '{0:.2f}'.format(cond_num_PF))\n",
    "\n",
    "plt.show()"
   ]
  },
  {
   "cell_type": "code",
   "execution_count": null,
   "metadata": {
    "collapsed": true
   },
   "outputs": [],
   "source": [
    "global_lambda = np.array(global_lambda).flatten()\n",
    "residual = abs(global_lambda - dual_int_lambda )\n",
    "\n",
    "fig, axs = plt.subplots(1, 2, figsize=(10, 5))\n",
    "plt.tight_layout(pad=4.0, w_pad=4.5, h_pad=5.0)\n",
    "\n",
    "axs[0].bar(np.arange(len(residual)),residual)\n",
    "axs[0].set_title('Error per DoFs')\n",
    "\n",
    "axs[1].scatter(global_lambda, dual_int_lambda )\n",
    "p , residuals, rank, singular_values, rcond = np.polyfit(global_lambda , dual_int_lambda, 1, full=True)\n",
    "m = p[0]\n",
    "b = p[1]\n",
    "X_plot = np.linspace(axs[1].get_xlim()[0],axs[1].get_xlim()[1],100)\n",
    "axs[1].plot(X_plot, m*X_plot + b, '-')\n",
    "\n",
    "correlation = np.corrcoef(global_lambda, dual_int_lambda)[0,1]\n",
    "axs[1].set_title('Correlation between Primal and Dual Assembly')\n",
    "\n",
    "axs[1].text(-50.0, 0.0, r\"$r^2 = $\" + '{0:.2f}'.format(correlation**2) , fontsize=20)\n",
    "\n",
    "fig.suptitle('Error between Primal and Projected Dual Interface Assembly')\n",
    "plt.show()"
   ]
  },
  {
   "cell_type": "markdown",
   "metadata": {},
   "source": [
    "Solving Equilibrium with The Projected Dual Interface with Conjugate Gradient (PCG)\n",
    "--------------------------------------------------------------------------------------\n",
    "\n",
    "The Projected Interface equilibrium can be solve iterativaly by a Conjungate Gradient algorithm. The step are the following:\n",
    "\n",
    "1. Initialize with $r^0 = \\hat{d},  \\lambda_{ker}^{0} = \\tilde{0}, \\beta^1 = 0 $\n",
    "\n",
    "2. Irerate $k = 1,2..,n$ until $ \\lVert w^k \\rVert > tol $  \n",
    "    Project residual $w^{k-1} = P_Gr^{k-1}$  \n",
    "    Precondition $z^{k-1} = \\bar{F^{-1}}w^{k-1}$  \n",
    "    Project  $y^{k-1} = P_Gz^{k-1}$   \n",
    "    $\\beta^{k} = (y^{k-1})^Tw^{k-1}/(y^{k-2})^Tw^{k-2}$  \n",
    "    $p^{k} = y^{k-1} + \\beta^{k}p^{k-1}  $  \n",
    "    $\\alpha^{k} = (y^{k-1})^Tw^{k-1}/(p^{k})^TFp^{k}$  \n",
    "    $\\lambda_{ker}^{k} = \\lambda_{ker}^{k-1} + \\alpha^{k}p^{k}$  \n",
    "    $r^{k} = r^{k-1} + \\alpha^{k}Fp^{k}$  \n",
    "\n",
    "3. Set solution $\\lambda_{ker} = \\lambda_{ker}^{k} $  \n"
   ]
  },
  {
   "cell_type": "code",
   "execution_count": null,
   "metadata": {
    "collapsed": true
   },
   "outputs": [],
   "source": [
    "def PCGP(F,dhat,lambda_ker,Precond=None,tol = 1.e-6,max_int = 500):\n",
    "    # step 1\n",
    "    beta = 0.0\n",
    "    rk = dhat\n",
    "    interface_size = lambda_ker.shape[0]\n",
    "    lambda_ker = np.zeros(interface_size)\n",
    "    \n",
    "    if Precond is None:\n",
    "        Precond = np.eye(interface_size,interface_size)\n",
    "\n",
    "    #step 2\n",
    "    yk2 = np.zeros(interface_size)\n",
    "    yk1 = np.zeros(interface_size)\n",
    "    wk1 = np.zeros(interface_size)\n",
    "\n",
    "    res = []\n",
    "    for k in range(max_int):\n",
    "        wk = P.dot(rk)\n",
    "\n",
    "        norm_wk = np.linalg.norm(wk)\n",
    "        res.append(norm_wk)\n",
    "        if norm_wk<tol:\n",
    "            print('PCG has converged after %i' %(k+1))\n",
    "            break\n",
    "\n",
    "        zk = Precond.dot(wk)\n",
    "        yk = P.dot(zk)\n",
    "\n",
    "        if k>1:\n",
    "            #calc beta\n",
    "            beta = yk.T.dot(wk)/yk1.T.dot(wk1)\n",
    "        else:\n",
    "            pk1 = yk\n",
    "\n",
    "        pk = yk + beta*pk1\n",
    "        Fpk = F.dot(pk)\n",
    "        ak = yk.T.dot(wk)/pk.T.dot(Fpk)\n",
    "        lambda_ker = lambda_ker + ak*pk\n",
    "        rk = rk - ak*Fpk\n",
    "\n",
    "        # set n - 1 data\n",
    "        yk1 = yk\n",
    "        pk1 = pk\n",
    "        wk1 = wk\n",
    "\n",
    "\n",
    "    lambda_pgc = lambda_ker + lambda_im\n",
    "    return lambda_pgc, res\n",
    "\n",
    "lambda_pgc, res = PCGP(F,dhat,lambda_ker)\n",
    "\n",
    "fig, (ax1,ax2) = plt.subplots(1,2, figsize=(10,5))    \n",
    "ax2.scatter(dual_int_lambda,lambda_pgc)    \n",
    "ax2.set_xlabel('$\\lambda$ by Dual Problem')\n",
    "ax2.set_ylabel('$\\lambda$ by PCG')\n",
    "\n",
    "p , residuals, rank, singular_values, rcond = np.polyfit(dual_int_lambda ,lambda_pgc, 1, full=True)\n",
    "m = p[0]\n",
    "b = p[1]\n",
    "X_plot = np.linspace(ax2.get_xlim()[0],ax2.get_xlim()[1],100)\n",
    "ax2.plot(X_plot, m*X_plot + b, '-')\n",
    "\n",
    "\n",
    "\n",
    "ax1.plot(res,'o')    \n",
    "ax1.set_xlabel('iteration')\n",
    "ax1.set_ylabel('Projected error $||w^k||$')\n",
    "\n",
    "fig.suptitle('PCGP without precondicioning.')\n",
    "plt.show()"
   ]
  },
  {
   "cell_type": "code",
   "execution_count": null,
   "metadata": {
    "collapsed": true
   },
   "outputs": [],
   "source": [
    "ii_id = sub1.local_interior_dofs_list\n",
    "bb_id = sub1.local_interface_dofs_list\n",
    "\n",
    "K1 = sub1.stiffness\n",
    "Kbb = K[bb_id,:][:,bb_id].todense()\n",
    "Kii = K[ii_id,:][:,ii_id].todense()\n",
    "Kbi = K[bb_id,:][:,ii_id].todense()\n",
    "Kib = Kbi.T\n",
    "Kii_inv = np.linalg.pinv(Kii)\n",
    "print(sub1.local_interior_dofs_list)\n",
    "print(sub1.local_interface_dofs_list)\n",
    "\n",
    "Sbb = Kbb - Kbi.dot(Kii_inv).dot(Kib)"
   ]
  },
  {
   "cell_type": "code",
   "execution_count": null,
   "metadata": {
    "collapsed": true
   },
   "outputs": [],
   "source": [
    "ub = [1.0]*len(bb_id)"
   ]
  },
  {
   "cell_type": "code",
   "execution_count": null,
   "metadata": {
    "collapsed": true
   },
   "outputs": [],
   "source": [
    "ub"
   ]
  },
  {
   "cell_type": "code",
   "execution_count": null,
   "metadata": {
    "collapsed": true
   },
   "outputs": [],
   "source": [
    "Sbb = Kbb\n",
    "print(Sbb.shape)\n",
    "#Kii_inv = np.linalg.inv(Kii)\n",
    "#Sbb = Kbb - Kbi.dot(Kii_inv).dot(Kib)\n",
    "#print(Sbb.shape)"
   ]
  },
  {
   "cell_type": "code",
   "execution_count": null,
   "metadata": {
    "collapsed": true
   },
   "outputs": [],
   "source": [
    "diag_inv = 1.0/Kii.diagonal()\n",
    "Kii_inv = np.diag(diag_inv .A1)\n"
   ]
  },
  {
   "cell_type": "code",
   "execution_count": null,
   "metadata": {
    "collapsed": true
   },
   "outputs": [],
   "source": [
    "S1 = sub1.assemble_primal_schur_complement()\n",
    "S2 = sub2.assemble_primal_schur_complement()\n",
    "print(S1.shape)\n",
    "print(S2.shape)\n",
    "print(K1.shape)\n",
    "print(K2.shape)\n",
    "print(B1.shape)\n",
    "print(B2.shape)\n"
   ]
  },
  {
   "cell_type": "code",
   "execution_count": null,
   "metadata": {
    "collapsed": true
   },
   "outputs": [],
   "source": [
    "from scipy.sparse import bmat\n",
    "A = np.matrix([[1,2],[2,4]])\n",
    "B = np.matrix([[3,7],[2,5]])\n",
    "#A = np.zeros([2,2])\n",
    "C = bmat([[A, None], [None, B]])"
   ]
  },
  {
   "cell_type": "code",
   "execution_count": null,
   "metadata": {
    "collapsed": true
   },
   "outputs": [],
   "source": [
    "C.todense()"
   ]
  },
  {
   "cell_type": "code",
   "execution_count": null,
   "metadata": {
    "collapsed": true
   },
   "outputs": [],
   "source": [
    "Cd = C.diagonal()\n",
    "print(Cd)\n",
    "Cd_inv = 1.0/Cd\n",
    "print(Cd_inv)\n",
    "\n",
    "Sbb = scipy.sparse.diags(Cd_inv)"
   ]
  },
  {
   "cell_type": "code",
   "execution_count": null,
   "metadata": {
    "collapsed": true
   },
   "outputs": [],
   "source": [
    "Sbb"
   ]
  },
  {
   "cell_type": "code",
   "execution_count": null,
   "metadata": {
    "collapsed": true
   },
   "outputs": [],
   "source": [
    "K = sub1.stiffness"
   ]
  },
  {
   "cell_type": "code",
   "execution_count": null,
   "metadata": {
    "collapsed": true
   },
   "outputs": [],
   "source": [
    "K.shape"
   ]
  },
  {
   "cell_type": "code",
   "execution_count": null,
   "metadata": {
    "collapsed": true
   },
   "outputs": [],
   "source": [
    "Kii = K[ii_id,:][:,ii_id]\n",
    "Kbb = K[bb_id,:][:,bb_id]"
   ]
  }
 ],
 "metadata": {
  "kernelspec": {
   "display_name": "Python 3",
   "language": "python",
   "name": "python3"
  },
  "language_info": {
   "codemirror_mode": {
    "name": "ipython",
    "version": 3
   },
   "file_extension": ".py",
   "mimetype": "text/x-python",
   "name": "python",
   "nbconvert_exporter": "python",
   "pygments_lexer": "ipython3",
   "version": "3.6.3"
  }
 },
 "nbformat": 4,
 "nbformat_minor": 2
}
