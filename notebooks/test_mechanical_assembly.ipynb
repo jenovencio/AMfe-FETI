{
 "cells": [
  {
   "cell_type": "code",
   "execution_count": 1,
   "metadata": {},
   "outputs": [
    {
     "name": "stdout",
     "output_type": "stream",
     "text": [
      "\n",
      "Python was not able to load the fast fortran material routines.\n",
      "\n",
      "\n",
      "*************************************************************\n",
      "Loading gmsh-mesh from H:\\TUM-PC\\Dokumente\\Projects\\AMfe\\meshes/test_meshes/2_partitions_2quad_mesh.msh\n",
      "Mesh H:\\TUM-PC\\Dokumente\\Projects\\AMfe\\meshes/test_meshes/2_partitions_2quad_mesh.msh successfully imported. \n",
      "Assign a material to a physical group.\n",
      "*************************************************************\n"
     ]
    }
   ],
   "source": [
    "import sys \n",
    "import amfe\n",
    "import matplotlib.pyplot as plt\n",
    "import numpy as np\n",
    "import scipy\n",
    "import copy\n",
    "\n",
    "msh_dict = {}\n",
    "msh_dict[0] = amfe.amfe_dir('meshes/test_meshes/Geom3.msh')\n",
    "msh_dict[1] = amfe.amfe_dir('meshes/test_meshes/simple_2.msh')\n",
    "msh_dict[2] = mshfile = amfe.amfe_dir('meshes/test_meshes/3_partition_pressure_corner.msh')\n",
    "msh_dict[3] = mshfile = amfe.amfe_dir('meshes/test_meshes/geo_hole_quad_part_4.msh')\n",
    "msh_dict[4] = mshfile = amfe.amfe_dir('meshes/test_meshes/2_partitions_quad_mesh.msh')\n",
    "msh_dict[5] = mshfile = amfe.amfe_dir('meshes/test_meshes/2_partitions_2quad_mesh.msh')\n",
    "msh_dict[6] = mshfile = amfe.amfe_dir('meshes/test_meshes/4_partitions_quad_mesh.msh')\n",
    "msh_dict[7] = mshfile = amfe.amfe_dir('meshes/test_meshes/3_partition_2d_blade_quad_mesh.msh')\n",
    "msh_dict[8] = mshfile = amfe.amfe_dir('1_quad_elem.msh')\n",
    "\n",
    "\n",
    "domain_id = {}\n",
    "domain_id[0] = 3\n",
    "domain_id[1] = 3\n",
    "domain_id[2] = 11\n",
    "domain_id[3] = 8\n",
    "domain_id[4] = 3\n",
    "domain_id[5] = 3\n",
    "domain_id[6] = 3\n",
    "domain_id[7] = 3\n",
    "domain_id[8] = 6\n",
    "\n",
    "# select mesh to be plotted\n",
    "mesh_id = 5\n",
    "mshfile = msh_dict[mesh_id]\n",
    "\n",
    "m = amfe.Mesh()\n",
    "m.import_msh(mshfile)\n",
    "\n",
    "m.split_in_groups()\n",
    "\n",
    "\n",
    "# creating material\n",
    "my_material = amfe.KirchhoffMaterial(E=210E9, nu=0.3, rho=7.86E3, plane_stress=True, thickness=0.1)\n",
    "\n",
    "# genereting more domains from a basic sector\n",
    "sys.path.append(r\"H:\\TUM-PC\\Dokumente\\Projects\\FETI\")\n",
    "from cyclic_domain_test import *\n",
    "\n",
    "alpha = [90,210,330]\n",
    "submesh_dict = {}\n",
    "\n",
    "my_system = amfe.MechanicalAssembly()\n",
    "\n",
    "for key,alpha_i in enumerate(alpha):\n",
    "    new = rot_z(m.nodes,alpha_i)\n",
    "    submesh = copy.deepcopy(m.groups[domain_id[mesh_id]])\n",
    "    submesh.parent_mesh.nodes = new\n",
    "    submesh = m.groups[domain_id[mesh_id]]\n",
    "    submesh.parent_mesh.nodes = new\n",
    "    submesh_dict[key] = copy.deepcopy(submesh)\n",
    "\n",
    "    my_system.append_domain(submesh, my_material)"
   ]
  },
  {
   "cell_type": "code",
   "execution_count": 2,
   "metadata": {},
   "outputs": [
    {
     "data": {
      "text/plain": [
       "array([[  0.00000000e+00,   0.00000000e+00],\n",
       "       [  6.12323400e-17,   1.00000000e+00],\n",
       "       [  1.22464680e-16,   2.00000000e+00],\n",
       "       [ -1.00000000e+00,   2.00000000e+00],\n",
       "       [ -1.00000000e+00,   1.00000000e+00],\n",
       "       [ -1.00000000e+00,   6.12323400e-17]])"
      ]
     },
     "execution_count": 2,
     "metadata": {},
     "output_type": "execute_result"
    }
   ],
   "source": [
    "my_system.domain_dict[1].parent_mesh.nodes"
   ]
  },
  {
   "cell_type": "code",
   "execution_count": 3,
   "metadata": {},
   "outputs": [
    {
     "data": {
      "text/plain": [
       "array([[ 0.        ,  0.        ],\n",
       "       [-0.8660254 , -0.5       ],\n",
       "       [-1.73205081, -1.        ],\n",
       "       [-1.23205081, -1.8660254 ],\n",
       "       [-0.3660254 , -1.3660254 ],\n",
       "       [ 0.5       , -0.8660254 ]])"
      ]
     },
     "execution_count": 3,
     "metadata": {},
     "output_type": "execute_result"
    }
   ],
   "source": [
    "submesh_dict[1].parent_mesh.nodes"
   ]
  },
  {
   "cell_type": "code",
   "execution_count": 4,
   "metadata": {},
   "outputs": [
    {
     "data": {
      "text/plain": [
       "array([[ 0.        ,  0.        ],\n",
       "       [ 0.8660254 , -0.5       ],\n",
       "       [ 1.73205081, -1.        ],\n",
       "       [ 2.23205081, -0.1339746 ],\n",
       "       [ 1.3660254 ,  0.3660254 ],\n",
       "       [ 0.5       ,  0.8660254 ]])"
      ]
     },
     "execution_count": 4,
     "metadata": {},
     "output_type": "execute_result"
    }
   ],
   "source": [
    "submesh_dict[2].parent_mesh.nodes"
   ]
  },
  {
   "cell_type": "code",
   "execution_count": 5,
   "metadata": {},
   "outputs": [
    {
     "data": {
      "image/png": "[encoded data removed]",
      "text/plain": [
       "<matplotlib.figure.Figure at 0x2892086fac8>"
      ]
     },
     "metadata": {},
     "output_type": "display_data"
    }
   ],
   "source": [
    "fig, ax1=plt.subplots(1,figsize=(10, 10), dpi= 80, facecolor='w', edgecolor='k')\n",
    "ax1 = amfe.plot_submesh(submesh_dict[0],ax1)\n",
    "ax1 = amfe.plot_submesh(submesh_dict[1],ax1)\n",
    "ax1 = amfe.plot_submesh(submesh_dict[2],ax1)\n",
    "plt.xlim([-3,3])\n",
    "plt.ylim([-3,3])\n",
    "plt.show()"
   ]
  },
  {
   "cell_type": "code",
   "execution_count": 6,
   "metadata": {},
   "outputs": [
    {
     "name": "stderr",
     "output_type": "stream",
     "text": [
      "C:\\Users\\ge72tih\\AppData\\Local\\Continuum\\anaconda3\\envs\\py36\\Lib\\site-packages\\pandas\\core\\indexing.py:194: SettingWithCopyWarning: \n",
      "A value is trying to be set on a copy of a slice from a DataFrame\n",
      "\n",
      "See the caveats in the documentation: http://pandas.pydata.org/pandas-docs/stable/indexing.html#indexing-view-versus-copy\n",
      "  self._setitem_with_indexer(indexer, value)\n"
     ]
    },
    {
     "data": {
      "image/png": "[encoded data removed]",
      "text/plain": [
       "<matplotlib.figure.Figure at 0x289206eab70>"
      ]
     },
     "metadata": {},
     "output_type": "display_data"
    }
   ],
   "source": [
    "d1 = my_system.get_domain(1)\n",
    "sub_dir = d1.get_submesh('phys_group',1)\n",
    "sub_neu = d1.get_submesh('phys_group',2)\n",
    "\n",
    "\n",
    "#my_system.apply_neumann_boundaries(1,sub_neu,10)\n",
    "#my_system.apply_dirichlet_boundaries(1,sub_dir,0.0)\n",
    "\n",
    "my_system.create_assembly_dataframe()\n",
    "new_m = my_system.create_mesh_obj()\n",
    "\n",
    "\n",
    "my_system.update_submesh_with_global_mesh()\n",
    "new_m.split_in_groups()\n",
    "\n",
    "amfe.plot_submesh(new_m.groups[3])\n",
    "plt.show()"
   ]
  },
  {
   "cell_type": "code",
   "execution_count": 7,
   "metadata": {
    "collapsed": true
   },
   "outputs": [],
   "source": [
    "# selectiong submeshes for boundary condition\n",
    "sub_neu1 = my_system.get_submesh(1,2)\n",
    "sub_neu2 = my_system.get_submesh(2,2)\n",
    "sub_neu3 = my_system.get_submesh(3,2)\n",
    "\n",
    "sub_dir1 = my_system.get_submesh(1,1)\n",
    "sub_dir2 = my_system.get_submesh(2,1)\n",
    "sub_dir3 = my_system.get_submesh(3,1)"
   ]
  },
  {
   "cell_type": "code",
   "execution_count": 8,
   "metadata": {},
   "outputs": [
    {
     "data": {
      "text/plain": [
       "{1: <amfe.mesh.SubMesh at 0x2891f5e91d0>,\n",
       " 2: <amfe.mesh.SubMesh at 0x28920709278>,\n",
       " 3: <amfe.mesh.SubMesh at 0x2892084e1d0>}"
      ]
     },
     "execution_count": 8,
     "metadata": {},
     "output_type": "execute_result"
    }
   ],
   "source": [
    "# appling bc\n",
    "value = 10e8\n",
    "my_system.apply_neumann_boundaries(1,sub_neu1,value)\n",
    "my_system.apply_neumann_boundaries(2,sub_neu2,value)\n",
    "my_system.apply_neumann_boundaries(3,sub_neu3,value)\n",
    "\n",
    "my_system.apply_dirichlet_boundaries(1,sub_dir1,0.0,'xy')\n",
    "my_system.apply_dirichlet_boundaries(2,sub_dir2,0.0,'xy')\n",
    "my_system.apply_dirichlet_boundaries(3,sub_dir3,0.0,'xy')"
   ]
  },
  {
   "cell_type": "code",
   "execution_count": 9,
   "metadata": {},
   "outputs": [
    {
     "name": "stdout",
     "output_type": "stream",
     "text": [
      "Preallocating the stiffness matrix\n",
      "Done preallocating stiffness matrix with 2 elements and 12 dofs.\n",
      "Time taken for preallocation: 0.00 seconds.\n"
     ]
    }
   ],
   "source": [
    "sub1 = amfe.FETIsubdomain(my_system.domain_dict[1])"
   ]
  },
  {
   "cell_type": "code",
   "execution_count": 10,
   "metadata": {},
   "outputs": [
    {
     "name": "stdout",
     "output_type": "stream",
     "text": [
      "Preallocating the stiffness matrix\n",
      "Done preallocating stiffness matrix with 2 elements and 12 dofs.\n",
      "Time taken for preallocation: 0.00 seconds.\n",
      "Preallocating the stiffness matrix\n",
      "Done preallocating stiffness matrix with 2 elements and 12 dofs.\n",
      "Time taken for preallocation: 0.00 seconds.\n",
      "Preallocating the stiffness matrix\n",
      "Done preallocating stiffness matrix with 2 elements and 12 dofs.\n",
      "Time taken for preallocation: 0.00 seconds.\n"
     ]
    }
   ],
   "source": [
    "u = {}\n",
    "\n",
    "for key in [1,2,3]:\n",
    "    sub1 = amfe.FETIsubdomain(my_system.domain_dict[key])\n",
    "    K1, f = sub1.assemble_k_and_f()\n",
    "    K1 = K1.todense()\n",
    "    K, fext1 = sub1.assemble_k_and_f_neumann()\n",
    "    K1, f1 = sub1.insert_dirichlet_boundary_cond(K1,fext1)\n",
    "    B1_dict = sub1.assemble_interface_boolean_matrix()\n",
    "\n",
    "    u1 = np.linalg.solve(K1,fext1)\n",
    "    u[key] = u1"
   ]
  },
  {
   "cell_type": "code",
   "execution_count": 11,
   "metadata": {},
   "outputs": [
    {
     "data": {
      "text/plain": [
       "array([[ 0.        ,  0.        ],\n",
       "       [ 0.8660254 , -0.5       ],\n",
       "       [ 1.3660254 ,  0.3660254 ],\n",
       "       [ 0.5       ,  0.8660254 ],\n",
       "       [ 1.73205081, -1.        ],\n",
       "       [ 2.23205081, -0.1339746 ]])"
      ]
     },
     "execution_count": 11,
     "metadata": {},
     "output_type": "execute_result"
    }
   ],
   "source": [
    "local_system = my_system.domain_dict[1]\n",
    "sub1.mesh.connectivity\n",
    "sub1.mesh.nodes"
   ]
  },
  {
   "cell_type": "code",
   "execution_count": 12,
   "metadata": {},
   "outputs": [
    {
     "data": {
      "text/plain": [
       "array([[ 0.        ,  0.        ],\n",
       "       [ 0.8660254 , -0.5       ],\n",
       "       [ 1.3660254 ,  0.3660254 ],\n",
       "       [ 0.5       ,  0.8660254 ],\n",
       "       [ 1.73205081, -1.        ],\n",
       "       [ 2.23205081, -0.1339746 ]])"
      ]
     },
     "execution_count": 12,
     "metadata": {},
     "output_type": "execute_result"
    }
   ],
   "source": [
    "local_system = my_system.domain_dict[2]\n",
    "sub1.mesh.connectivity\n",
    "sub1.mesh.nodes"
   ]
  },
  {
   "cell_type": "code",
   "execution_count": 13,
   "metadata": {},
   "outputs": [
    {
     "data": {
      "text/plain": [
       "array([[ 0.        ,  0.        ],\n",
       "       [ 0.8660254 , -0.5       ],\n",
       "       [ 1.3660254 ,  0.3660254 ],\n",
       "       [ 0.5       ,  0.8660254 ],\n",
       "       [ 1.73205081, -1.        ],\n",
       "       [ 2.23205081, -0.1339746 ]])"
      ]
     },
     "execution_count": 13,
     "metadata": {},
     "output_type": "execute_result"
    }
   ],
   "source": [
    "local_system = my_system.domain_dict[3]\n",
    "sub1.mesh.connectivity\n",
    "sub1.mesh.nodes"
   ]
  },
  {
   "cell_type": "code",
   "execution_count": 14,
   "metadata": {},
   "outputs": [
    {
     "data": {
      "application/vnd.jupyter.widget-view+json": {
       "model_id": "b2ea89b9a461405e82052167e1a9adae",
       "version_major": 2,
       "version_minor": 0
      },
      "text/plain": [
       "A Jupyter Widget"
      ]
     },
     "metadata": {},
     "output_type": "display_data"
    },
    {
     "data": {
      "text/plain": [
       "<function __main__.plot_static>"
      ]
     },
     "execution_count": 14,
     "metadata": {},
     "output_type": "execute_result"
    }
   ],
   "source": [
    "from ipywidgets import interact, interactive, fixed, interact_manual\n",
    "import ipywidgets as widgets\n",
    "\n",
    "\n",
    "def plot_static(scale=0):\n",
    "    fig, ax1=plt.subplots(1,figsize=(10, 10), dpi= 80, facecolor='w', edgecolor='k')\n",
    "    for key in [1,2,3]:\n",
    "        sub1 = amfe.FETIsubdomain(my_system.domain_dict[key])\n",
    "        connectivity = sub1.mesh.connectivity\n",
    "        u_fea = u[key]\n",
    "        nodes = sub1.mesh.nodes\n",
    "        amfe.plotDeformQuadMesh(connectivity,nodes, u_fea ,scale, ax1) \n",
    "        #plt.figure()\n",
    "        #plt.plot(u_fea)\n",
    "        \n",
    "    plt.show()\n",
    "    \n",
    "interact(plot_static,scale=(0,100,1))"
   ]
  },
  {
   "cell_type": "code",
   "execution_count": 15,
   "metadata": {},
   "outputs": [
    {
     "data": {
      "text/plain": [
       "[array([14, 15], dtype=int64)]"
      ]
     },
     "execution_count": 15,
     "metadata": {},
     "output_type": "execute_result"
    }
   ],
   "source": [
    "sub2 = my_system.domain_dict[3]\n",
    "neu_elem = sub2.neumann_submesh[0]\n",
    "\n",
    "neu_elem.connectivity"
   ]
  },
  {
   "cell_type": "code",
   "execution_count": 16,
   "metadata": {},
   "outputs": [
    {
     "data": {
      "text/html": [
       "<div>\n",
       "<style scoped>\n",
       "    .dataframe tbody tr th:only-of-type {\n",
       "        vertical-align: middle;\n",
       "    }\n",
       "\n",
       "    .dataframe tbody tr th {\n",
       "        vertical-align: top;\n",
       "    }\n",
       "\n",
       "    .dataframe thead th {\n",
       "        text-align: right;\n",
       "    }\n",
       "</style>\n",
       "<table border=\"1\" class=\"dataframe\">\n",
       "  <thead>\n",
       "    <tr style=\"text-align: right;\">\n",
       "      <th></th>\n",
       "      <th>idx_gmsh</th>\n",
       "      <th>local_idx</th>\n",
       "      <th>el_type</th>\n",
       "      <th>no_of_tags</th>\n",
       "      <th>phys_group</th>\n",
       "      <th>geom_entity</th>\n",
       "      <th>no_of_mesh_partitions</th>\n",
       "      <th>partition_id</th>\n",
       "      <th>partitions_neighbors</th>\n",
       "      <th>domain</th>\n",
       "      <th>5</th>\n",
       "      <th>6</th>\n",
       "      <th>7</th>\n",
       "      <th>8</th>\n",
       "    </tr>\n",
       "  </thead>\n",
       "  <tbody>\n",
       "    <tr>\n",
       "      <th>0</th>\n",
       "      <td>1</td>\n",
       "      <td>1</td>\n",
       "      <td>straight_line</td>\n",
       "      <td>4</td>\n",
       "      <td>1</td>\n",
       "      <td>2</td>\n",
       "      <td>1</td>\n",
       "      <td>1</td>\n",
       "      <td>None</td>\n",
       "      <td>1</td>\n",
       "      <td>0</td>\n",
       "      <td>5</td>\n",
       "      <td>NaN</td>\n",
       "      <td>NaN</td>\n",
       "    </tr>\n",
       "    <tr>\n",
       "      <th>1</th>\n",
       "      <td>2</td>\n",
       "      <td>2</td>\n",
       "      <td>straight_line</td>\n",
       "      <td>4</td>\n",
       "      <td>2</td>\n",
       "      <td>2</td>\n",
       "      <td>1</td>\n",
       "      <td>1</td>\n",
       "      <td>None</td>\n",
       "      <td>1</td>\n",
       "      <td>2</td>\n",
       "      <td>3</td>\n",
       "      <td>NaN</td>\n",
       "      <td>NaN</td>\n",
       "    </tr>\n",
       "    <tr>\n",
       "      <th>2</th>\n",
       "      <td>3</td>\n",
       "      <td>3</td>\n",
       "      <td>Quad4</td>\n",
       "      <td>5</td>\n",
       "      <td>3</td>\n",
       "      <td>1</td>\n",
       "      <td>2</td>\n",
       "      <td>1</td>\n",
       "      <td>[-2]</td>\n",
       "      <td>1</td>\n",
       "      <td>0</td>\n",
       "      <td>1</td>\n",
       "      <td>4.0</td>\n",
       "      <td>5.0</td>\n",
       "    </tr>\n",
       "    <tr>\n",
       "      <th>3</th>\n",
       "      <td>4</td>\n",
       "      <td>4</td>\n",
       "      <td>Quad4</td>\n",
       "      <td>5</td>\n",
       "      <td>3</td>\n",
       "      <td>1</td>\n",
       "      <td>2</td>\n",
       "      <td>2</td>\n",
       "      <td>[-1]</td>\n",
       "      <td>1</td>\n",
       "      <td>1</td>\n",
       "      <td>2</td>\n",
       "      <td>3.0</td>\n",
       "      <td>4.0</td>\n",
       "    </tr>\n",
       "    <tr>\n",
       "      <th>4</th>\n",
       "      <td>5</td>\n",
       "      <td>1</td>\n",
       "      <td>straight_line</td>\n",
       "      <td>4</td>\n",
       "      <td>1</td>\n",
       "      <td>2</td>\n",
       "      <td>1</td>\n",
       "      <td>3</td>\n",
       "      <td>None</td>\n",
       "      <td>2</td>\n",
       "      <td>6</td>\n",
       "      <td>11</td>\n",
       "      <td>NaN</td>\n",
       "      <td>NaN</td>\n",
       "    </tr>\n",
       "    <tr>\n",
       "      <th>5</th>\n",
       "      <td>6</td>\n",
       "      <td>2</td>\n",
       "      <td>straight_line</td>\n",
       "      <td>4</td>\n",
       "      <td>2</td>\n",
       "      <td>2</td>\n",
       "      <td>1</td>\n",
       "      <td>3</td>\n",
       "      <td>None</td>\n",
       "      <td>2</td>\n",
       "      <td>8</td>\n",
       "      <td>9</td>\n",
       "      <td>NaN</td>\n",
       "      <td>NaN</td>\n",
       "    </tr>\n",
       "    <tr>\n",
       "      <th>6</th>\n",
       "      <td>7</td>\n",
       "      <td>3</td>\n",
       "      <td>Quad4</td>\n",
       "      <td>5</td>\n",
       "      <td>3</td>\n",
       "      <td>1</td>\n",
       "      <td>2</td>\n",
       "      <td>3</td>\n",
       "      <td>[-4]</td>\n",
       "      <td>2</td>\n",
       "      <td>6</td>\n",
       "      <td>7</td>\n",
       "      <td>10.0</td>\n",
       "      <td>11.0</td>\n",
       "    </tr>\n",
       "    <tr>\n",
       "      <th>7</th>\n",
       "      <td>8</td>\n",
       "      <td>4</td>\n",
       "      <td>Quad4</td>\n",
       "      <td>5</td>\n",
       "      <td>3</td>\n",
       "      <td>1</td>\n",
       "      <td>2</td>\n",
       "      <td>4</td>\n",
       "      <td>[-3]</td>\n",
       "      <td>2</td>\n",
       "      <td>7</td>\n",
       "      <td>8</td>\n",
       "      <td>9.0</td>\n",
       "      <td>10.0</td>\n",
       "    </tr>\n",
       "    <tr>\n",
       "      <th>8</th>\n",
       "      <td>9</td>\n",
       "      <td>1</td>\n",
       "      <td>straight_line</td>\n",
       "      <td>4</td>\n",
       "      <td>1</td>\n",
       "      <td>2</td>\n",
       "      <td>1</td>\n",
       "      <td>5</td>\n",
       "      <td>None</td>\n",
       "      <td>3</td>\n",
       "      <td>12</td>\n",
       "      <td>17</td>\n",
       "      <td>NaN</td>\n",
       "      <td>NaN</td>\n",
       "    </tr>\n",
       "    <tr>\n",
       "      <th>9</th>\n",
       "      <td>10</td>\n",
       "      <td>2</td>\n",
       "      <td>straight_line</td>\n",
       "      <td>4</td>\n",
       "      <td>2</td>\n",
       "      <td>2</td>\n",
       "      <td>1</td>\n",
       "      <td>5</td>\n",
       "      <td>None</td>\n",
       "      <td>3</td>\n",
       "      <td>14</td>\n",
       "      <td>15</td>\n",
       "      <td>NaN</td>\n",
       "      <td>NaN</td>\n",
       "    </tr>\n",
       "    <tr>\n",
       "      <th>10</th>\n",
       "      <td>11</td>\n",
       "      <td>3</td>\n",
       "      <td>Quad4</td>\n",
       "      <td>5</td>\n",
       "      <td>3</td>\n",
       "      <td>1</td>\n",
       "      <td>2</td>\n",
       "      <td>5</td>\n",
       "      <td>[-6]</td>\n",
       "      <td>3</td>\n",
       "      <td>12</td>\n",
       "      <td>13</td>\n",
       "      <td>16.0</td>\n",
       "      <td>17.0</td>\n",
       "    </tr>\n",
       "    <tr>\n",
       "      <th>11</th>\n",
       "      <td>12</td>\n",
       "      <td>4</td>\n",
       "      <td>Quad4</td>\n",
       "      <td>5</td>\n",
       "      <td>3</td>\n",
       "      <td>1</td>\n",
       "      <td>2</td>\n",
       "      <td>6</td>\n",
       "      <td>[-5]</td>\n",
       "      <td>3</td>\n",
       "      <td>13</td>\n",
       "      <td>14</td>\n",
       "      <td>15.0</td>\n",
       "      <td>16.0</td>\n",
       "    </tr>\n",
       "  </tbody>\n",
       "</table>\n",
       "</div>"
      ],
      "text/plain": [
       "    idx_gmsh  local_idx        el_type  no_of_tags  phys_group  geom_entity  \\\n",
       "0          1          1  straight_line           4           1            2   \n",
       "1          2          2  straight_line           4           2            2   \n",
       "2          3          3          Quad4           5           3            1   \n",
       "3          4          4          Quad4           5           3            1   \n",
       "4          5          1  straight_line           4           1            2   \n",
       "5          6          2  straight_line           4           2            2   \n",
       "6          7          3          Quad4           5           3            1   \n",
       "7          8          4          Quad4           5           3            1   \n",
       "8          9          1  straight_line           4           1            2   \n",
       "9         10          2  straight_line           4           2            2   \n",
       "10        11          3          Quad4           5           3            1   \n",
       "11        12          4          Quad4           5           3            1   \n",
       "\n",
       "    no_of_mesh_partitions  partition_id partitions_neighbors  domain   5   6  \\\n",
       "0                       1             1                 None       1   0   5   \n",
       "1                       1             1                 None       1   2   3   \n",
       "2                       2             1                 [-2]       1   0   1   \n",
       "3                       2             2                 [-1]       1   1   2   \n",
       "4                       1             3                 None       2   6  11   \n",
       "5                       1             3                 None       2   8   9   \n",
       "6                       2             3                 [-4]       2   6   7   \n",
       "7                       2             4                 [-3]       2   7   8   \n",
       "8                       1             5                 None       3  12  17   \n",
       "9                       1             5                 None       3  14  15   \n",
       "10                      2             5                 [-6]       3  12  13   \n",
       "11                      2             6                 [-5]       3  13  14   \n",
       "\n",
       "       7     8  \n",
       "0    NaN   NaN  \n",
       "1    NaN   NaN  \n",
       "2    4.0   5.0  \n",
       "3    3.0   4.0  \n",
       "4    NaN   NaN  \n",
       "5    NaN   NaN  \n",
       "6   10.0  11.0  \n",
       "7    9.0  10.0  \n",
       "8    NaN   NaN  \n",
       "9    NaN   NaN  \n",
       "10  16.0  17.0  \n",
       "11  15.0  16.0  "
      ]
     },
     "execution_count": 16,
     "metadata": {},
     "output_type": "execute_result"
    }
   ],
   "source": [
    "new_m.el_df"
   ]
  },
  {
   "cell_type": "code",
   "execution_count": 17,
   "metadata": {},
   "outputs": [
    {
     "data": {
      "text/html": [
       "<div>\n",
       "<style scoped>\n",
       "    .dataframe tbody tr th:only-of-type {\n",
       "        vertical-align: middle;\n",
       "    }\n",
       "\n",
       "    .dataframe tbody tr th {\n",
       "        vertical-align: top;\n",
       "    }\n",
       "\n",
       "    .dataframe thead th {\n",
       "        text-align: right;\n",
       "    }\n",
       "</style>\n",
       "<table border=\"1\" class=\"dataframe\">\n",
       "  <thead>\n",
       "    <tr style=\"text-align: right;\">\n",
       "      <th></th>\n",
       "      <th>idx_gmsh</th>\n",
       "      <th>local_idx</th>\n",
       "      <th>el_type</th>\n",
       "      <th>no_of_tags</th>\n",
       "      <th>phys_group</th>\n",
       "      <th>geom_entity</th>\n",
       "      <th>no_of_mesh_partitions</th>\n",
       "      <th>partition_id</th>\n",
       "      <th>partitions_neighbors</th>\n",
       "      <th>domain</th>\n",
       "      <th>5</th>\n",
       "      <th>6</th>\n",
       "      <th>7</th>\n",
       "      <th>8</th>\n",
       "    </tr>\n",
       "  </thead>\n",
       "  <tbody>\n",
       "    <tr>\n",
       "      <th>2</th>\n",
       "      <td>3</td>\n",
       "      <td>3</td>\n",
       "      <td>Quad4</td>\n",
       "      <td>5</td>\n",
       "      <td>3</td>\n",
       "      <td>1</td>\n",
       "      <td>2</td>\n",
       "      <td>1</td>\n",
       "      <td>[-2]</td>\n",
       "      <td>1</td>\n",
       "      <td>0</td>\n",
       "      <td>1</td>\n",
       "      <td>4.0</td>\n",
       "      <td>5.0</td>\n",
       "    </tr>\n",
       "    <tr>\n",
       "      <th>3</th>\n",
       "      <td>4</td>\n",
       "      <td>4</td>\n",
       "      <td>Quad4</td>\n",
       "      <td>5</td>\n",
       "      <td>3</td>\n",
       "      <td>1</td>\n",
       "      <td>2</td>\n",
       "      <td>2</td>\n",
       "      <td>[-1]</td>\n",
       "      <td>1</td>\n",
       "      <td>1</td>\n",
       "      <td>2</td>\n",
       "      <td>3.0</td>\n",
       "      <td>4.0</td>\n",
       "    </tr>\n",
       "  </tbody>\n",
       "</table>\n",
       "</div>"
      ],
      "text/plain": [
       "   idx_gmsh  local_idx el_type  no_of_tags  phys_group  geom_entity  \\\n",
       "2         3          3   Quad4           5           3            1   \n",
       "3         4          4   Quad4           5           3            1   \n",
       "\n",
       "   no_of_mesh_partitions  partition_id partitions_neighbors  domain  5  6  \\\n",
       "2                      2             1                 [-2]       1  0  1   \n",
       "3                      2             2                 [-1]       1  1  2   \n",
       "\n",
       "     7    8  \n",
       "2  4.0  5.0  \n",
       "3  3.0  4.0  "
      ]
     },
     "execution_count": 17,
     "metadata": {},
     "output_type": "execute_result"
    }
   ],
   "source": [
    "d1.elem_dataframe"
   ]
  },
  {
   "cell_type": "code",
   "execution_count": 18,
   "metadata": {},
   "outputs": [
    {
     "data": {
      "text/plain": [
       "[1]"
      ]
     },
     "execution_count": 18,
     "metadata": {},
     "output_type": "execute_result"
    }
   ],
   "source": [
    "sub_neu1.elements_list"
   ]
  },
  {
   "cell_type": "code",
   "execution_count": 19,
   "metadata": {},
   "outputs": [
    {
     "data": {
      "text/html": [
       "<div>\n",
       "<style scoped>\n",
       "    .dataframe tbody tr th:only-of-type {\n",
       "        vertical-align: middle;\n",
       "    }\n",
       "\n",
       "    .dataframe tbody tr th {\n",
       "        vertical-align: top;\n",
       "    }\n",
       "\n",
       "    .dataframe thead th {\n",
       "        text-align: right;\n",
       "    }\n",
       "</style>\n",
       "<table border=\"1\" class=\"dataframe\">\n",
       "  <thead>\n",
       "    <tr style=\"text-align: right;\">\n",
       "      <th></th>\n",
       "      <th>idx_gmsh</th>\n",
       "      <th>local_idx</th>\n",
       "      <th>el_type</th>\n",
       "      <th>no_of_tags</th>\n",
       "      <th>phys_group</th>\n",
       "      <th>geom_entity</th>\n",
       "      <th>no_of_mesh_partitions</th>\n",
       "      <th>partition_id</th>\n",
       "      <th>partitions_neighbors</th>\n",
       "      <th>domain</th>\n",
       "      <th>5</th>\n",
       "      <th>6</th>\n",
       "      <th>7</th>\n",
       "      <th>8</th>\n",
       "    </tr>\n",
       "  </thead>\n",
       "  <tbody>\n",
       "    <tr>\n",
       "      <th>0</th>\n",
       "      <td>1</td>\n",
       "      <td>1</td>\n",
       "      <td>straight_line</td>\n",
       "      <td>4</td>\n",
       "      <td>1</td>\n",
       "      <td>2</td>\n",
       "      <td>1</td>\n",
       "      <td>1</td>\n",
       "      <td>None</td>\n",
       "      <td>1</td>\n",
       "      <td>0</td>\n",
       "      <td>5</td>\n",
       "      <td>NaN</td>\n",
       "      <td>NaN</td>\n",
       "    </tr>\n",
       "    <tr>\n",
       "      <th>1</th>\n",
       "      <td>2</td>\n",
       "      <td>2</td>\n",
       "      <td>straight_line</td>\n",
       "      <td>4</td>\n",
       "      <td>2</td>\n",
       "      <td>2</td>\n",
       "      <td>1</td>\n",
       "      <td>1</td>\n",
       "      <td>None</td>\n",
       "      <td>1</td>\n",
       "      <td>2</td>\n",
       "      <td>3</td>\n",
       "      <td>NaN</td>\n",
       "      <td>NaN</td>\n",
       "    </tr>\n",
       "    <tr>\n",
       "      <th>2</th>\n",
       "      <td>3</td>\n",
       "      <td>3</td>\n",
       "      <td>Quad4</td>\n",
       "      <td>5</td>\n",
       "      <td>3</td>\n",
       "      <td>1</td>\n",
       "      <td>2</td>\n",
       "      <td>1</td>\n",
       "      <td>[-2]</td>\n",
       "      <td>1</td>\n",
       "      <td>0</td>\n",
       "      <td>1</td>\n",
       "      <td>4.0</td>\n",
       "      <td>5.0</td>\n",
       "    </tr>\n",
       "    <tr>\n",
       "      <th>3</th>\n",
       "      <td>4</td>\n",
       "      <td>4</td>\n",
       "      <td>Quad4</td>\n",
       "      <td>5</td>\n",
       "      <td>3</td>\n",
       "      <td>1</td>\n",
       "      <td>2</td>\n",
       "      <td>2</td>\n",
       "      <td>[-1]</td>\n",
       "      <td>1</td>\n",
       "      <td>1</td>\n",
       "      <td>2</td>\n",
       "      <td>3.0</td>\n",
       "      <td>4.0</td>\n",
       "    </tr>\n",
       "    <tr>\n",
       "      <th>4</th>\n",
       "      <td>5</td>\n",
       "      <td>1</td>\n",
       "      <td>straight_line</td>\n",
       "      <td>4</td>\n",
       "      <td>1</td>\n",
       "      <td>2</td>\n",
       "      <td>1</td>\n",
       "      <td>3</td>\n",
       "      <td>None</td>\n",
       "      <td>2</td>\n",
       "      <td>6</td>\n",
       "      <td>11</td>\n",
       "      <td>NaN</td>\n",
       "      <td>NaN</td>\n",
       "    </tr>\n",
       "    <tr>\n",
       "      <th>5</th>\n",
       "      <td>6</td>\n",
       "      <td>2</td>\n",
       "      <td>straight_line</td>\n",
       "      <td>4</td>\n",
       "      <td>2</td>\n",
       "      <td>2</td>\n",
       "      <td>1</td>\n",
       "      <td>3</td>\n",
       "      <td>None</td>\n",
       "      <td>2</td>\n",
       "      <td>8</td>\n",
       "      <td>9</td>\n",
       "      <td>NaN</td>\n",
       "      <td>NaN</td>\n",
       "    </tr>\n",
       "    <tr>\n",
       "      <th>6</th>\n",
       "      <td>7</td>\n",
       "      <td>3</td>\n",
       "      <td>Quad4</td>\n",
       "      <td>5</td>\n",
       "      <td>3</td>\n",
       "      <td>1</td>\n",
       "      <td>2</td>\n",
       "      <td>3</td>\n",
       "      <td>[-4]</td>\n",
       "      <td>2</td>\n",
       "      <td>6</td>\n",
       "      <td>7</td>\n",
       "      <td>10.0</td>\n",
       "      <td>11.0</td>\n",
       "    </tr>\n",
       "    <tr>\n",
       "      <th>7</th>\n",
       "      <td>8</td>\n",
       "      <td>4</td>\n",
       "      <td>Quad4</td>\n",
       "      <td>5</td>\n",
       "      <td>3</td>\n",
       "      <td>1</td>\n",
       "      <td>2</td>\n",
       "      <td>4</td>\n",
       "      <td>[-3]</td>\n",
       "      <td>2</td>\n",
       "      <td>7</td>\n",
       "      <td>8</td>\n",
       "      <td>9.0</td>\n",
       "      <td>10.0</td>\n",
       "    </tr>\n",
       "    <tr>\n",
       "      <th>8</th>\n",
       "      <td>9</td>\n",
       "      <td>1</td>\n",
       "      <td>straight_line</td>\n",
       "      <td>4</td>\n",
       "      <td>1</td>\n",
       "      <td>2</td>\n",
       "      <td>1</td>\n",
       "      <td>5</td>\n",
       "      <td>None</td>\n",
       "      <td>3</td>\n",
       "      <td>12</td>\n",
       "      <td>17</td>\n",
       "      <td>NaN</td>\n",
       "      <td>NaN</td>\n",
       "    </tr>\n",
       "    <tr>\n",
       "      <th>9</th>\n",
       "      <td>10</td>\n",
       "      <td>2</td>\n",
       "      <td>straight_line</td>\n",
       "      <td>4</td>\n",
       "      <td>2</td>\n",
       "      <td>2</td>\n",
       "      <td>1</td>\n",
       "      <td>5</td>\n",
       "      <td>None</td>\n",
       "      <td>3</td>\n",
       "      <td>14</td>\n",
       "      <td>15</td>\n",
       "      <td>NaN</td>\n",
       "      <td>NaN</td>\n",
       "    </tr>\n",
       "    <tr>\n",
       "      <th>10</th>\n",
       "      <td>11</td>\n",
       "      <td>3</td>\n",
       "      <td>Quad4</td>\n",
       "      <td>5</td>\n",
       "      <td>3</td>\n",
       "      <td>1</td>\n",
       "      <td>2</td>\n",
       "      <td>5</td>\n",
       "      <td>[-6]</td>\n",
       "      <td>3</td>\n",
       "      <td>12</td>\n",
       "      <td>13</td>\n",
       "      <td>16.0</td>\n",
       "      <td>17.0</td>\n",
       "    </tr>\n",
       "    <tr>\n",
       "      <th>11</th>\n",
       "      <td>12</td>\n",
       "      <td>4</td>\n",
       "      <td>Quad4</td>\n",
       "      <td>5</td>\n",
       "      <td>3</td>\n",
       "      <td>1</td>\n",
       "      <td>2</td>\n",
       "      <td>6</td>\n",
       "      <td>[-5]</td>\n",
       "      <td>3</td>\n",
       "      <td>13</td>\n",
       "      <td>14</td>\n",
       "      <td>15.0</td>\n",
       "      <td>16.0</td>\n",
       "    </tr>\n",
       "  </tbody>\n",
       "</table>\n",
       "</div>"
      ],
      "text/plain": [
       "    idx_gmsh  local_idx        el_type  no_of_tags  phys_group  geom_entity  \\\n",
       "0          1          1  straight_line           4           1            2   \n",
       "1          2          2  straight_line           4           2            2   \n",
       "2          3          3          Quad4           5           3            1   \n",
       "3          4          4          Quad4           5           3            1   \n",
       "4          5          1  straight_line           4           1            2   \n",
       "5          6          2  straight_line           4           2            2   \n",
       "6          7          3          Quad4           5           3            1   \n",
       "7          8          4          Quad4           5           3            1   \n",
       "8          9          1  straight_line           4           1            2   \n",
       "9         10          2  straight_line           4           2            2   \n",
       "10        11          3          Quad4           5           3            1   \n",
       "11        12          4          Quad4           5           3            1   \n",
       "\n",
       "    no_of_mesh_partitions  partition_id partitions_neighbors  domain   5   6  \\\n",
       "0                       1             1                 None       1   0   5   \n",
       "1                       1             1                 None       1   2   3   \n",
       "2                       2             1                 [-2]       1   0   1   \n",
       "3                       2             2                 [-1]       1   1   2   \n",
       "4                       1             3                 None       2   6  11   \n",
       "5                       1             3                 None       2   8   9   \n",
       "6                       2             3                 [-4]       2   6   7   \n",
       "7                       2             4                 [-3]       2   7   8   \n",
       "8                       1             5                 None       3  12  17   \n",
       "9                       1             5                 None       3  14  15   \n",
       "10                      2             5                 [-6]       3  12  13   \n",
       "11                      2             6                 [-5]       3  13  14   \n",
       "\n",
       "       7     8  \n",
       "0    NaN   NaN  \n",
       "1    NaN   NaN  \n",
       "2    4.0   5.0  \n",
       "3    3.0   4.0  \n",
       "4    NaN   NaN  \n",
       "5    NaN   NaN  \n",
       "6   10.0  11.0  \n",
       "7    9.0  10.0  \n",
       "8    NaN   NaN  \n",
       "9    NaN   NaN  \n",
       "10  16.0  17.0  \n",
       "11  15.0  16.0  "
      ]
     },
     "execution_count": 19,
     "metadata": {},
     "output_type": "execute_result"
    }
   ],
   "source": [
    "new_m.el_df"
   ]
  },
  {
   "cell_type": "code",
   "execution_count": 20,
   "metadata": {
    "collapsed": true
   },
   "outputs": [],
   "source": [
    "domain = my_system.get_domain(1)"
   ]
  },
  {
   "cell_type": "code",
   "execution_count": 21,
   "metadata": {},
   "outputs": [
    {
     "data": {
      "text/plain": [
       "amfe.material.KirchhoffMaterial(210000000000.000000,0.300000,7860.000000,True,0.100000)"
      ]
     },
     "execution_count": 21,
     "metadata": {},
     "output_type": "execute_result"
    }
   ],
   "source": [
    "domain.__material__\n"
   ]
  },
  {
   "cell_type": "code",
   "execution_count": 23,
   "metadata": {},
   "outputs": [
    {
     "name": "stdout",
     "output_type": "stream",
     "text": [
      "\n",
      " domain 1 with 4 elements successfully added.\n",
      "Total number of elements in mesh: 4\n",
      "*************************************************************\n"
     ]
    }
   ],
   "source": [
    "my_system.mesh_class.load_group_to_mesh(1, domain.__material__ , 'domain')"
   ]
  },
  {
   "cell_type": "code",
   "execution_count": null,
   "metadata": {
    "collapsed": true
   },
   "outputs": [],
   "source": [
    "my_system"
   ]
  }
 ],
 "metadata": {
  "kernelspec": {
   "display_name": "Python 3",
   "language": "python",
   "name": "python3"
  },
  "language_info": {
   "codemirror_mode": {
    "name": "ipython",
    "version": 3
   },
   "file_extension": ".py",
   "mimetype": "text/x-python",
   "name": "python",
   "nbconvert_exporter": "python",
   "pygments_lexer": "ipython3",
   "version": "3.6.3"
  }
 },
 "nbformat": 4,
 "nbformat_minor": 2
}
