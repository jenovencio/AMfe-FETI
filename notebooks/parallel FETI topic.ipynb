{
 "cells": [
  {
   "cell_type": "markdown",
   "metadata": {},
   "source": [
    "Meeting topic\n",
    "-------------------\n",
    "\n",
    "\n",
    "1 - Different types of MPI: msmpi, intel mpi, openmpi\n",
    "problems with multiple mpi installation\n",
    "how do I to solve it?\n",
    "how to use multiple machines?\n",
    "\n",
    "2 - MPI wrapper for Python mpi4py: comm_world, rank, send and recv\n",
    "\n",
    "run helloworld, solve_mult_linear_sys and tut1\n",
    "importance of subdomain size.\n",
    "how debug mpi programs \n",
    "\n",
    "3 - FETI parallel implementation using AMfe\n",
    "SubMesh class - nodes and elements\n",
    "FETIsubdomain class - dofs, operators K, M, B, G, R, etc, interface\n",
    "Master class - global information, Course grid\n",
    "MPIfetisolver.py - call mpi from python\n"
   ]
  },
  {
   "cell_type": "code",
   "execution_count": null,
   "metadata": {
    "collapsed": true
   },
   "outputs": [],
   "source": []
  }
 ],
 "metadata": {
  "kernelspec": {
   "display_name": "Python 3",
   "language": "python",
   "name": "python3"
  },
  "language_info": {
   "codemirror_mode": {
    "name": "ipython",
    "version": 3
   },
   "file_extension": ".py",
   "mimetype": "text/x-python",
   "name": "python",
   "nbconvert_exporter": "python",
   "pygments_lexer": "ipython3",
   "version": "3.6.3"
  }
 },
 "nbformat": 4,
 "nbformat_minor": 2
}
