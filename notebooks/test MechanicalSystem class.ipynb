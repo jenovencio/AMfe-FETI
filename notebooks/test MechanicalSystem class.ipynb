{
 "cells": [
  {
   "cell_type": "code",
   "execution_count": 1,
   "metadata": {},
   "outputs": [
    {
     "name": "stdout",
     "output_type": "stream",
     "text": [
      "\n",
      "Python was not able to load the fast fortran material routines.\n",
      "\n",
      "\n",
      "*************************************************************\n",
      "Loading gmsh-mesh from H:\\TUM-PC\\Dokumente\\Projects\\AMfe\\meshes/test_meshes/Geom3.msh\n",
      "Mesh H:\\TUM-PC\\Dokumente\\Projects\\AMfe\\meshes/test_meshes/Geom3.msh successfully imported. \n",
      "Assign a material to a physical group.\n",
      "*************************************************************\n",
      "*************************************************************\n",
      "\n",
      " phys_group 3 with 86 elements successfully added.\n",
      "Total number of elements in mesh: 86\n",
      "*************************************************************\n",
      "Preallocating the stiffness matrix\n",
      "Done preallocating stiffness matrix with 86 elements and 114 dofs.\n",
      "Time taken for preallocation: 0.00 seconds.\n",
      "\n",
      " phys_group 1 with 4 nodes successfully added to Dirichlet Boundaries.\n",
      "Total number of nodes with Dirichlet BCs: 4\n",
      "Total number of constrained dofs: 4\n",
      "*************************************************************\n",
      "\n",
      " phys_group 1 with 4 nodes successfully added to Dirichlet Boundaries.\n",
      "Total number of nodes with Dirichlet BCs: 4\n",
      "Total number of constrained dofs: 8\n",
      "*************************************************************\n",
      "\n",
      " phys_group 2 with 3 elements successfully added to Neumann Boundary.\n",
      "Total number of neumann elements in mesh: 3\n",
      "Total number of elements in mesh: 86\n",
      "*************************************************************\n",
      "Attention: No linear solver was given, setting linear_solver = PardisoSolver.\n",
      "Attention: No pseudo time evaluation was given, setting t = 1.0.\n",
      "Assembling external force and stiffness...\n",
      "Start solving linear static problem...\n",
      "Static problem solved.\n"
     ]
    },
    {
     "name": "stderr",
     "output_type": "stream",
     "text": [
      "C:\\Users\\ge72tih\\AppData\\Local\\Continuum\\anaconda3\\envs\\py36\\Lib\\site-packages\\scipy\\sparse\\sputils.py:114: UserWarning: object dtype is not supported by sparse matrices\n",
      "  warnings.warn(\"object dtype is not supported by sparse matrices\")\n"
     ]
    }
   ],
   "source": [
    "import amfe\n",
    "import copy\n",
    "import matplotlib.pyplot as plt\n",
    "\n",
    "# list of gmsh mesh files and connectivity files\n",
    "msh_dict = {}\n",
    "msh_dict[0] = amfe.amfe_dir('meshes/test_meshes/Geom3.msh')\n",
    "msh_dict[1] = amfe.amfe_dir('meshes/test_meshes/simple_2.msh')\n",
    "\n",
    "\n",
    " # load cases \n",
    "load_case = {}\n",
    "load_case[0] = {'value':1E1, 'direction':'normal'}\n",
    "load_case[1] = {'value':1E2, 'direction':'normal'}\n",
    "load_case[2] = {'value':1E3, 'direction':'normal'}\n",
    "load_case[3] = {'value':1E1, 'direction':[0,-1]}\n",
    "load_case[4] = {'value':1E2, 'direction':[0,-1]}\n",
    "load_case[5] = {'value':5E3, 'direction':[0,-1]}\n",
    "\n",
    "\n",
    "\n",
    "key  = 0\n",
    "mshfile = msh_dict[key]\n",
    "load_case_id = 2\n",
    "\n",
    "m = amfe.Mesh()\n",
    "m.import_msh(mshfile)\n",
    "m.split_in_groups()\n",
    "#        \n",
    "#plot_boundary_1d(m)\n",
    "#plt.show()\n",
    "\n",
    "# creating material\n",
    "my_material = amfe.KirchhoffMaterial(E=210E9, nu=0.3, rho=7.86E3, plane_stress=True, thickness=0.1)\n",
    "#\n",
    "### creating mechanical system\n",
    "my_system = amfe.MechanicalSystem()\n",
    "my_system.set_mesh_obj(m)\n",
    "my_system.set_domain(3,my_material)\n",
    "#\n",
    "##\n",
    "my_system.apply_dirichlet_boundaries(1, 'x')\n",
    "my_system.apply_dirichlet_boundaries(1, 'y')\n",
    "\n",
    "load_case_dict = load_case[load_case_id]\n",
    "my_system.apply_neumann_boundaries(2, load_case_dict['value'], load_case_dict['direction'])\n",
    "\n",
    "\n",
    "s = amfe.LinearStaticsSolver(my_system)\n",
    "s.solve()\n",
    "amfe_disp = my_system.u_output[1]"
   ]
  },
  {
   "cell_type": "code",
   "execution_count": 2,
   "metadata": {},
   "outputs": [
    {
     "data": {
      "application/vnd.jupyter.widget-view+json": {
       "model_id": "db44428413eb4af8b14ef0bc6321178c",
       "version_major": 2,
       "version_minor": 0
      },
      "text/plain": [
       "A Jupyter Widget"
      ]
     },
     "metadata": {},
     "output_type": "display_data"
    },
    {
     "data": {
      "text/plain": [
       "<function __main__.plot_static>"
      ]
     },
     "execution_count": 2,
     "metadata": {},
     "output_type": "execute_result"
    }
   ],
   "source": [
    "from ipywidgets import interact, interactive, fixed, interact_manual\n",
    "import ipywidgets as widgets\n",
    "\n",
    "def plot_static(scale=1):\n",
    "    fig, ax1=plt.subplots(1,figsize=(15, 5), dpi= 80, facecolor='w', edgecolor='k')\n",
    "    amfe.plot_system_solution(my_system, factor=scale*100000, ax = ax1)\n",
    "    plt.show()\n",
    "\n",
    "interact(plot_static,scale=(0,1000,5))  "
   ]
  },
  {
   "cell_type": "code",
   "execution_count": 3,
   "metadata": {},
   "outputs": [
    {
     "name": "stdout",
     "output_type": "stream",
     "text": [
      "Preallocating the stiffness matrix\n",
      "Done preallocating stiffness matrix with 86 elements and 114 dofs.\n",
      "Time taken for preallocation: 0.00 seconds.\n",
      "Attention: No linear solver was given, setting linear_solver = PardisoSolver.\n",
      "Attention: No pseudo time evaluation was given, setting t = 1.0.\n",
      "Assembling external force and stiffness...\n"
     ]
    },
    {
     "name": "stderr",
     "output_type": "stream",
     "text": [
      "C:\\Users\\ge72tih\\AppData\\Local\\Continuum\\anaconda3\\envs\\py36\\Lib\\site-packages\\scipy\\sparse\\sputils.py:114: UserWarning: object dtype is not supported by sparse matrices\n",
      "  warnings.warn(\"object dtype is not supported by sparse matrices\")\n"
     ]
    },
    {
     "ename": "TypeError",
     "evalue": "'float' object cannot be interpreted as an integer",
     "output_type": "error",
     "traceback": [
      "\u001b[1;31m---------------------------------------------------------------------------\u001b[0m",
      "\u001b[1;31mTypeError\u001b[0m                                 Traceback (most recent call last)",
      "\u001b[1;32m<ipython-input-3-06e6da156961>\u001b[0m in \u001b[0;36m<module>\u001b[1;34m()\u001b[0m\n\u001b[0;32m     17\u001b[0m \u001b[1;33m\u001b[0m\u001b[0m\n\u001b[0;32m     18\u001b[0m \u001b[0ms2\u001b[0m \u001b[1;33m=\u001b[0m \u001b[0mamfe\u001b[0m\u001b[1;33m.\u001b[0m\u001b[0mLinearStaticsSolver\u001b[0m\u001b[1;33m(\u001b[0m\u001b[0mmy_system2\u001b[0m\u001b[1;33m)\u001b[0m\u001b[1;33m\u001b[0m\u001b[0m\n\u001b[1;32m---> 19\u001b[1;33m \u001b[0ms2\u001b[0m\u001b[1;33m.\u001b[0m\u001b[0msolve\u001b[0m\u001b[1;33m(\u001b[0m\u001b[1;33m)\u001b[0m\u001b[1;33m\u001b[0m\u001b[0m\n\u001b[0m\u001b[0;32m     20\u001b[0m \u001b[0mamfe_disp_2\u001b[0m \u001b[1;33m=\u001b[0m \u001b[0mmy_system2\u001b[0m\u001b[1;33m.\u001b[0m\u001b[0mu_output\u001b[0m\u001b[1;33m[\u001b[0m\u001b[1;36m1\u001b[0m\u001b[1;33m]\u001b[0m\u001b[1;33m\u001b[0m\u001b[0m\n",
      "\u001b[1;32mH:\\TUM-PC\\Dokumente\\Projects\\AMfe\\amfe\\solver.py\u001b[0m in \u001b[0;36msolve\u001b[1;34m(self)\u001b[0m\n\u001b[0;32m    293\u001b[0m \u001b[1;33m\u001b[0m\u001b[0m\n\u001b[0;32m    294\u001b[0m         \u001b[0mprint\u001b[0m\u001b[1;33m(\u001b[0m\u001b[1;34m'Assembling external force and stiffness...'\u001b[0m\u001b[1;33m)\u001b[0m\u001b[1;33m\u001b[0m\u001b[0m\n\u001b[1;32m--> 295\u001b[1;33m         \u001b[0mK\u001b[0m \u001b[1;33m=\u001b[0m \u001b[0mself\u001b[0m\u001b[1;33m.\u001b[0m\u001b[0mmechanical_system\u001b[0m\u001b[1;33m.\u001b[0m\u001b[0mK\u001b[0m\u001b[1;33m(\u001b[0m\u001b[0mu\u001b[0m\u001b[1;33m=\u001b[0m\u001b[1;32mNone\u001b[0m\u001b[1;33m,\u001b[0m \u001b[0mt\u001b[0m\u001b[1;33m=\u001b[0m\u001b[0mself\u001b[0m\u001b[1;33m.\u001b[0m\u001b[0mt\u001b[0m\u001b[1;33m)\u001b[0m\u001b[1;33m\u001b[0m\u001b[0m\n\u001b[0m\u001b[0;32m    296\u001b[0m         \u001b[0mf_ext\u001b[0m \u001b[1;33m=\u001b[0m \u001b[0mself\u001b[0m\u001b[1;33m.\u001b[0m\u001b[0mmechanical_system\u001b[0m\u001b[1;33m.\u001b[0m\u001b[0mf_ext\u001b[0m\u001b[1;33m(\u001b[0m\u001b[0mu\u001b[0m\u001b[1;33m=\u001b[0m\u001b[1;32mNone\u001b[0m\u001b[1;33m,\u001b[0m \u001b[0mdu\u001b[0m\u001b[1;33m=\u001b[0m\u001b[1;32mNone\u001b[0m\u001b[1;33m,\u001b[0m \u001b[0mt\u001b[0m\u001b[1;33m=\u001b[0m\u001b[0mself\u001b[0m\u001b[1;33m.\u001b[0m\u001b[0mt\u001b[0m\u001b[1;33m)\u001b[0m\u001b[1;33m\u001b[0m\u001b[0m\n\u001b[0;32m    297\u001b[0m         \u001b[0mself\u001b[0m\u001b[1;33m.\u001b[0m\u001b[0mmechanical_system\u001b[0m\u001b[1;33m.\u001b[0m\u001b[0mwrite_timestep\u001b[0m\u001b[1;33m(\u001b[0m\u001b[1;36m0.0\u001b[0m\u001b[1;33m,\u001b[0m \u001b[1;36m0.0\u001b[0m\u001b[1;33m*\u001b[0m\u001b[0mf_ext\u001b[0m\u001b[1;33m)\u001b[0m  \u001b[1;31m# write initial state\u001b[0m\u001b[1;33m\u001b[0m\u001b[0m\n",
      "\u001b[1;32mH:\\TUM-PC\\Dokumente\\Projects\\AMfe\\amfe\\mechanical_system.py\u001b[0m in \u001b[0;36mK\u001b[1;34m(self, u, t)\u001b[0m\n\u001b[0;32m    452\u001b[0m \u001b[1;33m\u001b[0m\u001b[0m\n\u001b[0;32m    453\u001b[0m         \u001b[1;32mif\u001b[0m \u001b[0mu\u001b[0m \u001b[1;32mis\u001b[0m \u001b[1;32mNone\u001b[0m\u001b[1;33m:\u001b[0m\u001b[1;33m\u001b[0m\u001b[0m\n\u001b[1;32m--> 454\u001b[1;33m             \u001b[0mu\u001b[0m \u001b[1;33m=\u001b[0m \u001b[0mnp\u001b[0m\u001b[1;33m.\u001b[0m\u001b[0mzeros\u001b[0m\u001b[1;33m(\u001b[0m\u001b[0mself\u001b[0m\u001b[1;33m.\u001b[0m\u001b[0mdirichlet_class\u001b[0m\u001b[1;33m.\u001b[0m\u001b[0mno_of_constrained_dofs\u001b[0m\u001b[1;33m)\u001b[0m\u001b[1;33m\u001b[0m\u001b[0m\n\u001b[0m\u001b[0;32m    455\u001b[0m \u001b[1;33m\u001b[0m\u001b[0m\n\u001b[0;32m    456\u001b[0m         \u001b[0mK_unconstr\u001b[0m \u001b[1;33m=\u001b[0m\u001b[0;31m \u001b[0m\u001b[0;31m\\\u001b[0m\u001b[1;33m\u001b[0m\u001b[0m\n",
      "\u001b[1;31mTypeError\u001b[0m: 'float' object cannot be interpreted as an integer"
     ]
    }
   ],
   "source": [
    "my_system2 = amfe.MechanicalAssembly()\n",
    "\n",
    "\n",
    "domain = m.set_domain('phys_group', 3)\n",
    "sub_dir1 = m.set_domain('phys_group', 1)\n",
    "sub_neu1 = m.set_domain('phys_group', 2)\n",
    "\n",
    "my_system2.append_domain(domain, my_material, 1)\n",
    "my_system2.update_global_system() \n",
    "\n",
    "my_system2.apply_dirichlet_boundaries(sub_dir1,0.0,'xy')\n",
    "\n",
    "load_case_dict = load_case[load_case_id]\n",
    "my_system2.apply_neumann_boundaries(sub_neu1,load_case_dict['value'], load_case_dict['direction'])\n",
    "\n",
    "my_system2.update_domain()\n",
    "\n",
    "s2 = amfe.LinearStaticsSolver(my_system2)\n",
    "s2.solve()\n",
    "amfe_disp_2 = my_system2.u_output[1]\n"
   ]
  },
  {
   "cell_type": "code",
   "execution_count": null,
   "metadata": {},
   "outputs": [],
   "source": [
    "domain"
   ]
  },
  {
   "cell_type": "code",
   "execution_count": null,
   "metadata": {
    "collapsed": true
   },
   "outputs": [],
   "source": []
  }
 ],
 "metadata": {
  "kernelspec": {
   "display_name": "Python 3",
   "language": "python",
   "name": "python3"
  },
  "language_info": {
   "codemirror_mode": {
    "name": "ipython",
    "version": 3
   },
   "file_extension": ".py",
   "mimetype": "text/x-python",
   "name": "python",
   "nbconvert_exporter": "python",
   "pygments_lexer": "ipython3",
   "version": "3.6.3"
  }
 },
 "nbformat": 4,
 "nbformat_minor": 2
}
